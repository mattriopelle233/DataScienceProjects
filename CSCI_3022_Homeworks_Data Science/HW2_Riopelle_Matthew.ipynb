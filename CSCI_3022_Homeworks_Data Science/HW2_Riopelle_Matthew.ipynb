{
 "cells": [
  {
   "cell_type": "markdown",
   "metadata": {},
   "source": [
    "# Homework 02: Data Visualization and Data Wrangling \n",
    "***\n",
    "\n",
    "**Name**: \n",
    "\n",
    "***\n",
    "\n",
    "This assignment is due on Canvas by **6:00PM on Friday September 9**. Your solutions to theoretical questions should be done in Markdown directly below the associated question.  Your solutions to computational questions should include any specified Python code and results as well as written commentary on your conclusions.  Remember that you are encouraged to discuss the problems with your classmates, but **you must write all code and solutions on your own**.\n",
    "\n",
    "**NOTES**: \n",
    "\n",
    "- Any relevant data sets should be available in the Homework 01 assignment write-up on Canvas. To make life easier on the grader if they need to run your code, do not change the relative path names here. Instead, move the files around on your computer.\n",
    "- If you're not familiar with typesetting math directly into Markdown then by all means, do your work on paper first and then typeset it later.  Remember that there is a [reference guide](https://math.meta.stackexchange.com/questions/5020/mathjax-basic-tutorial-and-quick-reference) linked on Canvas on writing math in Markdown. **All** of your written commentary, justifications and mathematical work should be in Markdown.\n",
    "- Because you can technically evaluate notebook cells is a non-linear order, it's a good idea to do $\\color{red}{\\text{Kernel}}$ $\\color{red}\\rightarrow$ $\\color{red}{\\text{Restart & Run All}}$ as a check before submitting your solutions.  That way if we need to run your code you will know that it will work as expected. \n",
    "- It is **bad form** to make your reader interpret numerical output from your code.  If a question asks you to compute some value from the data you should show your code output **AND** $\\color{red}{\\text{write a summary of the results}}$ in Markdown directly below your code. \n",
    "- This probably goes without saying, but... For any question that asks you to calculate something, you **must show all work and justify your answers to receive credit**. Sparse or nonexistent work will receive sparse or nonexistent credit. \n",
    "\n",
    "---"
   ]
  },
  {
   "cell_type": "markdown",
   "metadata": {},
   "source": [
    "As always, you should import Pandas and NumPy when you start working with data."
   ]
  },
  {
   "cell_type": "code",
   "execution_count": 1,
   "metadata": {},
   "outputs": [],
   "source": [
    "# Per the standard import pandas as 'pd' and numpy as 'np'\n",
    "import pandas as pd\n",
    "import numpy as np\n"
   ]
  },
  {
   "cell_type": "markdown",
   "metadata": {},
   "source": [
    "In this homework you will also be creating some graphs. Therefore, lets also load Matplotlib's Pylab library to set up Jupyter so that it will plot directly in the notebook.\n",
    "\n",
    "Pylab is a convenience module that bulk imports matplotlib.pyplot (for plotting) and NumPy (for working with arrays) in a single name space."
   ]
  },
  {
   "cell_type": "code",
   "execution_count": 2,
   "metadata": {},
   "outputs": [],
   "source": [
    "import matplotlib.pylab as plt\n",
    "%matplotlib inline \n",
    "    # 'inline' puts your graph in the cell versus a new popup window"
   ]
  },
  {
   "cell_type": "markdown",
   "metadata": {},
   "source": [
    "# Problem 1\n",
    "***\n",
    "We are tasked with a consulting job for a Hotel/Vacation booking startup called $\\color{red}{\\text{Hotels Everyone Loves Leasing}}$, or HELL.com (an unfortunate marketing snaffu).\n",
    "\n",
    "In order to advise HELL.com we will need to wrangle some data and see what story it has to tell before we advise the creators of this new booking website."
   ]
  },
  {
   "cell_type": "markdown",
   "metadata": {},
   "source": [
    "# Part A\n",
    "***1] (1 point) Read in the csv file, \"hotel_bookings.csv\"***\n",
    "\n",
    "For simplicity sake, put the data file in the same folder as the Jupyter notebook file.\n",
    "\n"
   ]
  },
  {
   "cell_type": "code",
   "execution_count": 3,
   "metadata": {},
   "outputs": [],
   "source": [
    "# Call your dataframe \"Hotel\" and be sure to preface it with a \"df\".\n",
    "# Per the standard naming procedure a prefix of \"df\" indicates a dataframe.\n",
    "# Therefore, to be specific, call your dataframe \"dfHotel\"\n",
    "\n",
    "# Read in the file here for #1\n",
    "dfHotel = pd.read_csv(\"hotel_bookings.csv\")"
   ]
  },
  {
   "cell_type": "markdown",
   "metadata": {},
   "source": [
    "***2] (1 point) Take a look at your data.***\n",
    "\n",
    "See the description of the data below to determine what each column represents.\n",
    "\n",
    "Always look at the data to determine if it needs cleaning; in reality data will nearly always need cleaned."
   ]
  },
  {
   "cell_type": "code",
   "execution_count": 4,
   "metadata": {},
   "outputs": [
    {
     "data": {
      "text/html": [
       "<div>\n",
       "<style scoped>\n",
       "    .dataframe tbody tr th:only-of-type {\n",
       "        vertical-align: middle;\n",
       "    }\n",
       "\n",
       "    .dataframe tbody tr th {\n",
       "        vertical-align: top;\n",
       "    }\n",
       "\n",
       "    .dataframe thead th {\n",
       "        text-align: right;\n",
       "    }\n",
       "</style>\n",
       "<table border=\"1\" class=\"dataframe\">\n",
       "  <thead>\n",
       "    <tr style=\"text-align: right;\">\n",
       "      <th></th>\n",
       "      <th>is_canceled</th>\n",
       "      <th>lead_time</th>\n",
       "      <th>arrival_date_week_number</th>\n",
       "      <th>arrival_date_day_of_month</th>\n",
       "      <th>stays_in_weekend_nights</th>\n",
       "      <th>stays_in_week_nights</th>\n",
       "      <th>adults</th>\n",
       "      <th>children</th>\n",
       "      <th>is_repeated_guest</th>\n",
       "      <th>agent</th>\n",
       "      <th>adr</th>\n",
       "      <th>total_of_special_requests</th>\n",
       "    </tr>\n",
       "  </thead>\n",
       "  <tbody>\n",
       "    <tr>\n",
       "      <th>count</th>\n",
       "      <td>119390.000000</td>\n",
       "      <td>119390.000000</td>\n",
       "      <td>119390.000000</td>\n",
       "      <td>119390.000000</td>\n",
       "      <td>119390.000000</td>\n",
       "      <td>119390.000000</td>\n",
       "      <td>119390.000000</td>\n",
       "      <td>119386.000000</td>\n",
       "      <td>119390.000000</td>\n",
       "      <td>103050.000000</td>\n",
       "      <td>119390.000000</td>\n",
       "      <td>119390.000000</td>\n",
       "    </tr>\n",
       "    <tr>\n",
       "      <th>mean</th>\n",
       "      <td>0.370416</td>\n",
       "      <td>104.011416</td>\n",
       "      <td>27.165173</td>\n",
       "      <td>15.798241</td>\n",
       "      <td>0.927599</td>\n",
       "      <td>2.500302</td>\n",
       "      <td>1.856403</td>\n",
       "      <td>0.103890</td>\n",
       "      <td>0.031912</td>\n",
       "      <td>86.693382</td>\n",
       "      <td>101.831122</td>\n",
       "      <td>0.571363</td>\n",
       "    </tr>\n",
       "    <tr>\n",
       "      <th>std</th>\n",
       "      <td>0.482918</td>\n",
       "      <td>106.863097</td>\n",
       "      <td>13.605138</td>\n",
       "      <td>8.780829</td>\n",
       "      <td>0.998613</td>\n",
       "      <td>1.908286</td>\n",
       "      <td>0.579261</td>\n",
       "      <td>0.398561</td>\n",
       "      <td>0.175767</td>\n",
       "      <td>110.774548</td>\n",
       "      <td>50.535790</td>\n",
       "      <td>0.792798</td>\n",
       "    </tr>\n",
       "    <tr>\n",
       "      <th>min</th>\n",
       "      <td>0.000000</td>\n",
       "      <td>0.000000</td>\n",
       "      <td>1.000000</td>\n",
       "      <td>1.000000</td>\n",
       "      <td>0.000000</td>\n",
       "      <td>0.000000</td>\n",
       "      <td>0.000000</td>\n",
       "      <td>0.000000</td>\n",
       "      <td>0.000000</td>\n",
       "      <td>1.000000</td>\n",
       "      <td>-6.380000</td>\n",
       "      <td>0.000000</td>\n",
       "    </tr>\n",
       "    <tr>\n",
       "      <th>25%</th>\n",
       "      <td>0.000000</td>\n",
       "      <td>18.000000</td>\n",
       "      <td>16.000000</td>\n",
       "      <td>8.000000</td>\n",
       "      <td>0.000000</td>\n",
       "      <td>1.000000</td>\n",
       "      <td>2.000000</td>\n",
       "      <td>0.000000</td>\n",
       "      <td>0.000000</td>\n",
       "      <td>9.000000</td>\n",
       "      <td>69.290000</td>\n",
       "      <td>0.000000</td>\n",
       "    </tr>\n",
       "    <tr>\n",
       "      <th>50%</th>\n",
       "      <td>0.000000</td>\n",
       "      <td>69.000000</td>\n",
       "      <td>28.000000</td>\n",
       "      <td>16.000000</td>\n",
       "      <td>1.000000</td>\n",
       "      <td>2.000000</td>\n",
       "      <td>2.000000</td>\n",
       "      <td>0.000000</td>\n",
       "      <td>0.000000</td>\n",
       "      <td>14.000000</td>\n",
       "      <td>94.575000</td>\n",
       "      <td>0.000000</td>\n",
       "    </tr>\n",
       "    <tr>\n",
       "      <th>75%</th>\n",
       "      <td>1.000000</td>\n",
       "      <td>160.000000</td>\n",
       "      <td>38.000000</td>\n",
       "      <td>23.000000</td>\n",
       "      <td>2.000000</td>\n",
       "      <td>3.000000</td>\n",
       "      <td>2.000000</td>\n",
       "      <td>0.000000</td>\n",
       "      <td>0.000000</td>\n",
       "      <td>229.000000</td>\n",
       "      <td>126.000000</td>\n",
       "      <td>1.000000</td>\n",
       "    </tr>\n",
       "    <tr>\n",
       "      <th>max</th>\n",
       "      <td>1.000000</td>\n",
       "      <td>737.000000</td>\n",
       "      <td>53.000000</td>\n",
       "      <td>31.000000</td>\n",
       "      <td>19.000000</td>\n",
       "      <td>50.000000</td>\n",
       "      <td>55.000000</td>\n",
       "      <td>10.000000</td>\n",
       "      <td>1.000000</td>\n",
       "      <td>535.000000</td>\n",
       "      <td>5400.000000</td>\n",
       "      <td>5.000000</td>\n",
       "    </tr>\n",
       "  </tbody>\n",
       "</table>\n",
       "</div>"
      ],
      "text/plain": [
       "         is_canceled      lead_time  arrival_date_week_number  \\\n",
       "count  119390.000000  119390.000000             119390.000000   \n",
       "mean        0.370416     104.011416                 27.165173   \n",
       "std         0.482918     106.863097                 13.605138   \n",
       "min         0.000000       0.000000                  1.000000   \n",
       "25%         0.000000      18.000000                 16.000000   \n",
       "50%         0.000000      69.000000                 28.000000   \n",
       "75%         1.000000     160.000000                 38.000000   \n",
       "max         1.000000     737.000000                 53.000000   \n",
       "\n",
       "       arrival_date_day_of_month  stays_in_weekend_nights  \\\n",
       "count              119390.000000            119390.000000   \n",
       "mean                   15.798241                 0.927599   \n",
       "std                     8.780829                 0.998613   \n",
       "min                     1.000000                 0.000000   \n",
       "25%                     8.000000                 0.000000   \n",
       "50%                    16.000000                 1.000000   \n",
       "75%                    23.000000                 2.000000   \n",
       "max                    31.000000                19.000000   \n",
       "\n",
       "       stays_in_week_nights         adults       children  is_repeated_guest  \\\n",
       "count         119390.000000  119390.000000  119386.000000      119390.000000   \n",
       "mean               2.500302       1.856403       0.103890           0.031912   \n",
       "std                1.908286       0.579261       0.398561           0.175767   \n",
       "min                0.000000       0.000000       0.000000           0.000000   \n",
       "25%                1.000000       2.000000       0.000000           0.000000   \n",
       "50%                2.000000       2.000000       0.000000           0.000000   \n",
       "75%                3.000000       2.000000       0.000000           0.000000   \n",
       "max               50.000000      55.000000      10.000000           1.000000   \n",
       "\n",
       "               agent            adr  total_of_special_requests  \n",
       "count  103050.000000  119390.000000              119390.000000  \n",
       "mean       86.693382     101.831122                   0.571363  \n",
       "std       110.774548      50.535790                   0.792798  \n",
       "min         1.000000      -6.380000                   0.000000  \n",
       "25%         9.000000      69.290000                   0.000000  \n",
       "50%        14.000000      94.575000                   0.000000  \n",
       "75%       229.000000     126.000000                   1.000000  \n",
       "max       535.000000    5400.000000                   5.000000  "
      ]
     },
     "execution_count": 4,
     "metadata": {},
     "output_type": "execute_result"
    }
   ],
   "source": [
    "# code here for part A, #2 to see all/partial dataframe\n",
    "dfHotel.describe()"
   ]
  },
  {
   "cell_type": "markdown",
   "metadata": {},
   "source": [
    "# Description of this data set\n",
    "The data set looks as if it has alreaded been 'cleaned'.\n",
    "\n",
    "**hotel**: This column lists the types of hotels that were booked.\n",
    "\n",
    "**is_cancelled**: This column indicates whether or not the booking was cancelled (1) or not (0).\n",
    "\n",
    "**lead_time**: This column is the number of days that elapsed between the entering date of the booking into the PMS and the arrival date.\n",
    "\n",
    "**arrival_date_week_number**: Week number of the year for arrival\n",
    "\n",
    "**arrival_date_day_of_month**: Day of arrival date.\n",
    "\n",
    "**stays_in_weekend_nights**: Number of weekend nights (Saturday or Sunday) the guest stayed or booked to stay at the hotel\n",
    "\n",
    "**stays_in_week_nights**: Number of week nights (Monday to Friday) the guest stayed or booked to stay at the hotel\n",
    "\n",
    "**adults**: number of adults\n",
    "\n",
    "**children**: number of children\n",
    "\n",
    "**distribution_channel**: Booking distribution channel. The term “TA” means “Travel Agents” and “TO” means “Tour Operators”\n",
    "\n",
    "**is_repeated guest**: Value indicating if the booking name was from a repeated guest (1) or not (0)\n",
    "\n",
    "**agent**: ID of the travel agency that made the booking\n",
    "\n",
    "**adr**: Average Daily Rate as defined by dividing the sum of all lodging transactions by the total number of staying nights\n",
    "\n",
    "**total_of_special_requests**: Number of special requests made by the customer (e.g. twin bed or high floor)"
   ]
  },
  {
   "cell_type": "markdown",
   "metadata": {},
   "source": [
    "# Part B\n",
    "***"
   ]
  },
  {
   "cell_type": "markdown",
   "metadata": {},
   "source": [
    "***1] (1 points) Which week-number of the year is the most common arrival week?***\n",
    "\n",
    "You can use `dfHotel.mode()` to find the mode for $\\color{red}{\\text{all columns}}$, and you can also use `dfHotel[\"arrival_date_week_number\"].mode()` to find the mode of $\\color{red}{\\text{just one column}}$, i.e. 'arrival_date_week_number'.\n",
    "\n",
    "However, when you use the latter, the return will be an index of 0 and then the mode you seek. https://pandas.pydata.org/docs/reference/api/pandas.DataFrame.mode.html\n"
   ]
  },
  {
   "cell_type": "code",
   "execution_count": 5,
   "metadata": {},
   "outputs": [
    {
     "name": "stdout",
     "output_type": "stream",
     "text": [
      "The most common week number for arrivals is:  33\n"
     ]
    }
   ],
   "source": [
    "# Code your solution to part B #1 here:\n",
    "commonWeek = dfHotel[\"arrival_date_week_number\"].mode()\n",
    "commonWeek = commonWeek[0]\n",
    "print(\"The most common week number for arrivals is: \", commonWeek)"
   ]
  },
  {
   "cell_type": "markdown",
   "metadata": {},
   "source": [
    "***2] (1 points) Purely by the number, did weekends see more bookings or weekdays?.***"
   ]
  },
  {
   "cell_type": "code",
   "execution_count": 6,
   "metadata": {},
   "outputs": [
    {
     "name": "stdout",
     "output_type": "stream",
     "text": [
      "There have been  110746  weekend nights stayed. \n",
      "There have been  298511  week nights stayed.\n",
      "Week nights have clearly seen more bookings.\n"
     ]
    }
   ],
   "source": [
    "# Code your solution to part B #2 here\n",
    "countWeekend = dfHotel[\"stays_in_weekend_nights\"].sum()\n",
    "countWeek = dfHotel[\"stays_in_week_nights\"].sum()\n",
    "print(\"There have been \", countWeekend, \" weekend nights stayed. \\nThere have been \", countWeek, \" week nights stayed.\")\n",
    "print(\"Week nights have clearly seen more bookings.\")"
   ]
  },
  {
   "cell_type": "markdown",
   "metadata": {},
   "source": [
    "***3] (1 points) How many rows are in this data set?***\n"
   ]
  },
  {
   "cell_type": "code",
   "execution_count": 7,
   "metadata": {},
   "outputs": [
    {
     "name": "stdout",
     "output_type": "stream",
     "text": [
      "There are  119390  rows in this data set.\n"
     ]
    }
   ],
   "source": [
    "# Code Part B #3 solution here (advice: use `len`)\n",
    "rows = len(dfHotel)\n",
    "print(\"There are \", rows, \" rows in this data set.\")"
   ]
  },
  {
   "cell_type": "markdown",
   "metadata": {},
   "source": [
    "***4] (1 points) How many types of hotels do we have information on?***\n"
   ]
  },
  {
   "cell_type": "code",
   "execution_count": 8,
   "metadata": {},
   "outputs": [
    {
     "name": "stdout",
     "output_type": "stream",
     "text": [
      "{'City Hotel', 'Resort Hotel'}\n",
      "As you can see, there are two types of hotels: city and resort hotels.\n"
     ]
    }
   ],
   "source": [
    "# Code Part B #4 solution here (advice: use `set` and/or `len`)\n",
    "print(set(dfHotel[\"hotel\"].values))\n",
    "print(\"As you can see, there are two types of hotels: city and resort hotels.\")"
   ]
  },
  {
   "cell_type": "markdown",
   "metadata": {},
   "source": [
    "***5] (1 points) Which type of hotel has more cancellations?***"
   ]
  },
  {
   "cell_type": "code",
   "execution_count": 9,
   "metadata": {},
   "outputs": [
    {
     "name": "stdout",
     "output_type": "stream",
     "text": [
      "City hotels have had  33102  cancellations.\n",
      "Resort hotels have had  11122  cancellations.\n",
      "City hotels have had more cancellations.\n"
     ]
    }
   ],
   "source": [
    "# Code Part B #5 solution here:\n",
    "#dfHotel['is_cancelled'] = dfHotel['is_cancelled'].astype(int)\n",
    "cityH = dfHotel.loc[dfHotel['hotel'] == 'City Hotel', 'is_canceled'].sum()\n",
    "resortH = dfHotel.loc[dfHotel['hotel'] == 'Resort Hotel', 'is_canceled'].sum()\n",
    "print(\"City hotels have had \", cityH, \" cancellations.\\nResort hotels have had \", resortH, \" cancellations.\")\n",
    "print(\"City hotels have had more cancellations.\")"
   ]
  },
  {
   "cell_type": "markdown",
   "metadata": {},
   "source": [
    "# Part C\n",
    "***"
   ]
  },
  {
   "cell_type": "markdown",
   "metadata": {},
   "source": [
    "'Hotels Everyone Loves Leasing' would now like some information about customer arrival dates.\n",
    "\n",
    "***1] (3 points) Create a $\\color{red}{\\text{density}}$ histogram for `arrival_date_day_of_month` ***\n",
    "\n",
    "*** Comment on the histogram shape (Right/Left skew, symmetric, uniform,...)***\n",
    "\n",
    "***What would you tell your advisees about the most common day of arrival?***\n"
   ]
  },
  {
   "cell_type": "code",
   "execution_count": 10,
   "metadata": {},
   "outputs": [
    {
     "data": {
      "text/plain": [
       "array([<AxesSubplot:title={'center':'arrival_date_day_of_month'}>],\n",
       "      dtype=object)"
      ]
     },
     "execution_count": 10,
     "metadata": {},
     "output_type": "execute_result"
    },
    {
     "data": {
      "image/png": "[encoded data removed]",
      "text/plain": [
       "<Figure size 576x288 with 1 Axes>"
      ]
     },
     "metadata": {
      "needs_background": "light"
     },
     "output_type": "display_data"
    }
   ],
   "source": [
    "# Code Part C #1 here\n",
    "#initializing figure\n",
    "my_bin = range(1,31,1)\n",
    "fig, ax = plt.subplots(figsize = (8,4))\n",
    "dfHotel.hist(column = 'arrival_date_day_of_month', ax=ax, bins = my_bin, density = True)   "
   ]
  },
  {
   "cell_type": "markdown",
   "metadata": {},
   "source": [
    "***Comment on histogram shape and advice in this cell.***\n",
    "\n",
    "ANS: The histogram shape is definitely skewed slightly left. It is mostly uniform throughout the month, although the last days of the month make an outlier for arrivals, making the graph slightly skewed. I would advise to have a significanty larger amount of staff on deck for the last couple days of the month, as that is when the majority of arrivals occur."
   ]
  },
  {
   "cell_type": "markdown",
   "metadata": {},
   "source": [
    "***2] (8 points) Give a 5-number summary and box-and-whisker plot for the week number of year for arrival date and advise on what you find.*** "
   ]
  },
  {
   "cell_type": "code",
   "execution_count": 11,
   "metadata": {},
   "outputs": [
    {
     "data": {
      "text/plain": [
       "count    119390.000000\n",
       "mean         27.165173\n",
       "std          13.605138\n",
       "min           1.000000\n",
       "25%          16.000000\n",
       "50%          28.000000\n",
       "75%          38.000000\n",
       "max          53.000000\n",
       "Name: arrival_date_week_number, dtype: float64"
      ]
     },
     "execution_count": 11,
     "metadata": {},
     "output_type": "execute_result"
    }
   ],
   "source": [
    "# put your code for Part C, #2 (5-number summary) in this cell\n",
    "dfHotel['arrival_date_week_number'].describe()"
   ]
  },
  {
   "cell_type": "code",
   "execution_count": 12,
   "metadata": {},
   "outputs": [
    {
     "data": {
      "text/plain": [
       "<AxesSubplot:>"
      ]
     },
     "execution_count": 12,
     "metadata": {},
     "output_type": "execute_result"
    },
    {
     "data": {
      "image/png": "[encoded data removed]",
      "text/plain": [
       "<Figure size 432x432 with 1 Axes>"
      ]
     },
     "metadata": {
      "needs_background": "light"
     },
     "output_type": "display_data"
    }
   ],
   "source": [
    "# put your code for Part C, #2 (box-and-whisker plot) in this cell\n",
    "fig = plt.figure(figsize=(6,6))\n",
    "ax = fig.add_subplot(111)\n",
    "dfHotel.boxplot(column = 'arrival_date_week_number', ax=ax)"
   ]
  },
  {
   "cell_type": "markdown",
   "metadata": {},
   "source": [
    "***Put your advice for week number of year for arrival date here.***\n",
    "\n",
    "ANS: This graph appears to be slightly left skewed. As we can notice, the median is 28, but the mode (from above) is 33, meaning that this is the most common week of arrival. It also seems that most customers come in between 16th and the 38th week (q1, q3), so upping staff during these weeks would be a great idea as these are the busiest times of year. "
   ]
  },
  {
   "cell_type": "markdown",
   "metadata": {},
   "source": [
    "# Part D\n",
    "***"
   ]
  },
  {
   "cell_type": "markdown",
   "metadata": {},
   "source": [
    "Now it is requested that you describe your findings concerning the lead time for hotel reservations.\n",
    "\n",
    "***1] (2 points) Create a $\\color{red}{\\text{frequency}}$ histogram of `lead_time`***"
   ]
  },
  {
   "cell_type": "code",
   "execution_count": 13,
   "metadata": {},
   "outputs": [
    {
     "data": {
      "text/plain": [
       "array([<AxesSubplot:title={'center':'lead_time'}>], dtype=object)"
      ]
     },
     "execution_count": 13,
     "metadata": {},
     "output_type": "execute_result"
    },
    {
     "data": {
      "image/png": "[encoded data removed]",
      "text/plain": [
       "<Figure size 576x576 with 1 Axes>"
      ]
     },
     "metadata": {
      "needs_background": "light"
     },
     "output_type": "display_data"
    }
   ],
   "source": [
    "# Code here for your answer to Part D, #1\n",
    "fig, ax = plt.subplots(figsize=(8,8))\n",
    "my_bins = range(0,737, 50)\n",
    "dfHotel.hist(column = 'lead_time', ax=ax, bins = my_bins)"
   ]
  },
  {
   "cell_type": "markdown",
   "metadata": {},
   "source": [
    "***2] (2 points) What shape is the histogram; right skew, left skew, symmetric, uniform,... and what does the histogram shape indicate about the number of days that elapsed between the entering date of the booking into the PMS and the arrival date.?***\n"
   ]
  },
  {
   "cell_type": "markdown",
   "metadata": {},
   "source": [
    "Answer to Part D #2 here: The historgram, when including all of the data values (min =0, max = 737) is skewed very far right. The shape indicates that most people have their lead time anywhere from 0-200 days, with the vast majority of those being in the first 50 days. This indicates that the majority of people book their hotels within 50 days of their arrival.\n"
   ]
  },
  {
   "cell_type": "markdown",
   "metadata": {},
   "source": [
    "***3] (2 points) What is the average (mean) lead time for all hotels?***"
   ]
  },
  {
   "cell_type": "code",
   "execution_count": 14,
   "metadata": {},
   "outputs": [
    {
     "name": "stdout",
     "output_type": "stream",
     "text": [
      "The average lead time for all hotels is 104.01141636652986 days.\n"
     ]
    }
   ],
   "source": [
    "# Code your answer for Part D #3 here.\n",
    "leadMean = dfHotel['lead_time'].mean()\n",
    "print(\"The average lead time for all hotels is\", leadMean, \"days.\")"
   ]
  },
  {
   "cell_type": "markdown",
   "metadata": {},
   "source": [
    "# Problem 2\n",
    "***\n",
    "\n",
    "For Problem 2 we are looking at the data from a study investigating school childrens intelligence. The data consists of 1500 participants and some of their data."
   ]
  },
  {
   "cell_type": "markdown",
   "metadata": {},
   "source": [
    "# Part A\n",
    "\n",
    "***1] (1 point) Read in the csv file, \"foot_smart.csv\".***\n",
    "\n",
    "Create a data frame called FootIQ and take a look at it."
   ]
  },
  {
   "cell_type": "code",
   "execution_count": 15,
   "metadata": {},
   "outputs": [
    {
     "data": {
      "text/html": [
       "<div>\n",
       "<style scoped>\n",
       "    .dataframe tbody tr th:only-of-type {\n",
       "        vertical-align: middle;\n",
       "    }\n",
       "\n",
       "    .dataframe tbody tr th {\n",
       "        vertical-align: top;\n",
       "    }\n",
       "\n",
       "    .dataframe thead th {\n",
       "        text-align: right;\n",
       "    }\n",
       "</style>\n",
       "<table border=\"1\" class=\"dataframe\">\n",
       "  <thead>\n",
       "    <tr style=\"text-align: right;\">\n",
       "      <th></th>\n",
       "      <th>foot_length</th>\n",
       "      <th>shoe_size</th>\n",
       "      <th>sex</th>\n",
       "      <th>IQ</th>\n",
       "      <th>US_section</th>\n",
       "      <th>city_size</th>\n",
       "    </tr>\n",
       "  </thead>\n",
       "  <tbody>\n",
       "    <tr>\n",
       "      <th>0</th>\n",
       "      <td>7.96</td>\n",
       "      <td>8</td>\n",
       "      <td>0</td>\n",
       "      <td>23.8</td>\n",
       "      <td>West</td>\n",
       "      <td>500K</td>\n",
       "    </tr>\n",
       "    <tr>\n",
       "      <th>1</th>\n",
       "      <td>6.76</td>\n",
       "      <td>7</td>\n",
       "      <td>0</td>\n",
       "      <td>21.3</td>\n",
       "      <td>West</td>\n",
       "      <td>500K</td>\n",
       "    </tr>\n",
       "    <tr>\n",
       "      <th>2</th>\n",
       "      <td>6.96</td>\n",
       "      <td>7</td>\n",
       "      <td>1</td>\n",
       "      <td>22.2</td>\n",
       "      <td>East</td>\n",
       "      <td>500K</td>\n",
       "    </tr>\n",
       "    <tr>\n",
       "      <th>3</th>\n",
       "      <td>7.86</td>\n",
       "      <td>8</td>\n",
       "      <td>1</td>\n",
       "      <td>25.3</td>\n",
       "      <td>East</td>\n",
       "      <td>100K</td>\n",
       "    </tr>\n",
       "    <tr>\n",
       "      <th>4</th>\n",
       "      <td>8.17</td>\n",
       "      <td>9</td>\n",
       "      <td>0</td>\n",
       "      <td>23.9</td>\n",
       "      <td>East</td>\n",
       "      <td>100K</td>\n",
       "    </tr>\n",
       "    <tr>\n",
       "      <th>5</th>\n",
       "      <td>7.00</td>\n",
       "      <td>8</td>\n",
       "      <td>0</td>\n",
       "      <td>22.5</td>\n",
       "      <td>East</td>\n",
       "      <td>1K</td>\n",
       "    </tr>\n",
       "    <tr>\n",
       "      <th>6</th>\n",
       "      <td>2.69</td>\n",
       "      <td>3</td>\n",
       "      <td>0</td>\n",
       "      <td>9.0</td>\n",
       "      <td>South</td>\n",
       "      <td>10K</td>\n",
       "    </tr>\n",
       "    <tr>\n",
       "      <th>7</th>\n",
       "      <td>5.47</td>\n",
       "      <td>6</td>\n",
       "      <td>1</td>\n",
       "      <td>16.5</td>\n",
       "      <td>South</td>\n",
       "      <td>1K</td>\n",
       "    </tr>\n",
       "    <tr>\n",
       "      <th>8</th>\n",
       "      <td>7.35</td>\n",
       "      <td>8</td>\n",
       "      <td>0</td>\n",
       "      <td>24.3</td>\n",
       "      <td>South</td>\n",
       "      <td>500K</td>\n",
       "    </tr>\n",
       "    <tr>\n",
       "      <th>9</th>\n",
       "      <td>6.61</td>\n",
       "      <td>7</td>\n",
       "      <td>1</td>\n",
       "      <td>20.8</td>\n",
       "      <td>East</td>\n",
       "      <td>1M</td>\n",
       "    </tr>\n",
       "  </tbody>\n",
       "</table>\n",
       "</div>"
      ],
      "text/plain": [
       "   foot_length  shoe_size  sex    IQ US_section city_size\n",
       "0         7.96          8    0  23.8       West      500K\n",
       "1         6.76          7    0  21.3       West      500K\n",
       "2         6.96          7    1  22.2       East      500K\n",
       "3         7.86          8    1  25.3       East      100K\n",
       "4         8.17          9    0  23.9       East      100K\n",
       "5         7.00          8    0  22.5       East        1K\n",
       "6         2.69          3    0   9.0      South       10K\n",
       "7         5.47          6    1  16.5      South        1K\n",
       "8         7.35          8    0  24.3      South      500K\n",
       "9         6.61          7    1  20.8       East        1M"
      ]
     },
     "execution_count": 15,
     "metadata": {},
     "output_type": "execute_result"
    }
   ],
   "source": [
    "# Read in the file and look at it here:\n",
    "dfFootIQ = pd.read_csv('foot_smart.csv')\n",
    "dfFootIQ.describe()\n",
    "dfFootIQ.head(10)"
   ]
  },
  {
   "cell_type": "markdown",
   "metadata": {},
   "source": [
    "# Description of this data Set\n",
    "\n",
    "This is a data set of 1500 participants. The participants are all children from 7 different schools. \n",
    "\n",
    "***foot_length:*** This is the length of the students foot in inches.\n",
    "\n",
    "***shoe_size:*** This is the size of the shoe worn by the student.\n",
    "\n",
    "***sex:*** This is the sex of the student: 0 female, 1 male.\n",
    "\n",
    "***IQ:*** This is a measure of intelligence as measured on a standard exam, scaled from 0 to 35.\n",
    "\n",
    "***US_section:*** This is the section of the U.S. that the student comes from.\n",
    "\n",
    "***city_size:*** This is the approximate size of the city (in thousands) from which the student came from."
   ]
  },
  {
   "cell_type": "markdown",
   "metadata": {},
   "source": [
    "***2] (4 points) Clean the data***\n",
    "\n",
    "Notice that `city_size` has data entered as '100K' for 100,000 and 1M for 1,000,000.\n",
    "\n",
    "Clean this column so that it holds integers such as 100000 and 1000000 instead of 100K and 1M. "
   ]
  },
  {
   "cell_type": "code",
   "execution_count": 16,
   "metadata": {},
   "outputs": [
    {
     "data": {
      "text/html": [
       "<div>\n",
       "<style scoped>\n",
       "    .dataframe tbody tr th:only-of-type {\n",
       "        vertical-align: middle;\n",
       "    }\n",
       "\n",
       "    .dataframe tbody tr th {\n",
       "        vertical-align: top;\n",
       "    }\n",
       "\n",
       "    .dataframe thead th {\n",
       "        text-align: right;\n",
       "    }\n",
       "</style>\n",
       "<table border=\"1\" class=\"dataframe\">\n",
       "  <thead>\n",
       "    <tr style=\"text-align: right;\">\n",
       "      <th></th>\n",
       "      <th>foot_length</th>\n",
       "      <th>shoe_size</th>\n",
       "      <th>sex</th>\n",
       "      <th>IQ</th>\n",
       "      <th>US_section</th>\n",
       "      <th>city_size</th>\n",
       "    </tr>\n",
       "  </thead>\n",
       "  <tbody>\n",
       "    <tr>\n",
       "      <th>0</th>\n",
       "      <td>7.96</td>\n",
       "      <td>8</td>\n",
       "      <td>0</td>\n",
       "      <td>23.8</td>\n",
       "      <td>West</td>\n",
       "      <td>500000</td>\n",
       "    </tr>\n",
       "    <tr>\n",
       "      <th>1</th>\n",
       "      <td>6.76</td>\n",
       "      <td>7</td>\n",
       "      <td>0</td>\n",
       "      <td>21.3</td>\n",
       "      <td>West</td>\n",
       "      <td>500000</td>\n",
       "    </tr>\n",
       "    <tr>\n",
       "      <th>2</th>\n",
       "      <td>6.96</td>\n",
       "      <td>7</td>\n",
       "      <td>1</td>\n",
       "      <td>22.2</td>\n",
       "      <td>East</td>\n",
       "      <td>500000</td>\n",
       "    </tr>\n",
       "    <tr>\n",
       "      <th>3</th>\n",
       "      <td>7.86</td>\n",
       "      <td>8</td>\n",
       "      <td>1</td>\n",
       "      <td>25.3</td>\n",
       "      <td>East</td>\n",
       "      <td>100000</td>\n",
       "    </tr>\n",
       "    <tr>\n",
       "      <th>4</th>\n",
       "      <td>8.17</td>\n",
       "      <td>9</td>\n",
       "      <td>0</td>\n",
       "      <td>23.9</td>\n",
       "      <td>East</td>\n",
       "      <td>100000</td>\n",
       "    </tr>\n",
       "    <tr>\n",
       "      <th>5</th>\n",
       "      <td>7.00</td>\n",
       "      <td>8</td>\n",
       "      <td>0</td>\n",
       "      <td>22.5</td>\n",
       "      <td>East</td>\n",
       "      <td>1000</td>\n",
       "    </tr>\n",
       "    <tr>\n",
       "      <th>6</th>\n",
       "      <td>2.69</td>\n",
       "      <td>3</td>\n",
       "      <td>0</td>\n",
       "      <td>9.0</td>\n",
       "      <td>South</td>\n",
       "      <td>10000</td>\n",
       "    </tr>\n",
       "    <tr>\n",
       "      <th>7</th>\n",
       "      <td>5.47</td>\n",
       "      <td>6</td>\n",
       "      <td>1</td>\n",
       "      <td>16.5</td>\n",
       "      <td>South</td>\n",
       "      <td>1000</td>\n",
       "    </tr>\n",
       "    <tr>\n",
       "      <th>8</th>\n",
       "      <td>7.35</td>\n",
       "      <td>8</td>\n",
       "      <td>0</td>\n",
       "      <td>24.3</td>\n",
       "      <td>South</td>\n",
       "      <td>500000</td>\n",
       "    </tr>\n",
       "    <tr>\n",
       "      <th>9</th>\n",
       "      <td>6.61</td>\n",
       "      <td>7</td>\n",
       "      <td>1</td>\n",
       "      <td>20.8</td>\n",
       "      <td>East</td>\n",
       "      <td>1000000</td>\n",
       "    </tr>\n",
       "  </tbody>\n",
       "</table>\n",
       "</div>"
      ],
      "text/plain": [
       "   foot_length  shoe_size  sex    IQ US_section  city_size\n",
       "0         7.96          8    0  23.8       West     500000\n",
       "1         6.76          7    0  21.3       West     500000\n",
       "2         6.96          7    1  22.2       East     500000\n",
       "3         7.86          8    1  25.3       East     100000\n",
       "4         8.17          9    0  23.9       East     100000\n",
       "5         7.00          8    0  22.5       East       1000\n",
       "6         2.69          3    0   9.0      South      10000\n",
       "7         5.47          6    1  16.5      South       1000\n",
       "8         7.35          8    0  24.3      South     500000\n",
       "9         6.61          7    1  20.8       East    1000000"
      ]
     },
     "execution_count": 16,
     "metadata": {},
     "output_type": "execute_result"
    }
   ],
   "source": [
    "#Code here for #2 and cleaning the data\n",
    "dfFootIQ['city_size'] = dfFootIQ['city_size'].str.replace('K','000')\n",
    "dfFootIQ['city_size'] = dfFootIQ['city_size'].str.replace('M','000000')\n",
    "dfFootIQ['city_size'] = dfFootIQ['city_size'].astype(int)\n",
    "dfFootIQ.head(10)"
   ]
  },
  {
   "cell_type": "code",
   "execution_count": null,
   "metadata": {},
   "outputs": [],
   "source": []
  },
  {
   "cell_type": "markdown",
   "metadata": {},
   "source": [
    "# Part B\n",
    "***"
   ]
  },
  {
   "cell_type": "markdown",
   "metadata": {},
   "source": [
    "***Suppose we were to make a scatterplot for foot length and city size (`foot_length` and `city_size`).***\n",
    "\n",
    "***Note (i)*** The scatter plot has discrete values on the y-axis which makes the 'scatter plot' look like lines.\n",
    "\n",
    "***Note (ii)*** There is no discernible pattern. The city's of various sizes (on the y-axis) contain students with shoe sizes (on the x-axis) all across the shoe-size spectrum. Meaning students of a particular shoe size do not tend to congregate in citys  of a particular size.\n",
    "\n",
    "This seems to be common sense; for instance, there is no reason why every student of shoe size 7 would come from a city of size 500,000."
   ]
  },
  {
   "cell_type": "code",
   "execution_count": 17,
   "metadata": {},
   "outputs": [
    {
     "data": {
      "image/png": "[encoded data removed]",
      "text/plain": [
       "<Figure size 432x288 with 1 Axes>"
      ]
     },
     "metadata": {
      "needs_background": "light"
     },
     "output_type": "display_data"
    }
   ],
   "source": [
    "# Uncomment the code below and run it.\n",
    "ax1 = dfFootIQ.plot.scatter(x=['foot_length'], y=['city_size'])"
   ]
  },
  {
   "cell_type": "markdown",
   "metadata": {},
   "source": [
    "***Make two scatterplots:***\n",
    "\n",
    "   1] ***(2 points)*** A scatterplot for shoe_size and IQ\n",
    "\n",
    "   2] ***(2 points)*** A scatterplot for foot_length and IQ\n",
    "\n",
    "Note: these two scatterplots should reveal the same thing since shoe size and foot lenght are really the same thing. The scatterplots will look different though since shoe size is discrete and foot length is continuous.\n",
    "\n",
    "3] ***(1 point)*** Explain your findings. Either explain why no pattern is found, or if you detect a pattern, then explain why such a pattern exists between shoe size and intelligence."
   ]
  },
  {
   "cell_type": "code",
   "execution_count": 18,
   "metadata": {},
   "outputs": [
    {
     "data": {
      "image/png": "[encoded data removed]",
      "text/plain": [
       "<Figure size 432x288 with 1 Axes>"
      ]
     },
     "metadata": {
      "needs_background": "light"
     },
     "output_type": "display_data"
    },
    {
     "data": {
      "image/png": "[encoded data removed]",
      "text/plain": [
       "<Figure size 432x288 with 1 Axes>"
      ]
     },
     "metadata": {
      "needs_background": "light"
     },
     "output_type": "display_data"
    }
   ],
   "source": [
    "# Code your scatterplots for Part B here\n",
    "ax2 = dfFootIQ.plot.scatter(x=['shoe_size'], y=['IQ'])\n",
    "ax3 = dfFootIQ.plot.scatter(x=['foot_length'], y=['IQ'])"
   ]
  },
  {
   "cell_type": "markdown",
   "metadata": {},
   "source": [
    "***Explain your scatterplot findings for Part B here:***\n",
    "Very interestingly, it seems that there actually is a correlation with shoe size/foot length and IQ. Although there is overlap in IQ from different shoe sizes and foot length, it seems that both (we are essentially measuring the same thing) indicate a higher IQ comes with a larger foot/shoe size."
   ]
  },
  {
   "cell_type": "markdown",
   "metadata": {},
   "source": [
    "# Problem 3\n",
    "***"
   ]
  },
  {
   "cell_type": "markdown",
   "metadata": {},
   "source": [
    "# Part A\n",
    "The mean of a set of data should of course change if/when the values in the data set change.\n",
    "\n",
    "The code in the cell below finds the mean shoe size for the dfFootIQ data\n"
   ]
  },
  {
   "cell_type": "code",
   "execution_count": 19,
   "metadata": {},
   "outputs": [
    {
     "name": "stdout",
     "output_type": "stream",
     "text": [
      "The mean shoe size is  7.556666666666667\n"
     ]
    }
   ],
   "source": [
    "# Uncomment the code below and run it\n",
    "print(\"The mean shoe size is \", (dfFootIQ[\"shoe_size\"]).mean())"
   ]
  },
  {
   "cell_type": "markdown",
   "metadata": {},
   "source": [
    "Now, suppose you add 2 to each shoe size in the data set. How will the mean change?"
   ]
  },
  {
   "cell_type": "code",
   "execution_count": 20,
   "metadata": {},
   "outputs": [
    {
     "name": "stdout",
     "output_type": "stream",
     "text": [
      "The mean shoe size with 2 added to each entry is  9.556666666666667\n"
     ]
    }
   ],
   "source": [
    "# Uncomment the code below and run it.\n",
    "print(\"The mean shoe size with 2 added to each entry is \", (dfFootIQ[\"shoe_size\"]+2).mean())"
   ]
  },
  {
   "cell_type": "markdown",
   "metadata": {},
   "source": [
    "***(4 points)*** It appears that the mean simply increases by 2. Does adding 'a' to each data point simply increase the mean by 'a'? ***Prove it.***\n",
    "\n",
    "Recall the formula for mean:\n",
    "\n",
    "$$\\bar{x} = \\frac{1}{n} \\displaystyle\\sum_{k=1}^n x_k$$\n"
   ]
  },
  {
   "cell_type": "markdown",
   "metadata": {},
   "source": [
    "***Written (LaTeX) proof for part A goes here:***\n",
    "\n",
    "Adding int 'a' to both sides of the equation$$\\bar{x} + a = \\frac{1}{n}\\sum_{k=1}^n x_{k} + a$$ \n",
    "Seperating the addition to two seperate summations$$=\\frac{1}{n}\\cdot(\\sum_{k=1}^nx_{k} + \\sum_{k=1}^n a)$$\n",
    "The summation of a constant is simply n times the constant$$=\\frac{1}{n}\\cdot(\\sum_{k=1}^nx_{k} + a\\cdot n)$$\n",
    "Multiplying by 1 div n$$=\\frac{\\sum_{k=1}^nx_{k}}{n} + a$$\n",
    "Applying the formula for mean to summation equation$$=\\bar{x} + a$$\n",
    "\n",
    "When adding a value to the mean, we were able to show the values are equal on the LHS and RHS, and therefore a mean is simply added by the number which is being added to the rest of the data set. QED"
   ]
  },
  {
   "cell_type": "markdown",
   "metadata": {},
   "source": [
    "# Part B\n",
    "The standard deviation of a set of data should of course change if/when the values in the data set change.\n",
    "\n",
    "The code in the cell below finds the standard deviation for 'shoe size' in the dfFootIQ data."
   ]
  },
  {
   "cell_type": "code",
   "execution_count": 21,
   "metadata": {},
   "outputs": [
    {
     "name": "stdout",
     "output_type": "stream",
     "text": [
      "Standard deviation for shoe size is  1.224113771362388\n"
     ]
    }
   ],
   "source": [
    "# Uncomment the code below and run it.\n",
    "print(\"Standard deviation for shoe size is \", (dfFootIQ[\"shoe_size\"]).std())"
   ]
  },
  {
   "cell_type": "markdown",
   "metadata": {},
   "source": [
    "Now, suppose we add 2 to each shoe sizein the data set. How will the standard deviation change?"
   ]
  },
  {
   "cell_type": "code",
   "execution_count": 22,
   "metadata": {},
   "outputs": [
    {
     "name": "stdout",
     "output_type": "stream",
     "text": [
      "The standard deviation with 2 added to each entry is  1.224113771362388\n"
     ]
    }
   ],
   "source": [
    "# Uncomment the code below and run it.\n",
    "print(\"The standard deviation with 2 added to each entry is \", (dfFootIQ[\"shoe_size\"]+2).std())\n"
   ]
  },
  {
   "cell_type": "markdown",
   "metadata": {},
   "source": [
    "***(4 points)*** It appears as if the standard deviation doesn't change at all after the addition of 2 to each data point. Is it always true that adding 'a' to each data point does not change the standard deviation? ***Prove it.***\n",
    "\n",
    "Recall the formula for standard deviation:\n",
    "\n",
    "$$s = \\sqrt{\\frac{1}{n-1} \\sum_{k=1}^n \\left( x_k - \\bar{x}\\right)^2} $$\n"
   ]
  },
  {
   "cell_type": "markdown",
   "metadata": {},
   "source": [
    "***Proof for part B goes here:***\n",
    "\n",
    "Adding a to each value in summation, while also converting the mean to be consistent with above proof\n",
    "$$s + a = \\sqrt{\\frac{1}{n-1} \\sum_{k=1}^n \\left( (x_k + a) - (\\bar{x} + a)\\right)^2} $$\n",
    "Distributing the negative inside parantheses$$s + a = \\sqrt{\\frac{1}{n-1} \\sum_{k=1}^n \\left( x_k + a - \\bar{x} - a\\right)^2} $$\n",
    "Cancelling out the a variable$$s + a = \\sqrt{\\frac{1}{n-1} \\sum_{k=1}^n \\left( x_k - \\bar{x}\\right)^2} $$\n",
    "\n",
    "QED. We can see that adding a number to all values of a dataset results in the same standard deviation. This is because deviation is simply measuring how far apart the values are from each other, so adding a value to all data will shift the mean up, but the differences of values remains the same, so std dev remains the same"
   ]
  },
  {
   "cell_type": "markdown",
   "metadata": {},
   "source": [
    "# Part C\n",
    "Suppose each data point in `shoe_size` were to be multiplied by 5."
   ]
  },
  {
   "cell_type": "code",
   "execution_count": 23,
   "metadata": {},
   "outputs": [
    {
     "name": "stdout",
     "output_type": "stream",
     "text": [
      "The mean shoe size is  7.556666666666667\n",
      "The mean after each shoe size is multiplied by 5 is   37.78333333333333\n"
     ]
    }
   ],
   "source": [
    "# Uncomment the code below and run it.\n",
    "print(\"The mean shoe size is \", (dfFootIQ[\"shoe_size\"]).mean())\n",
    "print(\"The mean after each shoe size is multiplied by 5 is  \", (dfFootIQ[\"shoe_size\"]*5).mean())"
   ]
  },
  {
   "cell_type": "markdown",
   "metadata": {},
   "source": [
    "***(4 points)*** Prove the pattern that you notice above will occur every time under multiplication."
   ]
  },
  {
   "cell_type": "markdown",
   "metadata": {},
   "source": [
    "***Proof for part C goes Here:***\n",
    "\n",
    "Formula for mean$$\\bar{x} = \\frac{1}{n}\\cdot\\sum_{k=1}^nx_{k}$$\n",
    "Multiplying both sides by a (all data is multiplied by a)$$\\bar{x}\\cdot a = \\frac{1}{n}\\cdot\\sum_{k=1}^nx_{k}\\cdot a$$\n",
    "Using summation rules to pull a to the outside$$= a\\cdot\\frac{1}{n}\\cdot\\sum_{k=1}^nx_{k}$$\n",
    "Using formula for mean to reduce statement to x bar$$a\\cdot\\bar{x}$$\n",
    "\n",
    "QED. As you can see, multiplying a constant to all values in a data set will simply multiply the mean by that constant as well"
   ]
  },
  {
   "cell_type": "markdown",
   "metadata": {},
   "source": [
    "# Part D\n",
    "\n",
    "Again, suppose each data point in `shoe_size` were to be multiplied by 5."
   ]
  },
  {
   "cell_type": "code",
   "execution_count": 24,
   "metadata": {},
   "outputs": [
    {
     "name": "stdout",
     "output_type": "stream",
     "text": [
      "The shoe size standard deviation is  1.224113771362388\n",
      "The shoe size standard deviation after multiplying each point by 5 is  6.120568856811966\n"
     ]
    }
   ],
   "source": [
    "# Uncomment the code below and run it. \n",
    "\n",
    "print(\"The shoe size standard deviation is \", (dfFootIQ[\"shoe_size\"]).std())\n",
    "print(\"The shoe size standard deviation after multiplying each point by 5 is \", (dfFootIQ[\"shoe_size\"]*5).std())\n",
    "\n"
   ]
  },
  {
   "cell_type": "markdown",
   "metadata": {},
   "source": [
    "***(4 points)*** Prove the pattern that you notice above will occur every time under multiplication."
   ]
  },
  {
   "cell_type": "markdown",
   "metadata": {},
   "source": [
    "***Proof for part D goes here: ***\n",
    "\n",
    "Formula for std dev$$s = \\sqrt{\\frac{1}{n-1} \\sum_{k=1}^n \\left( x_k - \\bar{x}\\right)^2} $$\n",
    "Multiplying the values, and mean by ratio a$$s\\cdot a = \\sqrt{\\frac{1}{n-1} \\sum_{k=1}^n \\left( x_k\\cdot a - \\bar{x} \\cdot a\\right)^2} $$\n",
    "Pulling the a out of the subtraction$$=\\sqrt{\\frac{1}{n-1} \\sum_{k=1}^n \\left(a\\cdot(x_k - \\bar{x}\\right))^2} $$\n",
    "Pulling the a and squaring according to the laws of exponents(power of product)$$=\\sqrt{\\frac{1}{n-1} \\sum_{k=1}^n a^2\\left(x_k - \\bar{x}\\right)^2} $$\n",
    "Pulling the a out of summation (constant summation rule)$$=\\sqrt{\\frac{a^2}{n-1} \\sum_{k=1}^n \\left(x_k - \\bar{x}\\right)^2} $$\n",
    "square rooting the a, placing outside the sqrt$$=a\\cdot\\sqrt{\\frac{1}{n-1} \\sum_{k=1}^n \\left(x_k - \\bar{x}\\right)^2} $$\n",
    "Applying the formula for std dev$$a\\cdot s$$\n",
    "\n",
    "QED. As shown above, when all the data is multiplied by a constant a, the std deviation is also multiplied by constant a."
   ]
  },
  {
   "cell_type": "code",
   "execution_count": null,
   "metadata": {},
   "outputs": [],
   "source": []
  }
 ],
 "metadata": {
  "kernelspec": {
   "display_name": "Python 3 (ipykernel)",
   "language": "python",
   "name": "python3"
  },
  "language_info": {
   "codemirror_mode": {
    "name": "ipython",
    "version": 3
   },
   "file_extension": ".py",
   "mimetype": "text/x-python",
   "name": "python",
   "nbconvert_exporter": "python",
   "pygments_lexer": "ipython3",
   "version": "3.10.8"
  }
 },
 "nbformat": 4,
 "nbformat_minor": 4
}
