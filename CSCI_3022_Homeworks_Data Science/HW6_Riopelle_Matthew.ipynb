{
 "cells": [
  {
   "cell_type": "markdown",
   "metadata": {},
   "source": [
    "# Homework 06: Expected Value and Variance\n",
    "***\n",
    "\n",
    "**Name**: Matthew Riopelle\n",
    "\n",
    "***\n",
    "\n",
    "This assignment is due on Canvas by **6:00PM on Friday October 7**. Your solutions to theoretical questions should be done in Markdown directly below the associated question.  Your solutions to computational questions should include any specified Python code and results as well as written commentary on your conclusions.  Remember that you are encouraged to discuss the problems with your classmates, but **you must write all code and solutions on your own**.\n",
    "\n",
    "**NOTES**: \n",
    "\n",
    "- Any relevant data sets should be available in the Homework 01 assignment write-up on Canvas. To make life easier on the grader if they need to run your code, do not change the relative path names here. Instead, move the files around on your computer.\n",
    "- If you're not familiar with typesetting math directly into Markdown then by all means, do your work on paper first and then typeset it later.  Remember that there is a [reference guide](https://math.meta.stackexchange.com/questions/5020/mathjax-basic-tutorial-and-quick-reference) linked on Canvas on writing math in Markdown. **All** of your written commentary, justifications and mathematical work should be in Markdown.\n",
    "- Because you can technically evaluate notebook cells is a non-linear order, it's a good idea to do $\\color{red}{\\text{Kernel}}$ $\\color{red}\\rightarrow$ $\\color{red}{\\text{Restart & Run All}}$ as a check before submitting your solutions.  That way if we need to run your code you will know that it will work as expected. \n",
    "- It is **bad form** to make your reader interpret numerical output from your code.  If a question asks you to compute some value from the data you should show your code output **AND** $\\color{red}{\\text{write a summary of the results}}$ in Markdown directly below your code. \n",
    "- This probably goes without saying, but... For any question that asks you to calculate something, you **must show all work and justify your answers to receive credit**. Sparse or nonexistent work will receive sparse or nonexistent credit. \n",
    "\n",
    "---"
   ]
  },
  {
   "cell_type": "markdown",
   "metadata": {},
   "source": [
    "Import Pandas, NumPy, and matplotlib.pylab."
   ]
  },
  {
   "cell_type": "code",
   "execution_count": 1,
   "metadata": {},
   "outputs": [],
   "source": [
    "import pandas as pd\n",
    "import numpy as np\n",
    "import matplotlib.pylab as plt\n",
    "%matplotlib inline "
   ]
  },
  {
   "cell_type": "markdown",
   "metadata": {},
   "source": [
    "# Problem 1\n",
    "***\n",
    "Consider a continuous random variable $X$ with a PDF given by:\n",
    "\n",
    "$f(x)=\n",
    "    \\begin{cases}\n",
    "        \\frac{1}{10}(1-\\frac{1}{20}x) & \\text{if } 0\\leq x\\leq20\\\\\n",
    "        0 & \\text{elsewhere} \n",
    "    \\end{cases}$\n",
    "    \n",
    "Furthermore, consider $Y$ to be a random variable with values $Y=3X+5$."
   ]
  },
  {
   "cell_type": "markdown",
   "metadata": {},
   "source": [
    "### Part A\n",
    "\n",
    "***(2 points)*** Show that $f(x)$ is a valid PDF."
   ]
  },
  {
   "cell_type": "markdown",
   "metadata": {},
   "source": [
    "***solution:*** Put your solution to Part A here:\n",
    "\n",
    "A PDF is valid if \n",
    "\n",
    "1) $f(x) \\geq 0$ for all x\n",
    "\n",
    "2)$\\int_{-\\infty}^{\\infty}f(x) dx = 1$\n",
    "\n",
    "$\\frac{1}{10}\\cdot(1-\\frac{1}{20}x)$ is positive for $0 \\leq x \\leq 20$\n",
    "\n",
    "Now, we will take the integral from 0 to 20, as that is the only place the pdf is defined:\n",
    "\n",
    "$\\frac{1}{10} \\cdot \\int_{0}^{20}(1-\\frac{x}{20}) dx$\n",
    "\n",
    "$\\frac{1}{10} \\cdot [x - \\frac{x^{2}}{40}]_{0}^{20}$\n",
    "\n",
    "$\\frac{1}{10} \\cdot [20 - \\frac{400}{40} - (0-0)]$\n",
    "\n",
    "$\\frac{1}{10} \\cdot [20-10]$\n",
    "\n",
    "$= 1$\n",
    "\n",
    "f(x) is a valid PDF"
   ]
  },
  {
   "cell_type": "markdown",
   "metadata": {},
   "source": [
    "### Part B\n",
    "\n",
    "***(2 points)*** Find $E[X]$."
   ]
  },
  {
   "cell_type": "markdown",
   "metadata": {},
   "source": [
    "***solution:*** Put your solution to Part B here:\n",
    "\n",
    "The expected value of a continous variable is defined as follows:\n",
    "\n",
    "$\\int_{-\\infty}^{\\infty} (x \\cdot f(x)) dx$\n",
    "\n",
    "Knowing our PDF is defined from 0, 20, these will be our bounds. We will multiply x and evaluate f(x)\n",
    "\n",
    "$\\int_{0}^{20}x \\cdot (\\frac{1}{10} - \\frac{x}{200}) dx$\n",
    "\n",
    "$\\int_{0}^{20} (\\frac{x}{10} - \\frac{x^{2}}{200}) dx$\n",
    "\n",
    "$[\\frac{x^2}{20} - \\frac{x^3}{600}]_{0}^{20}$\n",
    "\n",
    "$\\frac{20^2}{20} - \\frac{20^3}{600} - (0 - 0)$\n",
    "\n",
    "$20 - \\frac{8000}{600}$\n",
    "\n",
    "$20 - 13.33333$\n",
    "\n",
    "$6.67$\n",
    "\n",
    "The expected value of $f(x)$ will be 6.67"
   ]
  },
  {
   "cell_type": "markdown",
   "metadata": {},
   "source": [
    "### Part C\n",
    "\n",
    "***(2 points)*** Find $Var(X)$. "
   ]
  },
  {
   "cell_type": "markdown",
   "metadata": {},
   "source": [
    "***solution:*** Put your solution to part C here:\n",
    "\n",
    "We know the following:\n",
    "\n",
    "$Var(X) = E[X^2] - (E[X])^2$\n",
    "\n",
    "We will first find\n",
    "\n",
    "$E[X^2] = \\frac{1}{10} \\int_{0}^{20}x^2 \\cdot (1-\\frac{1}{20}x)dx$\n",
    "\n",
    "$=\\frac{1}{10} \\int_{0}^{20}(x^2-\\frac{x^3}{20})dx$\n",
    "\n",
    "$\\frac{1}{10}\\cdot[\\frac{x^3}{3} - \\frac{x^4}{80}]_0^{20}$\n",
    "\n",
    "$\\frac{1}{10} \\cdot [\\frac{20^3}{3} - \\frac{20^4}{80} - (0-0)]$\n",
    "\n",
    "$\\frac{1}{10} \\cdot [\\frac{8000}{3} - \\frac{160000}{80}]$\n",
    "\n",
    "$\\frac{1}{10} \\cdot [2666.\\overline{6} - 2000]$\n",
    "\n",
    "$66.67$\n",
    "\n",
    "Now we will simply square $E[X]$ from above to get $(E[X])^2$\n",
    "\n",
    "$(E[X])^2 = (6.67)^2$\n",
    "\n",
    "Now we will plug in values:\n",
    "\n",
    "$Var(X) = E[X^2] - (E[X])^2$\n",
    "\n",
    "$66.67 - 44.44$\n",
    "\n",
    "$22.23$\n",
    "\n",
    "Var(X) is roughly 22.23"
   ]
  },
  {
   "cell_type": "markdown",
   "metadata": {},
   "source": [
    "### Part D\n",
    "\n",
    "***(2 points)*** Find $E[Y]$."
   ]
  },
  {
   "cell_type": "markdown",
   "metadata": {},
   "source": [
    "***solution:*** Put your solution to part D here:\n",
    "\n",
    "We have \n",
    "\n",
    "$y = 3x + 5$\n",
    "\n",
    "When given formulas in the form:\n",
    "\n",
    "$y(x) = rx + s$\n",
    "\n",
    "We can deduce that\n",
    "\n",
    "$E[Y] = rE[X] + s$\n",
    "\n",
    "Plugging into the formula:\n",
    "\n",
    "$E[Y] = 3E[X] + 5$\n",
    "\n",
    "$3 \\cdot (6.67) + 5$\n",
    "\n",
    "$20 + 5$\n",
    "\n",
    "$25$\n",
    "\n",
    "Therefore:\n",
    "\n",
    "$E[Y] = 25$"
   ]
  },
  {
   "cell_type": "markdown",
   "metadata": {},
   "source": [
    "### Part E\n",
    "\n",
    "***(2 points)*** Find $Var(Y)$."
   ]
  },
  {
   "cell_type": "markdown",
   "metadata": {},
   "source": [
    "***solution:*** Put your solution to part E here:\n",
    "\n",
    "We know that:\n",
    "\n",
    "$Var(rx + s) = r^2\\cdot Var(x)$\n",
    "\n",
    "And we are looking for:\n",
    "\n",
    "$Var(3x + 5)$\n",
    "\n",
    "Plugging in:\n",
    "\n",
    "$Var(Y) = 3^2 \\cdot Var(x)$\n",
    "\n",
    "$=9 \\cdot (22.23)$\n",
    "\n",
    "$= 200.07$\n",
    "\n",
    "Var(Y) is roughly 200.07"
   ]
  },
  {
   "cell_type": "markdown",
   "metadata": {},
   "source": [
    "# Problem 2\n",
    "***\n",
    "\n",
    "![image](wheel.png)\n",
    "\n",
    "Consider the American roulette wheel as pictured above. "
   ]
  },
  {
   "cell_type": "markdown",
   "metadata": {},
   "source": [
    "### Part A\n",
    "\n",
    "Suppose you decide to bet on red23 over and over and over again UNTIL you win, then you'll stop playing.\n",
    "\n",
    "Winning means the ball lands on the red23 slot - and it has an equal chance of landing in any of the slots. \n",
    "\n",
    "So, you might play only once (if you win in one game.) Or, perhaps you'll play twice, or three times, etc. before you win. \n",
    "\n",
    "Let $X$ be the random variable, \"Number of times you play till you win.\"\n",
    "\n",
    "***(2 points)*** How many times do you expect to play before you win?"
   ]
  },
  {
   "cell_type": "markdown",
   "metadata": {},
   "source": [
    "***solution:*** Put your answer to Part A here:\n",
    "\n",
    "There are 36 numbers from 1-36, then a 0 and a 00 on the roulette board. That means that at each spin, we have a $\\frac{1}{38}$ chance of landing on the number 23 (the color is irrelevant here).\n",
    "\n",
    "This means that you would have to spin 38 times until you are expected to win."
   ]
  },
  {
   "cell_type": "markdown",
   "metadata": {},
   "source": [
    "### Part B\n",
    "\n",
    "***(3 points)*** What is the probability that you don't win until your 4th attempt?"
   ]
  },
  {
   "cell_type": "markdown",
   "metadata": {},
   "source": [
    "***solution:*** Put your answer to Part B here:\n",
    "\n",
    "This means that we are taking the probability of winning on the 4th attempt. We will take $p = \\frac{1}{38}$ and n = 4 and plug into the formmula:\n",
    "\n",
    "$P(X = n) = (1-p)^{n-1}\\cdot p$\n",
    "\n",
    "$P(X = 4) = (1-\\frac{1}{38})^3 \\cdot \\frac{1}{38}$\n",
    "\n",
    "$= 0.02429242025$\n",
    "\n",
    "Therefore, you have roughly a 2.4% chance of winning on your 4th attempt."
   ]
  },
  {
   "cell_type": "markdown",
   "metadata": {},
   "source": [
    "### Part C\n",
    "\n",
    "Recall from Calculus that a geometric series with ratio $r$ diverges if $|r|>1$, but if $0<|r|<1$ then the series converges:\n",
    "\n",
    "$\\displaystyle{\\sum_{n=0}^{\\infty}ar^n=\\frac{a}{1-r}}$.\n",
    "\n",
    "Therefore, for $0<p<1$, we have $\\displaystyle{\\sum_{k=0}^{\\infty}p(1-p)^k=p\\cdot\\frac{1}{1-(1-p)}=1}.$\n",
    "\n",
    "***(5 points)*** Explain (show) why $\\displaystyle{E[X]=\\sum_{k=1}^{\\infty}kp(1-p)^{k-1}=\\frac{1}{p}}$."
   ]
  },
  {
   "cell_type": "markdown",
   "metadata": {},
   "source": [
    "***solution:*** Put your answer to Part C here:\n",
    "\n",
    "Here, we have:\n",
    "\n",
    "$E[X] = p \\cdot \\sum_{k=1}^{\\infty}k \\cdot (1-p)^{k-1}$\n",
    "\n",
    "If we multiply both sides by (1-p), we have:\n",
    "\n",
    "$(1-p) \\cdot E[X] = p \\cdot \\sum_{k=1}^{\\infty}k \\cdot (1-p)^{k}$\n",
    "\n",
    "By multiplying both sides by (1-p), we are essentially getting rid of the k value\n",
    "\n",
    "Writing this all out algabraically:\n",
    "\n",
    "$E[X] = p \\cdot \\sum_{k=1}^{\\infty}k \\cdot (1-p)^{k-1}$\n",
    "\n",
    "$E[X] = p\\cdot[1 + 2(1-p) + 3(1-p)^2 + ...]$\n",
    "\n",
    "being subtracted by:\n",
    "\n",
    "$(1-p) \\cdot E[X] = p \\cdot[(1-p) + 2(1-p)^2 + 3(1-p)^3 + ...]$\n",
    "\n",
    "Now we have: \n",
    "\n",
    "$E[X](1-(1-p)) = p \\cdot[1 + (1-p) + (1-p)^2 + (1-p)^3 + ...]$\n",
    "\n",
    "applying geometric formula:\n",
    "\n",
    "$E[X] \\cdot p = p \\cdot \\frac{1}{1-(1-p)}$\n",
    "\n",
    "$E[X] = \\frac{p}{p} \\cdot \\frac{1}{p}$\n",
    "\n",
    "$E[X] = \\frac{1}{p}$"
   ]
  },
  {
   "cell_type": "markdown",
   "metadata": {},
   "source": [
    "### Part D\n",
    "\n",
    "***(3 points)*** What is $E[X]$ ?"
   ]
  },
  {
   "cell_type": "markdown",
   "metadata": {},
   "source": [
    "***solution:*** Put your answer to Part D here:\n",
    "\n",
    "We know the probability is $p = \\frac{1}{38}$\n",
    "\n",
    "We know that\n",
    "\n",
    "$E[X] = \\frac{1}{p}$\n",
    "\n",
    "Plugging in we have:\n",
    "\n",
    "$E[X] = \\frac{1}{\\frac{1}{38}}$\n",
    "\n",
    "$E[X] = 38$"
   ]
  },
  {
   "cell_type": "markdown",
   "metadata": {},
   "source": [
    "### Part E\n",
    "\n",
    "You are interested in knowing how much money you should expect to win $\\textbf{each time you play.}$ Afterall, you have decided to play over and over again till you win.\n",
    "\n",
    "Now, let $X$ be the random variable, \"Amount of money you win.\"\n",
    "\n",
    "You are still betting on 23red, and each bet costs \\$1.\n",
    "\n",
    "If you lose, you lose your dollar.\n",
    "\n",
    "If you win, you get your dollar back $\\textbf{and}$ you get an additional \\$35 for winning.\n",
    "\n",
    "***(3 points)*** What is $E[X]$ ?"
   ]
  },
  {
   "cell_type": "markdown",
   "metadata": {},
   "source": [
    "***solution:*** Put your answer to Part E here:\n",
    "\n",
    "We have the following:\n",
    "\n",
    "Probability of winning: $\\frac{1}{38}$\n",
    "\n",
    "Outcome of winning: (36 -1) = $35\n",
    "\n",
    "Probability of losing: $\\frac{37}{38}$\n",
    "\n",
    "Outcome of losing: -$1\n",
    "\n",
    "Therefore:\n",
    "\n",
    "$E[X] = (\\frac{1}{38}) \\cdot 35 + (\\frac{37}{38}) \\cdot -1$\n",
    "\n",
    "$= \\frac{35}{38} + \\frac{-37}{38}$\n",
    "\n",
    "$= -\\frac{2}{38}$\n",
    "\n",
    "$=-.0526$\n",
    "\n",
    "Each time you play, you can expect to lose about 5 cents!"
   ]
  },
  {
   "cell_type": "markdown",
   "metadata": {},
   "source": [
    "# Problem 3\n",
    "***\n",
    "\n",
    "***Using the definition*** of expected value and variance,\n",
    "\n",
    "Discrete: $E[X] = \\sum_ia_i\\cdot P(X=a_i)$.\n",
    "\n",
    "Continuous: $E[X] = \\int_{-\\infty}^{\\infty}xf(x)\\phantom{x}dx$\n",
    "\n",
    "$Var(X) = E\\left[(X-E[X])^2\\right] = E[X^2]-(E[X])^2$\n",
    "\n",
    "Find the following:"
   ]
  },
  {
   "cell_type": "markdown",
   "metadata": {},
   "source": [
    "### Part A\n",
    "\n",
    "***(3 points)*** Suppose $X$~$U[\\alpha, \\beta]$, find $E[X]$. $X$ takes on all real values between $\\alpha$ and $\\beta$."
   ]
  },
  {
   "cell_type": "markdown",
   "metadata": {},
   "source": [
    "***solution:*** Put your answer to Part A here:\n",
    "\n",
    "For a uniform distribution, we have the following function:\n",
    "\n",
    "\\begin{equation}\n",
    "f(x) = \n",
    "\\left\\{\n",
    "    \\begin{array}{lr}\n",
    "        \\frac{1}{b-a}, & \\text{if } a \\leq x \\leq b\\\\\n",
    "        0, & \\text{everwhere else}\n",
    "    \\end{array}\n",
    "\\right\\}\n",
    "\\end{equation}\n",
    "\n",
    "We also know that:\n",
    "\n",
    "$E[X] = \\int_{-\\infty}^{\\infty}(x \\cdot f(x)) dx$\n",
    "\n",
    "Plugging in:\n",
    "\n",
    "$E[X] = \\frac{1}{b-a}\\int_{a}^{b}(x) dx$\n",
    "\n",
    "$=\\frac{1}{b-a}[\\frac{x^2}{2}]_a^b$\n",
    "\n",
    "$=\\frac{1}{b-a} \\cdot [\\frac{b^2-a^2}{2}]$\n",
    "\n",
    "$=\\frac{1}{b-a} \\cdot (\\frac{(b+a)(b-a)}{2})$\n",
    "\n",
    "$=\\frac{b+a}{2}$\n",
    "\n",
    "Therefore, E[X] is $\\frac{a+b}{2}$ for uniform distributions"
   ]
  },
  {
   "cell_type": "markdown",
   "metadata": {},
   "source": [
    "### Part B\n",
    "\n",
    "***(3 points)*** Suppose $X$~$U[\\alpha, \\beta]$, find $Var[X]$."
   ]
  },
  {
   "cell_type": "markdown",
   "metadata": {},
   "source": [
    "***solution:*** Put your answer to Part B here:\n",
    "\n",
    "We will use the following formula:\n",
    "\n",
    "$Var[X] = E[X^2] - (E[X])^2$\n",
    "\n",
    "Now we have:\n",
    "\n",
    "$E[X] = \\int_{-\\infty}^{\\infty}(x \\cdot f(x)) dx$\n",
    "\n",
    "Plugging in:\n",
    "\n",
    "$E[X^2] = \\frac{1}{b-a}\\int_{a}^{b}(x^2) dx$\n",
    "\n",
    "$=\\frac{1}{b-a}[\\frac{x^3}{3}]_a^b$\n",
    "\n",
    "$=\\frac{1}{b-a} \\cdot [\\frac{b^3-a^3}{3}]$\n",
    "\n",
    "$=\\frac{1}{b-a} \\cdot (b-a) \\cdot (\\frac{b^2+ ba + a^2}{3})$\n",
    "\n",
    "$E[X^2] = \\frac{b^2+ba+a^2}{3}$\n",
    "\n",
    "Now, plugging in we have:\n",
    "\n",
    "$Var[X] = \\frac{b^2+ba+a^2}{3} - (\\frac{b+a}{2})^2$\n",
    "\n",
    "$\\frac{b^2+ba+a^2}{3} - \\frac{b^2+2ab+a^2}{4}$\n",
    "\n",
    "$\\frac{4b^2+4ba+4a^2}{12} - \\frac{3b^2 + 6ab + 3a^2}{12}$\n",
    "\n",
    "$\\frac{b^2-2ab+a^2}{12}$\n",
    "\n",
    "$\\frac{(b-a)^2}{12}$\n",
    "\n",
    "Therefore, Var(X) for a uniform distr is = $\\frac{(b-a)^2}{12}$"
   ]
  },
  {
   "cell_type": "markdown",
   "metadata": {},
   "source": [
    "### Part C\n",
    "\n",
    "***(3 points)*** Suppose $X$~$Ber(p)$, find $E[X]$."
   ]
  },
  {
   "cell_type": "markdown",
   "metadata": {},
   "source": [
    "***solution:*** Put your answer to Part C here:\n",
    "\n",
    "We know that the distr for Bernoulli's is:\n",
    "\n",
    "\\begin{equation}\n",
    "f(x) = \n",
    "\\left\\{\n",
    "    \\begin{array}{lr}\n",
    "        1-p, & \\text{if } x = 0\\\\\n",
    "        p, & \\text{if } x = 1\\\\\n",
    "        0, & \\text{elsewhere}\\\\\n",
    "    \\end{array}\n",
    "\\right\\}\n",
    "\\end{equation}\n",
    "\n",
    "We also know that:\n",
    "\n",
    "$E[X] = \\sum_ia_ip(a_i)$\n",
    "\n",
    "Plugging in:\n",
    "\n",
    "$E[X] = (1-p)\\cdot 0 + (p) \\cdot 1$\n",
    "\n",
    "$E[X] = p$\n",
    "\n",
    "Therefore, $E[X]$ for $X~Ber(p)$ is $p$"
   ]
  },
  {
   "cell_type": "markdown",
   "metadata": {},
   "source": [
    "### Part D\n",
    "\n",
    "***(3 points)*** Suppose $X$~$Ber(p)$, find $Var[X]$."
   ]
  },
  {
   "cell_type": "markdown",
   "metadata": {},
   "source": [
    "***solution:*** Put your answer to Part D here:\n",
    "\n",
    "Using the same knowledge as above, knowing that:\n",
    "\n",
    "$Var[X] = Var[X^2] - (Var[X])^2$\n",
    "\n",
    "We will have:\n",
    "\n",
    "$E[X^2] = \\sum_ix^2a_ip(a_i)$\n",
    "\n",
    "$= (0^2)(1-p)(0) + (1^2)(p)(1)$\n",
    "\n",
    "$E[X^2] = p$\n",
    "\n",
    "Now plugging in:\n",
    "\n",
    "$Var[X] = (p) - (p^2)$\n",
    "\n",
    "$Var[X] = p(1-p)$\n",
    "\n",
    "Therefore, $Var[X]$ for $X~Ber(p)$ is $=p(1-p)$"
   ]
  },
  {
   "cell_type": "markdown",
   "metadata": {},
   "source": [
    "# Problem 4\n",
    "***\n",
    "\n",
    "Consider a card game played with a standard deck of 52 cards.\n",
    "\n",
    "The cards are shuffled, a card is chosen, recorded, and returned to the deck.\n",
    "\n",
    "This is done three times and the record of three choices is observed.\n",
    "\n",
    "The game costs \\$1 to play.\n",
    "\n",
    "If all three cards have the same number, then you get your dollar back plus \\$3.\n",
    "\n",
    "If you only have two cards with the same number, then you get your dollar back plus \\$2.\n",
    "\n",
    "If all three cards are of the same suit, then you get your dollar back plus \\$2.\n",
    "\n",
    "Examples:\n",
    "\n",
    "Ace of spades, Ace of clubs, 5 of diamonds: dollar back plus \\$2.\n",
    "\n",
    "Ace of spaces,2 of spades, 7 of spades: dollar back plus \\$2.\n",
    "\n",
    "5 of diamonds, 8 of diamonds, 8 of diamonds: dollar back plus \\$2, plus \\$2.\n",
    "\n",
    "4 of hearts, 4 of hearts, 4 hearts: dollar back plus \\$3, plus \\$2.\n",
    "\n",
    "6 of diamonds, 6 of hearts, 6 of clubs: dollar back plus \\$3.\n",
    "\n",
    "3 of hearts, 5 of diamonds, Queen of clubs: Lose your dollar.\n",
    "\n",
    "***(7 points)*** Write a function or functions that will create a random draw of three cards as described above. Simulate this game (at least 1000 times) and determine from the simulation the expected winnings per dollar of this game. "
   ]
  },
  {
   "cell_type": "code",
   "execution_count": 2,
   "metadata": {},
   "outputs": [
    {
     "name": "stderr",
     "output_type": "stream",
     "text": [
      "/tmp/ipykernel_190/1156293963.py:13: FutureWarning: elementwise comparison failed; returning scalar instead, but in the future will perform elementwise comparison\n",
      "  if rand_num not in card_pick_num:\n",
      "/tmp/ipykernel_190/1156293963.py:15: FutureWarning: elementwise comparison failed; returning scalar instead, but in the future will perform elementwise comparison\n",
      "  if rand_suite not in card_pick_suite:\n"
     ]
    },
    {
     "name": "stdout",
     "output_type": "stream",
     "text": [
      "You can expect to win: $ -0.1653  every time you play!\n"
     ]
    }
   ],
   "source": [
    "# Put your code for Problem 4 here:\n",
    "def PickCards():\n",
    "    #all possible numbers, and suites for a deck\n",
    "    card_num = np.array([1,2,3,4,5,6,7,8,9,10,\"Jack\", \"Queen\", \"King\"])\n",
    "    card_suite = np.array([\"Diamond\",\"Club\",\"Heart\",\"Spade\"])\n",
    "    card_pick_num = np.array([])\n",
    "    card_pick_suite = np.array([])\n",
    "    #we will loop through and pick 3 cards at random\n",
    "    for x in range(3):\n",
    "        rand_num = np.random.choice(card_num)\n",
    "        rand_suite = np.random.choice(card_suite)\n",
    "        #only picks unique cards to add to empty array\n",
    "        if rand_num not in card_pick_num:\n",
    "            card_pick_num = np.append(card_pick_num, rand_num)\n",
    "        if rand_suite not in card_pick_suite:\n",
    "            card_pick_suite = np.append(card_pick_suite, rand_suite)\n",
    "    #if all three cards have the same number\n",
    "    winamount = -1\n",
    "    won = False\n",
    "    if(len(card_pick_num) == 1):\n",
    "        winamount += 3\n",
    "        won = True\n",
    "    elif(len(card_pick_num) == 2):\n",
    "        winamount += 2\n",
    "        won = True\n",
    "    if(len(card_pick_suite) == 1):\n",
    "        winamount += 2\n",
    "        won = True\n",
    "    if(won):\n",
    "        winamount +=1\n",
    "    return winamount\n",
    "\n",
    "winnings = np.array([PickCards() for k in range(100000)])\n",
    "print(\"You can expect to win: $\",np.sum(winnings)/100000, \" every time you play!\")"
   ]
  },
  {
   "cell_type": "code",
   "execution_count": 3,
   "metadata": {},
   "outputs": [],
   "source": [
    "####Therefore, you can expect to lose about 16 cents every time you play!"
   ]
  },
  {
   "cell_type": "markdown",
   "metadata": {},
   "source": [
    "### Rubric Check\n",
    "***\n",
    "***(5 points)*** Makesure your answers are thorough but not redundant. Explain your answers, don't just put a number. Make sure you have matched your questions on Gradescope. Make sure your PDF is correct and your LaTeX is correct. etc. etc. BE NEAT."
   ]
  },
  {
   "cell_type": "code",
   "execution_count": null,
   "metadata": {},
   "outputs": [],
   "source": []
  }
 ],
 "metadata": {
  "kernelspec": {
   "display_name": "Python 3 (ipykernel)",
   "language": "python",
   "name": "python3"
  },
  "language_info": {
   "codemirror_mode": {
    "name": "ipython",
    "version": 3
   },
   "file_extension": ".py",
   "mimetype": "text/x-python",
   "name": "python",
   "nbconvert_exporter": "python",
   "pygments_lexer": "ipython3",
   "version": "3.10.8"
  }
 },
 "nbformat": 4,
 "nbformat_minor": 4
}
