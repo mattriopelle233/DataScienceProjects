{
 "cells": [
  {
   "cell_type": "markdown",
   "metadata": {},
   "source": [
    "# Homework 07: The Normal Distribution, The Central Limit Theorem, Confidence Intervals\n",
    "***\n",
    "\n",
    "**Name**: Matthew Riopelle\n",
    "\n",
    "***\n",
    "\n",
    "This assignment is due on Canvas by **6:00PM on Friday October 28**. Your solutions to theoretical questions should be done in Markdown directly below the associated question.  Your solutions to computational questions should include any specified Python code and results as well as written commentary on your conclusions.  Remember that you are encouraged to discuss the problems with your classmates, but **you must write all code and solutions on your own**.\n",
    "\n",
    "**NOTES**: \n",
    "\n",
    "- Any relevant data sets should be available in the Homework 01 assignment write-up on Canvas. To make life easier on the grader if they need to run your code, do not change the relative path names here. Instead, move the files around on your computer.\n",
    "- If you're not familiar with typesetting math directly into Markdown then by all means, do your work on paper first and then typeset it later.  Remember that there is a [reference guide](https://math.meta.stackexchange.com/questions/5020/mathjax-basic-tutorial-and-quick-reference) linked on Canvas on writing math in Markdown. **All** of your written commentary, justifications and mathematical work should be in Markdown.\n",
    "- Because you can technically evaluate notebook cells is a non-linear order, it's a good idea to do $\\color{red}{\\text{Kernel}}$ $\\color{red}\\rightarrow$ $\\color{red}{\\text{Restart & Run All}}$ as a check before submitting your solutions.  That way if we need to run your code you will know that it will work as expected. \n",
    "- It is **bad form** to make your reader interpret numerical output from your code.  If a question asks you to compute some value from the data you should show your code output **AND** $\\color{red}{\\text{write a summary of the results}}$ in Markdown directly below your code. \n",
    "- This probably goes without saying, but... For any question that asks you to calculate something, you **must show all work and justify your answers to receive credit**. Sparse or nonexistent work will receive sparse or nonexistent credit. \n",
    "\n",
    "---"
   ]
  },
  {
   "cell_type": "markdown",
   "metadata": {},
   "source": [
    "For this HW you will want to import a few of the usuals:"
   ]
  },
  {
   "cell_type": "code",
   "execution_count": 1,
   "metadata": {},
   "outputs": [],
   "source": [
    "# Per the standard import pandas as 'pd' and numpy as 'np'\n",
    "import pandas as pd\n",
    "import numpy as np\n",
    "import matplotlib.pylab as plt\n",
    "%matplotlib inline \n",
    "import scipy.stats as stats\n",
    "from scipy.stats import norm"
   ]
  },
  {
   "cell_type": "markdown",
   "metadata": {},
   "source": [
    "# Problem 1\n",
    "***\n",
    "We are going to look at some data from an insurance company that insures teenage drivers. `insurance.csv` is a sample of 1000 males and 1000 females all of whose ages are between 16 and 19 inclusive.\n",
    "\n",
    "This insurance company has decided to use 'sex' as a proxy for deciding how large of a premium to charge for car insurance.\n",
    "\n",
    "Read in the csv file `insurance.csv`.\n",
    "\n",
    "### Part A\n",
    "***(1 point)*** Load the `csv` file into a dataframe and call it `dfInsurance`:"
   ]
  },
  {
   "cell_type": "code",
   "execution_count": 2,
   "metadata": {},
   "outputs": [],
   "source": [
    "# Read 'insurance' into dfInsurance\n",
    "dfInsurance = pd.read_csv(\"insurance.csv\")"
   ]
  },
  {
   "cell_type": "markdown",
   "metadata": {},
   "source": [
    "### Part B\n",
    "***(1 point)*** Take a look at the data."
   ]
  },
  {
   "cell_type": "code",
   "execution_count": 5,
   "metadata": {},
   "outputs": [
    {
     "data": {
      "text/html": [
       "<div>\n",
       "<style scoped>\n",
       "    .dataframe tbody tr th:only-of-type {\n",
       "        vertical-align: middle;\n",
       "    }\n",
       "\n",
       "    .dataframe tbody tr th {\n",
       "        vertical-align: top;\n",
       "    }\n",
       "\n",
       "    .dataframe thead th {\n",
       "        text-align: right;\n",
       "    }\n",
       "</style>\n",
       "<table border=\"1\" class=\"dataframe\">\n",
       "  <thead>\n",
       "    <tr style=\"text-align: right;\">\n",
       "      <th></th>\n",
       "      <th>Sex</th>\n",
       "      <th>miles driven</th>\n",
       "      <th>Age</th>\n",
       "      <th>Citations</th>\n",
       "    </tr>\n",
       "  </thead>\n",
       "  <tbody>\n",
       "    <tr>\n",
       "      <th>0</th>\n",
       "      <td>F</td>\n",
       "      <td>4200.826390</td>\n",
       "      <td>18</td>\n",
       "      <td>0</td>\n",
       "    </tr>\n",
       "    <tr>\n",
       "      <th>1</th>\n",
       "      <td>F</td>\n",
       "      <td>5468.727014</td>\n",
       "      <td>17</td>\n",
       "      <td>0</td>\n",
       "    </tr>\n",
       "    <tr>\n",
       "      <th>2</th>\n",
       "      <td>F</td>\n",
       "      <td>5282.253745</td>\n",
       "      <td>18</td>\n",
       "      <td>0</td>\n",
       "    </tr>\n",
       "    <tr>\n",
       "      <th>3</th>\n",
       "      <td>F</td>\n",
       "      <td>5060.526521</td>\n",
       "      <td>17</td>\n",
       "      <td>0</td>\n",
       "    </tr>\n",
       "    <tr>\n",
       "      <th>4</th>\n",
       "      <td>F</td>\n",
       "      <td>5101.878224</td>\n",
       "      <td>16</td>\n",
       "      <td>2</td>\n",
       "    </tr>\n",
       "    <tr>\n",
       "      <th>...</th>\n",
       "      <td>...</td>\n",
       "      <td>...</td>\n",
       "      <td>...</td>\n",
       "      <td>...</td>\n",
       "    </tr>\n",
       "    <tr>\n",
       "      <th>1995</th>\n",
       "      <td>M</td>\n",
       "      <td>8433.768080</td>\n",
       "      <td>17</td>\n",
       "      <td>1</td>\n",
       "    </tr>\n",
       "    <tr>\n",
       "      <th>1996</th>\n",
       "      <td>M</td>\n",
       "      <td>8047.929523</td>\n",
       "      <td>18</td>\n",
       "      <td>1</td>\n",
       "    </tr>\n",
       "    <tr>\n",
       "      <th>1997</th>\n",
       "      <td>M</td>\n",
       "      <td>7285.647012</td>\n",
       "      <td>18</td>\n",
       "      <td>1</td>\n",
       "    </tr>\n",
       "    <tr>\n",
       "      <th>1998</th>\n",
       "      <td>M</td>\n",
       "      <td>8579.702457</td>\n",
       "      <td>18</td>\n",
       "      <td>0</td>\n",
       "    </tr>\n",
       "    <tr>\n",
       "      <th>1999</th>\n",
       "      <td>M</td>\n",
       "      <td>7868.067827</td>\n",
       "      <td>16</td>\n",
       "      <td>0</td>\n",
       "    </tr>\n",
       "  </tbody>\n",
       "</table>\n",
       "<p>2000 rows × 4 columns</p>\n",
       "</div>"
      ],
      "text/plain": [
       "     Sex  miles driven  Age  Citations\n",
       "0      F   4200.826390   18          0\n",
       "1      F   5468.727014   17          0\n",
       "2      F   5282.253745   18          0\n",
       "3      F   5060.526521   17          0\n",
       "4      F   5101.878224   16          2\n",
       "...   ..           ...  ...        ...\n",
       "1995   M   8433.768080   17          1\n",
       "1996   M   8047.929523   18          1\n",
       "1997   M   7285.647012   18          1\n",
       "1998   M   8579.702457   18          0\n",
       "1999   M   7868.067827   16          0\n",
       "\n",
       "[2000 rows x 4 columns]"
      ]
     },
     "execution_count": 5,
     "metadata": {},
     "output_type": "execute_result"
    }
   ],
   "source": [
    "# Take a look at the data here:\n",
    "dfInsurance"
   ]
  },
  {
   "cell_type": "markdown",
   "metadata": {},
   "source": [
    "### Data Description:\n",
    "\n",
    "This data contains records from a number of teenage drivers. The drivers were observed for 12 months and the number of miles they drove and the number of citations they received were recorded. Citations were for wreckless driving, disobeying traffic laws, speeding, and/or accidents.\n",
    "\n",
    "$\\color{red}{\\text{Sex}}$ - This is the sex of the driver.\n",
    "\n",
    "$\\color{red}{\\text{miles driven}}$ - This is the number of miles driven during the observation period.\n",
    "\n",
    "$\\color{red}{\\text{Age}}$ - This is the age of the driver at the beginning of the observation period.\n",
    "\n",
    "$\\color{red}{\\text{Citations}}$ - This is the number of citations received by the driver.\n"
   ]
  },
  {
   "cell_type": "markdown",
   "metadata": {},
   "source": [
    "### Part C\n",
    "***(2 points)*** Which sex has more overall citations?"
   ]
  },
  {
   "cell_type": "code",
   "execution_count": 10,
   "metadata": {},
   "outputs": [
    {
     "name": "stdout",
     "output_type": "stream",
     "text": [
      "Males had more citations than females at 468 citations, while females had 397 citations.\n"
     ]
    }
   ],
   "source": [
    "# Code here to print your answer:\n",
    "maleCit = dfInsurance.loc[dfInsurance['Sex'] == 'M', 'Citations'].sum()\n",
    "femaleCit = dfInsurance.loc[dfInsurance['Sex'] == 'F', 'Citations'].sum()\n",
    "print(\"Males had more citations than females at {} citations, while females had {} citations.\".format(maleCit, femaleCit))"
   ]
  },
  {
   "cell_type": "markdown",
   "metadata": {},
   "source": [
    "### Part D\n",
    "***(2 points)*** Find the mean number of citations received by males and the mean number of citations received by females. Who received more citations in the year?\n"
   ]
  },
  {
   "cell_type": "code",
   "execution_count": 14,
   "metadata": {},
   "outputs": [
    {
     "name": "stdout",
     "output_type": "stream",
     "text": [
      "Males had more on average, receiving 0.468 citations per person, while females received 0.397 citations per person.\n"
     ]
    }
   ],
   "source": [
    "#Code your answer here:\n",
    "meanmaleCit = dfInsurance.loc[dfInsurance['Sex'] == 'M', 'Citations'].mean()\n",
    "meanfemaleCit = dfInsurance.loc[dfInsurance['Sex'] == 'F', 'Citations'].mean()\n",
    "print(\"Males had more on average, receiving {} citations per person, while females received {} citations per person.\".format(meanmaleCit, meanfemaleCit))"
   ]
  },
  {
   "cell_type": "markdown",
   "metadata": {},
   "source": [
    "### Part E\n",
    "***(3 points)*** Estimate the difference in population means (for citations received) by creating a 95% CI for the difference between the sample means for number of citations received by males and females.\n",
    "\n",
    "Recall the equation below from lecture. Perform the proper calculations 'by hand' (i.e. code without a canned function).\n",
    "\n",
    "$\\bar{X}-\\bar{Y}\\pm Z_{\\frac{\\alpha}{2}}\\cdot\\sqrt{\\frac{\\sigma_1^2}{m}+\\frac{\\sigma_2^2}{n}}$"
   ]
  },
  {
   "cell_type": "code",
   "execution_count": 167,
   "metadata": {},
   "outputs": [
    {
     "name": "stdout",
     "output_type": "stream",
     "text": [
      "Upper Interval: Sex             0.139167\n",
      "miles driven    0.139167\n",
      "Age             0.139167\n",
      "Citations       0.139167\n",
      "CPM             0.139167\n",
      "dtype: float64\n",
      "Lower Interval: Sex             0.002833\n",
      "miles driven    0.002833\n",
      "Age             0.002833\n",
      "Citations       0.002833\n",
      "CPM             0.002833\n",
      "dtype: float64\n",
      "The 95% confidence interval for the difference between the sample means of citations by gender is: [0.002833, 0.139167]\n"
     ]
    }
   ],
   "source": [
    "# Code your answer here:\n",
    "maleDev = dfInsurance.loc[dfInsurance['Sex'] == 'M', 'Citations'].std()\n",
    "maleCount = dfInsurance.loc[dfInsurance['Sex'] == 'M'].count()\n",
    "femaleDev = dfInsurance.loc[dfInsurance['Sex'] == 'F', 'Citations'].std()\n",
    "femaleCount = dfInsurance.loc[dfInsurance['Sex'] == 'F'].count()\n",
    "upperInterval = (meanmaleCit - meanfemaleCit) + 1.96 * np.sqrt(((maleDev ** 2)/maleCount) + ((femaleDev ** 2)/femaleCount))\n",
    "lowerInterval = (meanmaleCit - meanfemaleCit) - 1.96 * (np.sqrt(((maleDev ** 2)/maleCount) + ((femaleDev ** 2)/femaleCount)))\n",
    "print(\"Upper Interval: {}\".format(upperInterval))\n",
    "print(\"Lower Interval: {}\".format(lowerInterval))\n",
    "print(\"The 95% confidence interval for the difference between the sample means of citations by gender is: [0.002833, 0.139167]\")"
   ]
  },
  {
   "cell_type": "markdown",
   "metadata": {},
   "source": [
    "### Part F\n",
    "***(1 point)*** Is 0 inside the confidence interval? Describe the meaning of your results.\n"
   ]
  },
  {
   "cell_type": "markdown",
   "metadata": {},
   "source": [
    "Solution here:\n",
    "Zero is not inside of my confidence interval! While we can't say anything definitive about these differences of means, 0 not being in this confidence interval indicates that for this specific interval 0 is not included. However, we can not confirm the real difference is zero, nor we can we disprove 0 as a possible difference given this information. What we can say is that by taking the difference of sample means, we are confident that the actual difference of means will be present within the resulting interval 95 times out of 100. This interval is one such example of those 100 intervals, however we cannot say whether it is part of the 95 intervals which contain the real diff of means, or if it part of the 5 that do not."
   ]
  },
  {
   "cell_type": "markdown",
   "metadata": {},
   "source": [
    "### Part G\n",
    "***(4 points)*** Compare the number of miles driven per year by each sex. Start by getting a visual representation of the number of miles driven by each sex. Graph both male and female 'miles driven' distributions in the same frame for comparison.\n"
   ]
  },
  {
   "cell_type": "code",
   "execution_count": 64,
   "metadata": {},
   "outputs": [
    {
     "data": {
      "text/plain": [
       "<BarContainer object of 2 artists>"
      ]
     },
     "execution_count": 64,
     "metadata": {},
     "output_type": "execute_result"
    },
    {
     "data": {
      "image/png": "[encoded data removed]",
      "text/plain": [
       "<Figure size 576x288 with 1 Axes>"
      ]
     },
     "metadata": {
      "needs_background": "light"
     },
     "output_type": "display_data"
    }
   ],
   "source": [
    "# Code your answer here:\n",
    "maleMiles = dfInsurance.loc[dfInsurance['Sex'] == 'M', 'miles driven'].sum()\n",
    "femaleMiles = dfInsurance.loc[dfInsurance['Sex'] == 'F', 'miles driven'].sum()\n",
    "fig, ax = plt.subplots(figsize=(8,4))\n",
    "genders = ['Male', 'Female']\n",
    "numMiles = [maleMiles, femaleMiles]\n",
    "ax.set_xlabel(\"Gender\")\n",
    "ax.set_ylabel(\"Miles driven (scale: 10^6)\")\n",
    "ax.set_title(\"Miles driven per gender, scaled down from 10^6\")\n",
    "ax.bar(genders, numMiles)"
   ]
  },
  {
   "cell_type": "markdown",
   "metadata": {},
   "source": [
    "### Part H\n",
    "***(1 point)*** Based on the distributions, who appears to drive more miles in a year? Is there any overlap of histograms? Describe what you have found."
   ]
  },
  {
   "cell_type": "markdown",
   "metadata": {},
   "source": [
    "Solution: Males drive more miles in a year! It would make no sense for there to be overlap of the histograms, since we are simply taking the count of total miles, per a set binary value (Male or Female). Overlap isn't possible because in this data set, you are either male or female, it is impossible to be both or none."
   ]
  },
  {
   "cell_type": "markdown",
   "metadata": {},
   "source": [
    "### Part I\n",
    "***(2 points)*** What is the difference in mean miles driven by the two groups (male and female)?"
   ]
  },
  {
   "cell_type": "code",
   "execution_count": 69,
   "metadata": {},
   "outputs": [
    {
     "name": "stdout",
     "output_type": "stream",
     "text": [
      "The difference in mean miles between males and females is: 3291.516906011987\n"
     ]
    }
   ],
   "source": [
    "# Code solution here:\n",
    "meanMaleMiles = dfInsurance.loc[dfInsurance['Sex'] == 'M', 'miles driven'].mean()\n",
    "meanFemaleMiles = dfInsurance.loc[dfInsurance['Sex'] == 'F', 'miles driven'].mean()\n",
    "diffInMeanMiles = meanMaleMiles - meanFemaleMiles\n",
    "print(\"The difference in mean miles between males and females is: {}\".format(diffInMeanMiles))"
   ]
  },
  {
   "cell_type": "markdown",
   "metadata": {},
   "source": [
    "### Part J\n",
    "***(3 points)*** Estimate the difference in population means (for miles driven) by creating a 95% CI for the difference between the sample means for 'miles driven' by males and females.\n",
    "\n",
    "Recall the equation below from lecture. Perform the proper calculations 'by hand' (i.e. code without a canned function).\n",
    "\n",
    "$\\bar{X}-\\bar{Y}\\pm Z_{\\frac{\\alpha}{2}}\\cdot\\sqrt{\\frac{\\sigma_1^2}{m}+\\frac{\\sigma_2^2}{n}}$\n",
    "\n",
    "Create a 95% CI for the difference in miles driven per year."
   ]
  },
  {
   "cell_type": "code",
   "execution_count": 115,
   "metadata": {},
   "outputs": [
    {
     "name": "stdout",
     "output_type": "stream",
     "text": [
      "Upper Interval: Sex             3339.425283\n",
      "miles driven    3339.425283\n",
      "Age             3339.425283\n",
      "Citations       3339.425283\n",
      "dtype: float64\n",
      "Lower Interval: Sex             3243.608529\n",
      "miles driven    3243.608529\n",
      "Age             3243.608529\n",
      "Citations       3243.608529\n",
      "dtype: float64\n",
      "The 95% confidence interval for the difference in mean miles between genders is: [3243.60, 3339.425]\n"
     ]
    }
   ],
   "source": [
    "# Code solution here:\n",
    "milesMaleVar = dfInsurance.loc[dfInsurance['Sex'] == 'M', 'miles driven'].var()\n",
    "milesFemaleVar = dfInsurance.loc[dfInsurance['Sex'] == 'F', 'miles driven'].var()\n",
    "milesUpperInterval = diffInMeanMiles + 1.96 * np.sqrt((milesMaleVar/ maleCount) + (milesFemaleVar / femaleCount))\n",
    "milesLowerInterval = diffInMeanMiles - 1.96 * np.sqrt((milesMaleVar/ maleCount) + (milesFemaleVar / femaleCount))\n",
    "print(\"Upper Interval: {}\".format(milesUpperInterval))\n",
    "print(\"Lower Interval: {}\".format(milesLowerInterval))\n",
    "print(\"The 95% confidence interval for the difference in mean miles between genders is: [3243.60, 3339.425]\")"
   ]
  },
  {
   "cell_type": "markdown",
   "metadata": {},
   "source": [
    "### Part K\n",
    "***(1 points)*** Is 0 in the interval? Describe your findings."
   ]
  },
  {
   "cell_type": "markdown",
   "metadata": {},
   "source": [
    "Solution:\n",
    "0 is not in the interval in this case! It seems EXTREMELY unlikely that the difference in mean miles is equal to zero given this confidence interval. However, this does not mean that it is impossible for the true means to be equal. This is simply 1 example out of 100 intervals, 95 of which contain the true difference of means, while 5 do not contain the true difference of means. We can not say definitively whether or not the true difference of means lies within the above interval, just that it is a possible example of the many different intervals that could be generated."
   ]
  },
  {
   "cell_type": "markdown",
   "metadata": {},
   "source": [
    "### Part L\n",
    "***(4 points)*** Create a column called 'CPM'(this acronym stands for citations per 1000 miles), and put in it the number of citations divided by the number of miles driven (multiplied by 1000). The multiplication by 1000 ensures we are looking at citations per 1000 miles. This is done because the numbers are so small.\n",
    "\n",
    "After you create the 'CPM' column look at the tail of the dataframe."
   ]
  },
  {
   "cell_type": "code",
   "execution_count": 89,
   "metadata": {},
   "outputs": [
    {
     "data": {
      "text/html": [
       "<div>\n",
       "<style scoped>\n",
       "    .dataframe tbody tr th:only-of-type {\n",
       "        vertical-align: middle;\n",
       "    }\n",
       "\n",
       "    .dataframe tbody tr th {\n",
       "        vertical-align: top;\n",
       "    }\n",
       "\n",
       "    .dataframe thead th {\n",
       "        text-align: right;\n",
       "    }\n",
       "</style>\n",
       "<table border=\"1\" class=\"dataframe\">\n",
       "  <thead>\n",
       "    <tr style=\"text-align: right;\">\n",
       "      <th></th>\n",
       "      <th>Sex</th>\n",
       "      <th>miles driven</th>\n",
       "      <th>Age</th>\n",
       "      <th>Citations</th>\n",
       "      <th>CPM</th>\n",
       "    </tr>\n",
       "  </thead>\n",
       "  <tbody>\n",
       "    <tr>\n",
       "      <th>1990</th>\n",
       "      <td>M</td>\n",
       "      <td>8230.936727</td>\n",
       "      <td>17</td>\n",
       "      <td>2</td>\n",
       "      <td>0.242986</td>\n",
       "    </tr>\n",
       "    <tr>\n",
       "      <th>1991</th>\n",
       "      <td>M</td>\n",
       "      <td>8289.641882</td>\n",
       "      <td>19</td>\n",
       "      <td>0</td>\n",
       "      <td>0.000000</td>\n",
       "    </tr>\n",
       "    <tr>\n",
       "      <th>1992</th>\n",
       "      <td>M</td>\n",
       "      <td>8616.735195</td>\n",
       "      <td>18</td>\n",
       "      <td>2</td>\n",
       "      <td>0.232106</td>\n",
       "    </tr>\n",
       "    <tr>\n",
       "      <th>1993</th>\n",
       "      <td>M</td>\n",
       "      <td>7596.588888</td>\n",
       "      <td>17</td>\n",
       "      <td>0</td>\n",
       "      <td>0.000000</td>\n",
       "    </tr>\n",
       "    <tr>\n",
       "      <th>1994</th>\n",
       "      <td>M</td>\n",
       "      <td>7833.838815</td>\n",
       "      <td>18</td>\n",
       "      <td>2</td>\n",
       "      <td>0.255303</td>\n",
       "    </tr>\n",
       "    <tr>\n",
       "      <th>1995</th>\n",
       "      <td>M</td>\n",
       "      <td>8433.768080</td>\n",
       "      <td>17</td>\n",
       "      <td>1</td>\n",
       "      <td>0.118571</td>\n",
       "    </tr>\n",
       "    <tr>\n",
       "      <th>1996</th>\n",
       "      <td>M</td>\n",
       "      <td>8047.929523</td>\n",
       "      <td>18</td>\n",
       "      <td>1</td>\n",
       "      <td>0.124256</td>\n",
       "    </tr>\n",
       "    <tr>\n",
       "      <th>1997</th>\n",
       "      <td>M</td>\n",
       "      <td>7285.647012</td>\n",
       "      <td>18</td>\n",
       "      <td>1</td>\n",
       "      <td>0.137256</td>\n",
       "    </tr>\n",
       "    <tr>\n",
       "      <th>1998</th>\n",
       "      <td>M</td>\n",
       "      <td>8579.702457</td>\n",
       "      <td>18</td>\n",
       "      <td>0</td>\n",
       "      <td>0.000000</td>\n",
       "    </tr>\n",
       "    <tr>\n",
       "      <th>1999</th>\n",
       "      <td>M</td>\n",
       "      <td>7868.067827</td>\n",
       "      <td>16</td>\n",
       "      <td>0</td>\n",
       "      <td>0.000000</td>\n",
       "    </tr>\n",
       "  </tbody>\n",
       "</table>\n",
       "</div>"
      ],
      "text/plain": [
       "     Sex  miles driven  Age  Citations       CPM\n",
       "1990   M   8230.936727   17          2  0.242986\n",
       "1991   M   8289.641882   19          0  0.000000\n",
       "1992   M   8616.735195   18          2  0.232106\n",
       "1993   M   7596.588888   17          0  0.000000\n",
       "1994   M   7833.838815   18          2  0.255303\n",
       "1995   M   8433.768080   17          1  0.118571\n",
       "1996   M   8047.929523   18          1  0.124256\n",
       "1997   M   7285.647012   18          1  0.137256\n",
       "1998   M   8579.702457   18          0  0.000000\n",
       "1999   M   7868.067827   16          0  0.000000"
      ]
     },
     "execution_count": 89,
     "metadata": {},
     "output_type": "execute_result"
    }
   ],
   "source": [
    "# Code your solution here:\n",
    "dfInsurance['CPM'] = (dfInsurance['Citations'])/(dfInsurance['miles driven']) * 1000\n",
    "dfInsurance.tail(10)"
   ]
  },
  {
   "cell_type": "markdown",
   "metadata": {},
   "source": [
    "### Part M\n",
    "***(2 points)*** Look at the difference in means for male CPM and female CPM. Which sex receive more citations per 1000 miles?"
   ]
  },
  {
   "cell_type": "code",
   "execution_count": 93,
   "metadata": {},
   "outputs": [
    {
     "name": "stdout",
     "output_type": "stream",
     "text": [
      "Mean citations per 1000 miles for males: 0.05507130697693171\n",
      "Mean citations per 1000 miles for females: 0.07673198964860108\n",
      "It appears that females receive roughly 0.021660682671669367 more citations per 1000 miles than males do, on average.\n"
     ]
    }
   ],
   "source": [
    "# Code solution here:\n",
    "maleMeanCPM = dfInsurance.loc[dfInsurance['Sex'] == 'M', 'CPM'].mean()\n",
    "femaleMeanCPM = dfInsurance.loc[dfInsurance['Sex'] == 'F', 'CPM'].mean()\n",
    "print(\"Mean citations per 1000 miles for males: {}\".format(maleMeanCPM))\n",
    "print(\"Mean citations per 1000 miles for females: {}\".format(femaleMeanCPM))\n",
    "diffMeanCPM = femaleMeanCPM - maleMeanCPM\n",
    "print(\"It appears that females receive roughly {} more citations per 1000 miles than males do, on average.\".format(diffMeanCPM))"
   ]
  },
  {
   "cell_type": "markdown",
   "metadata": {},
   "source": [
    "### Part N\n",
    "***(1 point)*** You should have discovered that females get more citations per mile than do males. How does this go together with the fact that males get more citations in a year?"
   ]
  },
  {
   "cell_type": "markdown",
   "metadata": {},
   "source": [
    "Solution:If males get more citations per year, but females get more citations per miles, this must mean that the men are driving a lot further than the women. The only way to offset a high number of citations is to drive more miles. For example, someone who has driven 1000 miles and has 1 citation will have more citations per 1000 miles than someone who has 5 citations, but driven for 10,000 miles (1 CPM vs 0.5 CPM)\n"
   ]
  },
  {
   "cell_type": "markdown",
   "metadata": {},
   "source": [
    "### Part O\n",
    "***(3 points)*** Estimate the difference in population means (for CPM's) by creating a 95% CI for the difference between the sample means for 'CPM' for males and females.\n",
    "\n",
    "Recall the equation below from lecture. Perform the proper calculations 'by hand' (i.e. code without a canned function).\n",
    "\n",
    "$\\bar{X}-\\bar{Y}\\pm Z_{\\frac{\\alpha}{2}}\\cdot\\sqrt{\\frac{\\sigma_1^2}{m}+\\frac{\\sigma_2^2}{n}}$\n",
    "\n",
    "Create a 95% CI for the difference in miles driven per year.\n"
   ]
  },
  {
   "cell_type": "code",
   "execution_count": 102,
   "metadata": {},
   "outputs": [
    {
     "name": "stdout",
     "output_type": "stream",
     "text": [
      "The upper interval for difference of CPM is: Sex             0.032489\n",
      "miles driven    0.032489\n",
      "Age             0.032489\n",
      "Citations       0.032489\n",
      "dtype: float64\n",
      "The lower interval for difference of CPM is: Sex             0.010832\n",
      "miles driven    0.010832\n",
      "Age             0.010832\n",
      "Citations       0.010832\n",
      "dtype: float64\n",
      "The 95% confidence interval for the difference in mean CPM is: [0.010832,0.032489]\n"
     ]
    }
   ],
   "source": [
    "# Code solution here:\n",
    "femaleCPMvar = dfInsurance.loc[dfInsurance['Sex'] == 'F', 'CPM'].var()\n",
    "maleCPMvar = dfInsurance.loc[dfInsurance['Sex'] == 'M', 'CPM'].var()\n",
    "CPMupperInterval = diffMeanCPM + (1.96 * np.sqrt((femaleCPMvar/femaleCount) + (maleCPMvar/maleCount)))\n",
    "CPMlowerInterval = diffMeanCPM - (1.96 * np.sqrt((femaleCPMvar/femaleCount) + (maleCPMvar/maleCount)))\n",
    "print(\"The upper interval for difference of CPM is: {}\".format(CPMupperInterval))\n",
    "print(\"The lower interval for difference of CPM is: {}\".format(CPMlowerInterval))\n",
    "print(\"The 95% confidence interval for the difference in mean CPM is: [0.010832,0.032489]\")"
   ]
  },
  {
   "cell_type": "markdown",
   "metadata": {},
   "source": [
    "### Part P\n",
    "***(1 point)*** Does your result contain 0? Describe your findings."
   ]
  },
  {
   "cell_type": "markdown",
   "metadata": {},
   "source": [
    "Solution:\n",
    "My result does not contain a zero. Once again, however, it is not impossible for the true difference of means to be zero. This result is simply 1 interval of 100 intervals, 95 of which contain the true difference of means in their interval, while the other 5 do not. There is no way to tell exactly what the mean difference is given a single confidence interval, as we do not know if this one interval contains the mean or not."
   ]
  },
  {
   "cell_type": "markdown",
   "metadata": {},
   "source": [
    "### Part Q\n",
    "***(1 point)*** Can you explain why males pay higher insurance premiums when they receive fewer citations per mile? Hint: is insurance typically sold by the mile or by the year?"
   ]
  },
  {
   "cell_type": "markdown",
   "metadata": {},
   "source": [
    "Solution: Males will pay higher insurance premiums based on this data. Although females have more citations per mile than males, they drive a whole lot less than males, on average. It is for this reason that males pay higher premiums, because they drive a lot more. Just because the females have more citations does not necessarily mean that they pay more, because they do indeed drive less. This is likely due to the fact that the more you drive, the higher likelihood you have of getting into an accident and/or getting a citation.\n"
   ]
  },
  {
   "cell_type": "markdown",
   "metadata": {},
   "source": [
    "### Part R\n",
    "***(2 points)*** Consider the graphic below. It is merely a cut-and-past .png, it isn't live code.\n",
    "\n",
    "Look at the code and the graphic and describe what story it tells."
   ]
  },
  {
   "cell_type": "markdown",
   "metadata": {},
   "source": [
    "![title](code.png)\n",
    "![title](graph.png)"
   ]
  },
  {
   "cell_type": "code",
   "execution_count": 13,
   "metadata": {},
   "outputs": [],
   "source": [
    "# The graphic above was created with this code.\n",
    "# Of course this code will likely not work in your notebook since\n",
    "# you have different variable names. This is why it is commented out.\n",
    "\n",
    "#mCPM = dfInsurance.loc[dfInsurance['Sex']=='M', 'CPM'].values\n",
    "#fCPM = dfInsurance.loc[dfInsurance['Sex']=='F', 'CPM'].values\n",
    "\n",
    "#bins = np.linspace(0.001, 0.6, 8)\n",
    "#plt.hist([mCPM, fCPM], bins, label=['male', 'female'])\n",
    "#plt.legend(loc='upper right')\n",
    "#plt.show()"
   ]
  },
  {
   "cell_type": "markdown",
   "metadata": {},
   "source": [
    "Solution:\n",
    "This graph is showing the frequences of citations per mile, based on gender. For example, it is showing that roughly 175 males and roughly 20 females have just 0.1 CPM. We can see that there are more females than males receiving 0.2, 0.4, 0.5, and 0.6 citations per 1000 miles. However, we can see that there are more males receiving 0.1, or 0.3 citations per 1000 miles."
   ]
  },
  {
   "cell_type": "code",
   "execution_count": 142,
   "metadata": {},
   "outputs": [
    {
     "name": "stdout",
     "output_type": "stream",
     "text": [
      "[1.15095205e-09 1.15095205e-09 1.15095205e-09 1.15095205e-09]\n",
      "Males have a 1.1509e-07% chance of driving between 6400 and 8400 miles per year\n",
      "[0. 0. 0. 0.]\n",
      "Females have virtually no chance of driving between 6400 and 8400 miles per year\n"
     ]
    }
   ],
   "source": [
    "# Code your solution here:\n",
    "milesMaleStd = dfInsurance.loc[dfInsurance['Sex'] == 'M', 'miles driven'].std()\n",
    "convertedStd = milesMaleStd/np.sqrt(maleCount)\n",
    "malelowerZ = (6400 - meanMaleMiles)/convertedStd\n",
    "maleupperZ = (8400 - meanMaleMiles)/convertedStd\n",
    "maleP = stats.norm.cdf(maleupperZ) - stats.norm.cdf(malelowerZ)\n",
    "print(maleP)\n",
    "print(\"Males have a 1.1509e-07% chance of driving between 6400 and 8400 miles per year\".format(maleP * 100))\n",
    "milesFemaleStd = dfInsurance.loc[dfInsurance['Sex'] == 'F', 'miles driven'].std()\n",
    "femconvertSTD = milesFemaleStd/np.sqrt(femaleCount)\n",
    "lowerZ = (6400 - meanFemaleMiles)/femconvertSTD\n",
    "upperZ = (8400 - meanFemaleMiles)/femconvertSTD\n",
    "femaleP = stats.norm.cdf(upperZ) - stats.norm.cdf(lowerZ)\n",
    "print(femaleP)\n",
    "print(\"Females have virtually no chance of driving between 6400 and 8400 miles per year\")"
   ]
  },
  {
   "cell_type": "markdown",
   "metadata": {},
   "source": [
    "### Part T\n",
    "***(4 points)*** 95% of females drive less than x miles. What is x? (Again, assume miles driven\n",
    "by females follows a normal distribution with mean and standard deviation equal to the\n",
    "sample mean and sample std deviation found above)\n"
   ]
  },
  {
   "cell_type": "code",
   "execution_count": 159,
   "metadata": {},
   "outputs": [
    {
     "name": "stdout",
     "output_type": "stream",
     "text": [
      "0.9500150944608786\n",
      "Sex             5243.602672\n",
      "miles driven    5243.602672\n",
      "Age             5243.602672\n",
      "Citations       5243.602672\n",
      "dtype: float64\n",
      "95% of females drive less than 5243.602672 miles a year!\n"
     ]
    }
   ],
   "source": [
    "# Code your solution here:\n",
    "#value that we want our x -mean/std to equal, went to 1.64, 1.65 in z score table, found value in middle\n",
    "print(stats.norm.cdf(1.645))\n",
    "x = (1.645 * femconvertSTD) + meanFemaleMiles\n",
    "print(x)\n",
    "print(\"95% of females drive less than 5243.602672 miles a year!\".format(x))"
   ]
  },
  {
   "cell_type": "markdown",
   "metadata": {},
   "source": [
    "# Problem 2\n",
    "***\n",
    "\n",
    "Let $X$ be a normal random variable, $X \\sim N(\\mu, \\sigma^2) = N(5,9)$.\n",
    "\n",
    "Let $Z$ be a $\\color{red}{\\text{standard}}$ normal random variable, $Z \\sim N(\\mu, \\sigma^2) = N(0,1)$.\n"
   ]
  },
  {
   "cell_type": "markdown",
   "metadata": {},
   "source": [
    "### Part A\n",
    "\n",
    "***(2 points)*** Compute $P(X \\leq 8.75)$."
   ]
  },
  {
   "cell_type": "code",
   "execution_count": 161,
   "metadata": {},
   "outputs": [
    {
     "name": "stdout",
     "output_type": "stream",
     "text": [
      "P(X <= 8.75) = 0.8943502263331446\n"
     ]
    }
   ],
   "source": [
    "# Code your solution here:\n",
    "mean = 5\n",
    "std = 3\n",
    "prob = stats.norm.cdf((8.75 - 5)/3)\n",
    "print(\"P(X <= 8.75) = {}\".format(prob))"
   ]
  },
  {
   "cell_type": "markdown",
   "metadata": {},
   "source": [
    "### Part B\n",
    "\n",
    "***(2 points)*** Compute $P(Z\\leq 1.25)$."
   ]
  },
  {
   "cell_type": "code",
   "execution_count": 162,
   "metadata": {},
   "outputs": [
    {
     "name": "stdout",
     "output_type": "stream",
     "text": [
      "P(Z <= 1.25) = 0.8943502263331446\n"
     ]
    }
   ],
   "source": [
    "# Code your solution here:\n",
    "prob2 = stats.norm.cdf(1.25)\n",
    "print(\"P(Z <= 1.25) = {}\".format(prob2))"
   ]
  },
  {
   "cell_type": "markdown",
   "metadata": {},
   "source": [
    "### Part C\n",
    "\n",
    "***(2 points)*** Explain why the answer to these first two questions are the same."
   ]
  },
  {
   "cell_type": "markdown",
   "metadata": {},
   "source": [
    "Solution:\n",
    "These two answers are the same because they are asking for the exact same thing. Part B is just the Z-score equivalent (standardized) of part A. 8.75-5/3 is 1.25, much like x-5/3 is Z. Therefore, $P(X \\leq 8.75)$ is the same as $P(Z \\leq 1.25)$ given this mean and standard deviation."
   ]
  },
  {
   "cell_type": "code",
   "execution_count": null,
   "metadata": {},
   "outputs": [],
   "source": []
  }
 ],
 "metadata": {
  "kernelspec": {
   "display_name": "Python 3 (ipykernel)",
   "language": "python",
   "name": "python3"
  },
  "language_info": {
   "codemirror_mode": {
    "name": "ipython",
    "version": 3
   },
   "file_extension": ".py",
   "mimetype": "text/x-python",
   "name": "python",
   "nbconvert_exporter": "python",
   "pygments_lexer": "ipython3",
   "version": "3.10.5"
  }
 },
 "nbformat": 4,
 "nbformat_minor": 4
}
