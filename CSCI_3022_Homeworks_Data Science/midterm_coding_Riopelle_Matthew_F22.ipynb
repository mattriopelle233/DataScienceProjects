{
 "cells": [
  {
   "cell_type": "markdown",
   "metadata": {},
   "source": [
    "# Midterm Exam\n",
    "***\n",
    "\n",
    "\n",
    "**DUE DATE and SUBMISSION INSTRUCTIONS:**\n",
    "\n",
    "This exam is due on Gradescope AND Canvas by **5:59PM on Friday October 21**. \n",
    "\n",
    "- Upload a PDF of this notebook (with all cells run and all LaTex fully rendered) to Gradescope by **5:59PM on Friday October 21**. \n",
    "\n",
    "- AND upload this Jupyter notebook to Canvas by **5:59PM on Friday October 21**.  \n",
    "\n",
    "Late Submittals:  If your exam comes in between 6:00PM and 6:30PM on Friday Oct 21st (regardless of reason/cause etc), then it will be **deducted 50 points**. **No exams will be accepted after 6:30 PM** on Friday October 21.\n",
    "\n",
    "\n",
    "**FORMAT:** \n",
    "\n",
    "- Your solutions to theoretical questions should be done in Markdown and LaTex directly below the associated question. \n",
    "\n",
    "- Your solutions to computational questions should include any specified Python code and results as well as written commentary on your conclusions.\n",
    "\n",
    "**HERE ARE THE RULES:** \n",
    "\n",
    "1. All work, code and analysis, must be your own. \n",
    "1. Only work uploaded prior to the deadline will be considered.\n",
    "1. You MAY use your course notes, posted lecture slides, textbooks, in-class notebooks, and homework solutions as resources.  You may also search online for answers to general knowledge questions like the form of a probability distribution function or how to perform a particular operation in Python/Pandas. \n",
    "3. You may **NOT** copy-paste solutions *from anywhere*.\n",
    "2. You may **NOT** post to message boards or other online resources asking for help.\n",
    "4. You may **NOT** collaborate with classmates or anyone else.\n",
    "5. In short, **your work must be your own**. It really is that simple.\n",
    "1. This is meant to be like a coding portion of your midterm exam. So, the instructional team will be much less helpful than we typically are with homework. For example, we will not check answers, help debug your code, and so on.\n",
    "1. If something is left open-ended, it is because we want to see how you approach the kinds of problems you will encounter in the wild, where it will not always be clear what sort of tests/methods should be applied. Feel free to ask clarifying questions though.\n",
    "2. Please stick to software used/taught in this class: Pandas, NumPy, Python 3.9, etc.\n",
    "\n",
    "Violation of the above rules will result in an immediate academic sanction (you will receive an F in the course), and a trip to the Honor Code Council.\n",
    "\n",
    "**By submitting this assignment, you agree to abide by the rules given above.**\n",
    "\n",
    "***\n",
    "\n",
    "**Name**: Matthew Riopelle\n",
    "\n",
    "***\n",
    "\n",
    "\n",
    "**NOTES**: \n",
    "\n",
    "- By the due date, turn in anything you have, there are no extensions, and some credit is better than no credit.  **DO NOT attempt your first upload at 5:00 PM** as you may encounter slow internet speeds or outages and again you will miss the upload and hence the entire exam. \n",
    "- If you have a question for us, post it as a **PRIVATE** message on Piazza.  If we decide that the question is appropriate for the entire class, then we will add it to a  midterm clarifications thread. \n",
    "- Do **NOT** load or use any Python packages that are not available in Anaconda 3.9.  \n",
    "- This should go without saying, but... For any question that asks you to calculate something, you **must show all work to receive credit**. Sparse or nonexistent work will receive sparse or nonexistent credit.\n",
    "\n",
    "---"
   ]
  },
  {
   "cell_type": "markdown",
   "metadata": {},
   "source": [
    "# $\\color{red}{\\text{Example question #1}}$\n",
    "\n",
    "On this exam we are looking for $\\color{red}{\\text{HOW}}$ you answer questions and not necessarily $\\color{red}{\\text{WHAT}}$ you put for an answer. \n",
    "\n",
    "Tell the grader where to look for your answer and which question the work goes with.\n",
    "\n",
    "Be thorough, but be concise.\n",
    "\n",
    "Use full sentences and proper grammar and correct spelling.\n",
    "\n",
    "Comment your code.\n",
    "\n",
    "Demonstrate $\\color{red}{\\text{BOTH}}$ what you know about the question $\\color{red}{\\text{AND}}$ the coding you used to answer the question"
   ]
  },
  {
   "cell_type": "markdown",
   "metadata": {},
   "source": [
    "# Example Question:\n",
    "\n",
    "What values of $x$ solve the equation: $\\phantom{xx}x^2-5x=-6$?\n",
    "Solve analytically and then create a plot supporting your answer."
   ]
  },
  {
   "cell_type": "markdown",
   "metadata": {},
   "source": [
    "# $\\color{red}{\\text{This correct answer would be worth zero points}}:$\n",
    "\n",
    "$x=2$ and $x=3$"
   ]
  },
  {
   "cell_type": "markdown",
   "metadata": {},
   "source": [
    "# $\\color{red}{\\text{This answer would be worth full points}}:$\n",
    "\n",
    "\n",
    "Solution to Example Question:\n",
    "\n",
    "$x^2-5x=-6$ can be factored after $-6$ is added to both sides.\n",
    "\n",
    "$(x-2)(x-3)=0$. The zero product property reveals that $\\boxed{x=2}$ or $\\boxed{x=3}$.\n",
    "\n",
    "This equation has two solutions as its graph crosses the x-axis twice as seen below."
   ]
  },
  {
   "cell_type": "code",
   "execution_count": 1,
   "metadata": {},
   "outputs": [
    {
     "data": {
      "text/plain": [
       "[<matplotlib.lines.Line2D at 0x7fee123dfac0>]"
      ]
     },
     "execution_count": 1,
     "metadata": {},
     "output_type": "execute_result"
    },
    {
     "data": {
      "image/png": "[encoded data removed]",
      "text/plain": [
       "<Figure size 432x288 with 1 Axes>"
      ]
     },
     "metadata": {
      "needs_background": "light"
     },
     "output_type": "display_data"
    }
   ],
   "source": [
    "# AND HERE IS MY COMMENTED CODE TO GO WITH THE EXAMPLE QUESTION #1:\n",
    "\n",
    "import numpy\n",
    "import matplotlib.pylab as draw\n",
    "%matplotlib inline\n",
    "# matplotlib.pylab is used for plotting. 'inline' ensures the graph opens in Jupyter.\n",
    "\n",
    "x = numpy.linspace(1,4,100)\n",
    "# 'linspace' returns evenly spaced numbers over a specified interval\n",
    "y = x**2-5*x+6\n",
    "z = 0*x\n",
    "draw.plot(x,y)\n",
    "# This is the parabola\n",
    "draw.plot(x,z, ':')\n",
    "# This is the x-axis.\n",
    "draw.plot(2,0, marker=\"o\", markersize=5, markeredgecolor=\"red\", markerfacecolor=\"green\")\n",
    "draw.plot(3,0, marker=\"o\", markersize=5, markeredgecolor=\"red\", markerfacecolor=\"green\")\n",
    "# These last two 'draw' commands show the intersection of the parabola and the x-axis.\n",
    "# The intersections are the sought after solutions. See graph below.\n"
   ]
  },
  {
   "cell_type": "markdown",
   "metadata": {},
   "source": [
    "# Begin Exam Here\n",
    "***"
   ]
  },
  {
   "cell_type": "markdown",
   "metadata": {},
   "source": [
    "# Problem 1\n",
    "***\n",
    "\n",
    "A sample survey of incoming college students (fresh out of high school) has been conducted on campus. Among the massive amounts of data collected we are going to look at just a few items and answer some questions concerning the sample.\n",
    "\n",
    "The data we want to work with is in the file, \"frosh.csv\".\n",
    "\n",
    "***Description of the data set***\n",
    "This data was collected from a number of incoming freshman attending CU. The data was collected on move-in day as interviewers wandered through the crowds of people and spoke with new students that were willing to fill out a questionairre. The questionairre was administered and completed on a Saturday. The four pieces of data found in frosh.csv here are:\n",
    "\n",
    "'$\\color{blue}{\\text{height}}$' - This is the height of the student in inches. This data is intended to be rational numbers measured to the tenths place. When cleaning this data you might choose to consider the documentation for the Pandas .round function https://pandas.pydata.org/docs/reference/api/pandas.DataFrame.round.html\n",
    "\n",
    "'$\\color{blue}{\\text{age}}$' - This is the age, in years, of the student in question; A18 refers to 'Age 18'. Once cleaned, this data should be integers.\n",
    "\n",
    "'$\\color{blue}{\\text{gender}}$' - This is the gender (sex) of the student. This data should be strings or characters of either 'M' or 'F'.\n",
    "\n",
    "'$\\color{blue}{\\text{lunch_money}}$' - This is the amount of money the student spent for dinner on the previous Friday night.  Once cleaned, this data should be rational numbers measured to the hundredths place, thereby representing dollars and cents.\n",
    "\n",
    "'$\\color{blue}{\\text{ID}}$' - This is a 3 or 4 digit number used to identify each student. The datatype should be integer. \n"
   ]
  },
  {
   "cell_type": "markdown",
   "metadata": {},
   "source": [
    "### Set up your Jupyter notebook (here) with any required imports or loads, and take glance at the actual data.\n",
    "\n",
    "***(2 points)*** List all your imports below:"
   ]
  },
  {
   "cell_type": "code",
   "execution_count": 2,
   "metadata": {},
   "outputs": [],
   "source": [
    "# SOLUTION \n",
    "# List the imports that you use here:\n",
    "import pandas as pd\n",
    "import numpy as np\n",
    "import matplotlib.pylab as plt\n",
    "from scipy.stats import norm\n",
    "from scipy.special import binom\n",
    "%matplotlib inline "
   ]
  },
  {
   "cell_type": "markdown",
   "metadata": {},
   "source": [
    "***(2 points)*** Load the data to analyze below:"
   ]
  },
  {
   "cell_type": "code",
   "execution_count": 3,
   "metadata": {},
   "outputs": [],
   "source": [
    "# SOLUTION\n",
    "# To answer questions about the data set, load the data into a dataframe 'dfFrosh'.\n",
    "# Load your data here:\n",
    "dfFrosh = pd.read_csv(\"frosh.csv\")"
   ]
  },
  {
   "cell_type": "markdown",
   "metadata": {},
   "source": [
    "***(2 points)*** Look at the data and the datatypes below:"
   ]
  },
  {
   "cell_type": "code",
   "execution_count": 4,
   "metadata": {},
   "outputs": [
    {
     "data": {
      "text/html": [
       "<div>\n",
       "<style scoped>\n",
       "    .dataframe tbody tr th:only-of-type {\n",
       "        vertical-align: middle;\n",
       "    }\n",
       "\n",
       "    .dataframe tbody tr th {\n",
       "        vertical-align: top;\n",
       "    }\n",
       "\n",
       "    .dataframe thead th {\n",
       "        text-align: right;\n",
       "    }\n",
       "</style>\n",
       "<table border=\"1\" class=\"dataframe\">\n",
       "  <thead>\n",
       "    <tr style=\"text-align: right;\">\n",
       "      <th></th>\n",
       "      <th>ID</th>\n",
       "      <th>height</th>\n",
       "      <th>age</th>\n",
       "      <th>gender</th>\n",
       "      <th>lunch_money</th>\n",
       "    </tr>\n",
       "  </thead>\n",
       "  <tbody>\n",
       "    <tr>\n",
       "      <th>0</th>\n",
       "      <td>101</td>\n",
       "      <td>69.377867</td>\n",
       "      <td>A19</td>\n",
       "      <td>F</td>\n",
       "      <td>$15.69</td>\n",
       "    </tr>\n",
       "    <tr>\n",
       "      <th>1</th>\n",
       "      <td>102</td>\n",
       "      <td>73.079783</td>\n",
       "      <td>A18</td>\n",
       "      <td>M</td>\n",
       "      <td>$5.23</td>\n",
       "    </tr>\n",
       "    <tr>\n",
       "      <th>2</th>\n",
       "      <td>103</td>\n",
       "      <td>66.627820</td>\n",
       "      <td>A19</td>\n",
       "      <td>M</td>\n",
       "      <td>$10.46</td>\n",
       "    </tr>\n",
       "    <tr>\n",
       "      <th>3</th>\n",
       "      <td>104</td>\n",
       "      <td>68.466419</td>\n",
       "      <td>A17</td>\n",
       "      <td>F</td>\n",
       "      <td>$20.92</td>\n",
       "    </tr>\n",
       "    <tr>\n",
       "      <th>4</th>\n",
       "      <td>105</td>\n",
       "      <td>70.747216</td>\n",
       "      <td>A18</td>\n",
       "      <td>M</td>\n",
       "      <td>$15.69</td>\n",
       "    </tr>\n",
       "    <tr>\n",
       "      <th>...</th>\n",
       "      <td>...</td>\n",
       "      <td>...</td>\n",
       "      <td>...</td>\n",
       "      <td>...</td>\n",
       "      <td>...</td>\n",
       "    </tr>\n",
       "    <tr>\n",
       "      <th>995</th>\n",
       "      <td>1096</td>\n",
       "      <td>66.570631</td>\n",
       "      <td>A18</td>\n",
       "      <td>F</td>\n",
       "      <td>$20.92</td>\n",
       "    </tr>\n",
       "    <tr>\n",
       "      <th>996</th>\n",
       "      <td>1097</td>\n",
       "      <td>65.366322</td>\n",
       "      <td>A19</td>\n",
       "      <td>F</td>\n",
       "      <td>$47.07</td>\n",
       "    </tr>\n",
       "    <tr>\n",
       "      <th>997</th>\n",
       "      <td>1098</td>\n",
       "      <td>69.635453</td>\n",
       "      <td>A18</td>\n",
       "      <td>F</td>\n",
       "      <td>$20.92</td>\n",
       "    </tr>\n",
       "    <tr>\n",
       "      <th>998</th>\n",
       "      <td>1099</td>\n",
       "      <td>62.765553</td>\n",
       "      <td>A17</td>\n",
       "      <td>F</td>\n",
       "      <td>$36.61</td>\n",
       "    </tr>\n",
       "    <tr>\n",
       "      <th>999</th>\n",
       "      <td>1100</td>\n",
       "      <td>72.708883</td>\n",
       "      <td>A18</td>\n",
       "      <td>F</td>\n",
       "      <td>$10.46</td>\n",
       "    </tr>\n",
       "  </tbody>\n",
       "</table>\n",
       "<p>1000 rows × 5 columns</p>\n",
       "</div>"
      ],
      "text/plain": [
       "       ID     height  age gender lunch_money\n",
       "0     101  69.377867  A19      F      $15.69\n",
       "1     102  73.079783  A18      M       $5.23\n",
       "2     103  66.627820  A19      M      $10.46\n",
       "3     104  68.466419  A17      F      $20.92\n",
       "4     105  70.747216  A18      M      $15.69\n",
       "..    ...        ...  ...    ...         ...\n",
       "995  1096  66.570631  A18      F      $20.92\n",
       "996  1097  65.366322  A19      F      $47.07\n",
       "997  1098  69.635453  A18      F      $20.92\n",
       "998  1099  62.765553  A17      F      $36.61\n",
       "999  1100  72.708883  A18      F      $10.46\n",
       "\n",
       "[1000 rows x 5 columns]"
      ]
     },
     "execution_count": 4,
     "metadata": {},
     "output_type": "execute_result"
    }
   ],
   "source": [
    "# SOLUTION\n",
    "# Answering questions about data neccesitates looking at the data to understand it.\n",
    "# Look at your data and the datatypes here:\n",
    "dfFrosh"
   ]
  },
  {
   "cell_type": "code",
   "execution_count": 5,
   "metadata": {},
   "outputs": [
    {
     "data": {
      "text/plain": [
       "ID               int64\n",
       "height         float64\n",
       "age             object\n",
       "gender          object\n",
       "lunch_money     object\n",
       "dtype: object"
      ]
     },
     "execution_count": 5,
     "metadata": {},
     "output_type": "execute_result"
    }
   ],
   "source": [
    "dfFrosh.dtypes"
   ]
  },
  {
   "cell_type": "markdown",
   "metadata": {},
   "source": [
    "## Part A\n",
    "\n",
    "***(2 points)*** How many rows are in the data set?"
   ]
  },
  {
   "cell_type": "code",
   "execution_count": 6,
   "metadata": {},
   "outputs": [
    {
     "data": {
      "text/plain": [
       "1000"
      ]
     },
     "execution_count": 6,
     "metadata": {},
     "output_type": "execute_result"
    }
   ],
   "source": [
    "# solution to A here:\n",
    "#len(dfFrosh)\n",
    "#or\n",
    "dfFrosh['ID'].count()"
   ]
  },
  {
   "cell_type": "markdown",
   "metadata": {},
   "source": [
    "$\\textbf{There are 1000 rows in this data set!}$"
   ]
  },
  {
   "cell_type": "markdown",
   "metadata": {},
   "source": [
    "## Part B\n",
    "\n",
    "***(8 points)*** Clean the data to match the description of the data above, and take a look at the data again to see/show that it is in fact 'clean'."
   ]
  },
  {
   "cell_type": "code",
   "execution_count": 7,
   "metadata": {},
   "outputs": [
    {
     "name": "stderr",
     "output_type": "stream",
     "text": [
      "/tmp/ipykernel_576/705246637.py:8: FutureWarning: The default value of regex will change from True to False in a future version. In addition, single character regular expressions will *not* be treated as literal strings when regex=True.\n",
      "  dfFrosh['lunch_money'] = dfFrosh['lunch_money'].str.replace('$','')\n"
     ]
    }
   ],
   "source": [
    "# SOLUTION:  Cleaning the data\n",
    "#changing height to be rounded to 1 decimal place\n",
    "dfFrosh['height'] = dfFrosh['height'].round(1)\n",
    "#taking the A out of age column, type casting the data to ints\n",
    "dfFrosh['age'] = dfFrosh['age'].str.replace('A','')\n",
    "dfFrosh['age'] = dfFrosh['age'].astype(int)\n",
    "#removing any dollar signs in lunch money, casting it to a floating point number, and rounding to two decimal places\n",
    "dfFrosh['lunch_money'] = dfFrosh['lunch_money'].str.replace('$','')\n",
    "dfFrosh['lunch_money'] = dfFrosh['lunch_money'].astype(float)\n",
    "dfFrosh['lunch_money'] = dfFrosh['lunch_money'].round(2)"
   ]
  },
  {
   "cell_type": "code",
   "execution_count": 8,
   "metadata": {},
   "outputs": [
    {
     "data": {
      "text/html": [
       "<div>\n",
       "<style scoped>\n",
       "    .dataframe tbody tr th:only-of-type {\n",
       "        vertical-align: middle;\n",
       "    }\n",
       "\n",
       "    .dataframe tbody tr th {\n",
       "        vertical-align: top;\n",
       "    }\n",
       "\n",
       "    .dataframe thead th {\n",
       "        text-align: right;\n",
       "    }\n",
       "</style>\n",
       "<table border=\"1\" class=\"dataframe\">\n",
       "  <thead>\n",
       "    <tr style=\"text-align: right;\">\n",
       "      <th></th>\n",
       "      <th>ID</th>\n",
       "      <th>height</th>\n",
       "      <th>age</th>\n",
       "      <th>gender</th>\n",
       "      <th>lunch_money</th>\n",
       "    </tr>\n",
       "  </thead>\n",
       "  <tbody>\n",
       "    <tr>\n",
       "      <th>0</th>\n",
       "      <td>101</td>\n",
       "      <td>69.4</td>\n",
       "      <td>19</td>\n",
       "      <td>F</td>\n",
       "      <td>15.69</td>\n",
       "    </tr>\n",
       "    <tr>\n",
       "      <th>1</th>\n",
       "      <td>102</td>\n",
       "      <td>73.1</td>\n",
       "      <td>18</td>\n",
       "      <td>M</td>\n",
       "      <td>5.23</td>\n",
       "    </tr>\n",
       "    <tr>\n",
       "      <th>2</th>\n",
       "      <td>103</td>\n",
       "      <td>66.6</td>\n",
       "      <td>19</td>\n",
       "      <td>M</td>\n",
       "      <td>10.46</td>\n",
       "    </tr>\n",
       "    <tr>\n",
       "      <th>3</th>\n",
       "      <td>104</td>\n",
       "      <td>68.5</td>\n",
       "      <td>17</td>\n",
       "      <td>F</td>\n",
       "      <td>20.92</td>\n",
       "    </tr>\n",
       "    <tr>\n",
       "      <th>4</th>\n",
       "      <td>105</td>\n",
       "      <td>70.7</td>\n",
       "      <td>18</td>\n",
       "      <td>M</td>\n",
       "      <td>15.69</td>\n",
       "    </tr>\n",
       "    <tr>\n",
       "      <th>...</th>\n",
       "      <td>...</td>\n",
       "      <td>...</td>\n",
       "      <td>...</td>\n",
       "      <td>...</td>\n",
       "      <td>...</td>\n",
       "    </tr>\n",
       "    <tr>\n",
       "      <th>995</th>\n",
       "      <td>1096</td>\n",
       "      <td>66.6</td>\n",
       "      <td>18</td>\n",
       "      <td>F</td>\n",
       "      <td>20.92</td>\n",
       "    </tr>\n",
       "    <tr>\n",
       "      <th>996</th>\n",
       "      <td>1097</td>\n",
       "      <td>65.4</td>\n",
       "      <td>19</td>\n",
       "      <td>F</td>\n",
       "      <td>47.07</td>\n",
       "    </tr>\n",
       "    <tr>\n",
       "      <th>997</th>\n",
       "      <td>1098</td>\n",
       "      <td>69.6</td>\n",
       "      <td>18</td>\n",
       "      <td>F</td>\n",
       "      <td>20.92</td>\n",
       "    </tr>\n",
       "    <tr>\n",
       "      <th>998</th>\n",
       "      <td>1099</td>\n",
       "      <td>62.8</td>\n",
       "      <td>17</td>\n",
       "      <td>F</td>\n",
       "      <td>36.61</td>\n",
       "    </tr>\n",
       "    <tr>\n",
       "      <th>999</th>\n",
       "      <td>1100</td>\n",
       "      <td>72.7</td>\n",
       "      <td>18</td>\n",
       "      <td>F</td>\n",
       "      <td>10.46</td>\n",
       "    </tr>\n",
       "  </tbody>\n",
       "</table>\n",
       "<p>1000 rows × 5 columns</p>\n",
       "</div>"
      ],
      "text/plain": [
       "       ID  height  age gender  lunch_money\n",
       "0     101    69.4   19      F        15.69\n",
       "1     102    73.1   18      M         5.23\n",
       "2     103    66.6   19      M        10.46\n",
       "3     104    68.5   17      F        20.92\n",
       "4     105    70.7   18      M        15.69\n",
       "..    ...     ...  ...    ...          ...\n",
       "995  1096    66.6   18      F        20.92\n",
       "996  1097    65.4   19      F        47.07\n",
       "997  1098    69.6   18      F        20.92\n",
       "998  1099    62.8   17      F        36.61\n",
       "999  1100    72.7   18      F        10.46\n",
       "\n",
       "[1000 rows x 5 columns]"
      ]
     },
     "execution_count": 8,
     "metadata": {},
     "output_type": "execute_result"
    }
   ],
   "source": [
    "# SOLUTION\n",
    "# Checking to see if the data looks 'clean'\n",
    "# Look again at the data and the datatypes.\n",
    "dfFrosh"
   ]
  },
  {
   "cell_type": "code",
   "execution_count": 9,
   "metadata": {},
   "outputs": [
    {
     "data": {
      "text/plain": [
       "ID               int64\n",
       "height         float64\n",
       "age              int64\n",
       "gender          object\n",
       "lunch_money    float64\n",
       "dtype: object"
      ]
     },
     "execution_count": 9,
     "metadata": {},
     "output_type": "execute_result"
    }
   ],
   "source": [
    "dfFrosh.dtypes\n",
    "#id and age are integers, height and lunch_money are floating point numbers \n",
    "#(with 1 and 2 decimal places respectively), gender is a string"
   ]
  },
  {
   "cell_type": "markdown",
   "metadata": {},
   "source": [
    "## Part C\n",
    "\n",
    "***(3 points)*** Delete any rows missing data (NaN). How many rows were deleted?"
   ]
  },
  {
   "cell_type": "code",
   "execution_count": 10,
   "metadata": {},
   "outputs": [
    {
     "data": {
      "text/plain": [
       "997"
      ]
     },
     "execution_count": 10,
     "metadata": {},
     "output_type": "execute_result"
    }
   ],
   "source": [
    "# solution to Part C\n",
    "#using dropna function, then taking 1000-newLenghtDfFrosh\n",
    "dfFrosh = dfFrosh.dropna()\n",
    "len(dfFrosh)"
   ]
  },
  {
   "cell_type": "markdown",
   "metadata": {},
   "source": [
    "$\\textbf{There were 3 rows deleted!}$"
   ]
  },
  {
   "cell_type": "markdown",
   "metadata": {},
   "source": [
    "## Part D\n",
    "\n",
    "***(3 points)*** How many 18-year olds are now in this data set?"
   ]
  },
  {
   "cell_type": "code",
   "execution_count": 11,
   "metadata": {},
   "outputs": [
    {
     "name": "stdout",
     "output_type": "stream",
     "text": [
      "ID    474\n",
      "dtype: int64\n",
      "There are a total of: 474 18-year olds in this data set!\n"
     ]
    }
   ],
   "source": [
    "# Solution to Part D here:\n",
    "#choosing any random row to count a sum of, so long as the age column is set to 18\n",
    "height = dfFrosh.loc[dfFrosh['age'] == 18, ['ID']].count()\n",
    "print(height)\n",
    "print(\"There are a total of: 474 18-year olds in this data set!\")"
   ]
  },
  {
   "cell_type": "markdown",
   "metadata": {},
   "source": [
    "## Part E\n",
    "\n",
    "***(3 points)*** What is the mean height of these 18-year olds?"
   ]
  },
  {
   "cell_type": "code",
   "execution_count": 12,
   "metadata": {},
   "outputs": [
    {
     "name": "stdout",
     "output_type": "stream",
     "text": [
      "height    68.941983\n",
      "dtype: float64\n",
      "The mean height of those 18-yr olds is roughly 68.94 inches!\n"
     ]
    }
   ],
   "source": [
    "# Solution to Part E here:\n",
    "#checking the mean height, so long as the row has the age column set to age 18\n",
    "meanH = dfFrosh.loc[dfFrosh['age'] == 18, ['height']].mean()\n",
    "print(meanH)\n",
    "print(\"The mean height of those 18-yr olds is roughly 68.94 inches!\")"
   ]
  },
  {
   "cell_type": "markdown",
   "metadata": {},
   "source": [
    "## Part F\n",
    "\n",
    "***(4 points)*** On average, who spent more for Friday dinner, 18-year old males or 19-year old females?"
   ]
  },
  {
   "cell_type": "code",
   "execution_count": 13,
   "metadata": {},
   "outputs": [
    {
     "name": "stdout",
     "output_type": "stream",
     "text": [
      "The average spent for 18 year olds is: lunch_money    15.899641\n",
      "dtype: float64\n",
      "The average spent for 19 year olds is: lunch_money    15.277105\n",
      "dtype: float64\n",
      "lunch_money    0.622536\n",
      "dtype: float64\n",
      "On average, 18 year olds spent around 62 cents more on Friday dinner\n"
     ]
    }
   ],
   "source": [
    "# Solution to Part F here:\n",
    "#checking first 18 year olds, then 19 year olds, and what their mean (average) price is for the column 'lunch_money'\n",
    "spent18 = dfFrosh.loc[dfFrosh['age'] == 18, ['lunch_money']].mean()\n",
    "spent19 = dfFrosh.loc[dfFrosh['age'] == 19, ['lunch_money']].mean()\n",
    "print(\"The average spent for 18 year olds is: {}\".format(spent18))\n",
    "print(\"The average spent for 19 year olds is: {}\".format(spent19))\n",
    "print(spent18 - spent19)\n",
    "print(\"On average, 18 year olds spent around 62 cents more on Friday dinner\")"
   ]
  },
  {
   "cell_type": "markdown",
   "metadata": {},
   "source": [
    "## Part G\n",
    "\n",
    "***(5 points)*** \n",
    "\n",
    "Create a column called 'height_f' that gives the respondents' height in feet. \n",
    "\n",
    "Then give a 5-number summary for 'height_f'.  \n",
    "\n",
    "Do **NOT use the .describe() method** when creating your 5-number summary.  You **can** use any other built-in methods. \n"
   ]
  },
  {
   "cell_type": "code",
   "execution_count": 14,
   "metadata": {},
   "outputs": [
    {
     "name": "stdout",
     "output_type": "stream",
     "text": [
      "The following is the 5-number summary for the new 'height_f' column:\n",
      " min: 4.98 \n",
      " Q1: 5.59 \n",
      " Median: 5.75 \n",
      " Q3: 5.92 \n",
      " max: 6.59\n"
     ]
    },
    {
     "name": "stderr",
     "output_type": "stream",
     "text": [
      "/tmp/ipykernel_576/400063348.py:3: SettingWithCopyWarning: \n",
      "A value is trying to be set on a copy of a slice from a DataFrame.\n",
      "Try using .loc[row_indexer,col_indexer] = value instead\n",
      "\n",
      "See the caveats in the documentation: https://pandas.pydata.org/pandas-docs/stable/user_guide/indexing.html#returning-a-view-versus-a-copy\n",
      "  dfFrosh['height_f'] = dfFrosh['height'].apply(lambda x: x/12)\n",
      "/tmp/ipykernel_576/400063348.py:4: SettingWithCopyWarning: \n",
      "A value is trying to be set on a copy of a slice from a DataFrame.\n",
      "Try using .loc[row_indexer,col_indexer] = value instead\n",
      "\n",
      "See the caveats in the documentation: https://pandas.pydata.org/pandas-docs/stable/user_guide/indexing.html#returning-a-view-versus-a-copy\n",
      "  dfFrosh['height_f'] = dfFrosh['height_f'].round(2)\n"
     ]
    }
   ],
   "source": [
    "# Solution to Part G here:\n",
    "#dividing by 12 to get inches, and rounding to the hundreds place in order to be able to calculate with new column\n",
    "dfFrosh['height_f'] = dfFrosh['height'].apply(lambda x: x/12)\n",
    "dfFrosh['height_f'] = dfFrosh['height_f'].round(2)\n",
    "#applying basic min,max, and quantile functions to the dataframe \n",
    "min = dfFrosh['height_f'].min()\n",
    "max = dfFrosh['height_f'].max()\n",
    "quart1 = dfFrosh['height_f'].quantile(.25)\n",
    "med = dfFrosh['height_f'].quantile(.50)\n",
    "quart3 = dfFrosh['height_f'].quantile(.75)\n",
    "print(\"The following is the 5-number summary for the new 'height_f' column:\")\n",
    "print(\" min: {} \\n Q1: {} \\n Median: {} \\n Q3: {} \\n max: {}\".format(min, quart1, med, quart3, max))"
   ]
  },
  {
   "cell_type": "markdown",
   "metadata": {},
   "source": [
    "## Part H\n",
    "\n",
    "***(8 points)*** Create a box-and-whisker plot of 'height_f' to provide a visual of the 5-number summary.  Label your axes on the plot."
   ]
  },
  {
   "cell_type": "code",
   "execution_count": 15,
   "metadata": {},
   "outputs": [
    {
     "data": {
      "text/plain": [
       "<AxesSubplot:title={'center':'Box and Whisker Plot for height_f'}, xlabel='column', ylabel='Min, Max, Q1-Q3, and Outliers'>"
      ]
     },
     "execution_count": 15,
     "metadata": {},
     "output_type": "execute_result"
    },
    {
     "data": {
      "image/png": "[encoded data removed]",
      "text/plain": [
       "<Figure size 432x432 with 1 Axes>"
      ]
     },
     "metadata": {
      "needs_background": "light"
     },
     "output_type": "display_data"
    }
   ],
   "source": [
    "# Solution to Part H\n",
    "fig = plt.figure(figsize=(6,6))\n",
    "ax = fig.add_subplot(111)\n",
    "ax.set_xlabel(\"column\")\n",
    "ax.set_ylabel(\"Min, Max, Q1-Q3, and Outliers\")\n",
    "ax.set_title(\"Box and Whisker Plot for height_f\")\n",
    "dfFrosh.boxplot(column = 'height_f', ax=ax)"
   ]
  },
  {
   "cell_type": "markdown",
   "metadata": {},
   "source": [
    "$\\textbf{Description}$\n",
    "As you can see above, the interquartile range is specified by the box itself. This means that within this box are the data points from the 1st quartile to the 3rd quartile. The whiskers from the box extend to the upper and lower extremes, where any data outside of these whiskers is considered an outlier."
   ]
  },
  {
   "cell_type": "markdown",
   "metadata": {},
   "source": [
    "## Part I \n",
    "\n",
    "***(8 points)*** \n",
    "\n",
    "i).  Create a **frequency** histogram of 'lunch_money'.  Label your axes.   \n",
    "ii).  Then ***give a shape descriptive name for this type of distribution.***\n"
   ]
  },
  {
   "cell_type": "code",
   "execution_count": 16,
   "metadata": {},
   "outputs": [
    {
     "data": {
      "text/plain": [
       "array([<AxesSubplot:title={'center':'lunch_money'}, xlabel='Lunch money spent', ylabel='Frequency of students'>],\n",
       "      dtype=object)"
      ]
     },
     "execution_count": 16,
     "metadata": {},
     "output_type": "execute_result"
    },
    {
     "data": {
      "image/png": "[encoded data removed]",
      "text/plain": [
       "<Figure size 576x576 with 1 Axes>"
      ]
     },
     "metadata": {
      "needs_background": "light"
     },
     "output_type": "display_data"
    }
   ],
   "source": [
    "# Solution to Part I\n",
    "fig, ax = plt.subplots(figsize=(8,8))\n",
    "my_bins = range(0,100, 5)\n",
    "ax.set_title(\"Frequency histogram of lunch_money\")\n",
    "ax.set_xlabel(\"Lunch money spent\")\n",
    "ax.set_ylabel(\"Frequency of students\")\n",
    "dfFrosh.hist(column = 'lunch_money', ax=ax, bins = my_bins)"
   ]
  },
  {
   "cell_type": "markdown",
   "metadata": {},
   "source": [
    "$\\textbf{Part II}$\n",
    "This data is clearly a skew right distribution, as the mean is greater than the median"
   ]
  },
  {
   "cell_type": "markdown",
   "metadata": {},
   "source": [
    "## Part J\n",
    "After viewing the 'lunch_money' distribution we might conclude that around 80% of students eat a cheap (\"C\") meal, 18% eat a middle priced (\"M\") meal, and 2% eat an expensive (\"E\") meal.\n",
    "\n",
    "Imagine choosing a student from this list at random to see if they ate a middle priced, \"M\", meal. You should expect this to be true about 18% of the time.\n",
    "\n",
    "Suppose you choose a student from the list, record whether or not they at a middle priced, \"M\", meal or not, and then you randomly chose again, and again, and again, etc. \n",
    "\n",
    "\n",
    "***(10 points)*** \n",
    "\n",
    "i).  Create a simulation that will randomly choose \"C\", \"M\", and \"E\" according to the probabilites \"C\" = 80%, \"M\"=18%, and \"E\"=2%.  \n",
    "(Note that this simulation will NOT randomly choose from the actual data stored in frosh.csv).\n",
    "\n",
    "ii).  Make a plot of the $\\color{red}{\\text{running estimate}}$ of the probability of a student eating a 'middle priced', \"M\", meal as the number of choices increases:\n",
    "\n",
    "$\\frac{m_1}{1}$, $\\frac{m_2}{2}$, $\\frac{m_3}{3}$, ... , $\\frac{m_{500}}{500}$, where $m_i$ is the number of M's discovered in your random choices out of $i$ trials.\n",
    "\n",
    "Run the simulation for 500 choices, and graph the 500 ratios.  \n",
    "\n",
    "iii).  Then comment on if/when the graph flattens out to the expected 18% within these 500 ratios."
   ]
  },
  {
   "cell_type": "code",
   "execution_count": 17,
   "metadata": {},
   "outputs": [
    {
     "data": {
      "text/plain": [
       "Text(0, 0.5, 'Percent of middle priced meals')"
      ]
     },
     "execution_count": 17,
     "metadata": {},
     "output_type": "execute_result"
    },
    {
     "data": {
      "image/png": "[encoded data removed]",
      "text/plain": [
       "<Figure size 864x432 with 1 Axes>"
      ]
     },
     "metadata": {
      "needs_background": "light"
     },
     "output_type": "display_data"
    }
   ],
   "source": [
    "#Solution to J\n",
    "# Uncomment the random.seed function below, but do not change the statement or its input value.\n",
    "# Put your code for Part J after the random.seed function\n",
    "\n",
    "\n",
    "np.random.seed(54321)\n",
    "\n",
    "#YOUR CODE HERE\n",
    "#setting up probabilities for the prices\n",
    "lunch = {'prices' : np.array([\"C\", \"M\",\"E\"]), 'probs' : np.array([80/100, 18/100, 2/100])}\n",
    "#function that randomly chooses a meal price, and returns a string with the corresponding letter\n",
    "def chooseLunch():\n",
    "    return np.random.choice(lunch['prices'], p = lunch['probs'])\n",
    "#an array of size 500, used to store the choices of meals\n",
    "choices = np.array([chooseLunch() for ii in range(500)])\n",
    "#setting up an empty array with length 500\n",
    "prob_med = np.zeros(len(choices))\n",
    "#looping through 500 times, each time taking the proportion of middle priced meals to the total number of meal choices\n",
    "for i in range(len(prob_med)):\n",
    "    prob_med[i] = np.sum(choices[:i+1] == \"M\")/len(choices[:i+1])\n",
    "fig,ax = plt.subplots(figsize = (12,6))\n",
    "ax.plot(prob_med)\n",
    "ax.set_title(\"Running estimate of eating a middle priced meal\")\n",
    "ax.set_xlabel(\"Number of choices\")\n",
    "ax.set_ylabel(\"Percent of middle priced meals\")"
   ]
  },
  {
   "cell_type": "markdown",
   "metadata": {},
   "source": [
    "$\\textbf{Description: }$ It looks like this graph is pretty similar to our expected outcome of 18%. It may be more around the 20% range, but it is close enough given 500 choices. Around roughly 30 choices in this simulation do we start to see that percentage start to get closer to 18%. If we increase the number of choices for our graph, to let's say 1000, the percentage will continue to get closer and closer to 18% the more tests we run."
   ]
  },
  {
   "cell_type": "markdown",
   "metadata": {},
   "source": [
    "# Part K\n",
    "\n",
    "***(6 points)*** Create a **frequency** histogram of 'height'.   Label your axes."
   ]
  },
  {
   "cell_type": "code",
   "execution_count": 18,
   "metadata": {},
   "outputs": [
    {
     "data": {
      "text/plain": [
       "array([<AxesSubplot:title={'center':'height'}, xlabel='Height of student', ylabel='Frequency of students'>],\n",
       "      dtype=object)"
      ]
     },
     "execution_count": 18,
     "metadata": {},
     "output_type": "execute_result"
    },
    {
     "data": {
      "image/png": "[encoded data removed]",
      "text/plain": [
       "<Figure size 576x576 with 1 Axes>"
      ]
     },
     "metadata": {
      "needs_background": "light"
     },
     "output_type": "display_data"
    }
   ],
   "source": [
    "# Solution to Part K here:\n",
    "fig, ax = plt.subplots(figsize=(8,8))\n",
    "my_bins = range(50,80, 2)\n",
    "ax.set_xlabel(\"Height of student\")\n",
    "ax.set_ylabel(\"Frequency of students\")\n",
    "dfFrosh.hist(column = 'height', ax=ax, bins = my_bins)"
   ]
  },
  {
   "cell_type": "markdown",
   "metadata": {},
   "source": [
    "## Part L\n",
    "\n",
    "The height data roughly follows a normal distribution with a mean, $\\mu$, and standard deviation, $\\sigma$, that you can calculate from the data. \n",
    "\n",
    "***(8 points)***\n",
    "\n",
    "i).  Write some code that will create a $N(0,1)$ distribution from this same data.\n",
    "i.e., take the $N(\\mu, \\sigma^2)$ data currently stored in 'height' and transform it into data from a $N(0,1)$ distribution and store it in another column called 'height_N01'.\n",
    "\n",
    "ii).  Create a **density** histogram of 'height_N01'.  Label your axes.\n"
   ]
  },
  {
   "cell_type": "code",
   "execution_count": 19,
   "metadata": {},
   "outputs": [
    {
     "name": "stderr",
     "output_type": "stream",
     "text": [
      "/tmp/ipykernel_576/299073365.py:6: SettingWithCopyWarning: \n",
      "A value is trying to be set on a copy of a slice from a DataFrame.\n",
      "Try using .loc[row_indexer,col_indexer] = value instead\n",
      "\n",
      "See the caveats in the documentation: https://pandas.pydata.org/pandas-docs/stable/user_guide/indexing.html#returning-a-view-versus-a-copy\n",
      "  dfFrosh['height_N01'] = dfFrosh['height'].apply(lambda x: ((x - hMean)/hDev))\n"
     ]
    },
    {
     "data": {
      "image/png": "[encoded data removed]",
      "text/plain": [
       "<Figure size 720x288 with 1 Axes>"
      ]
     },
     "metadata": {
      "needs_background": "light"
     },
     "output_type": "display_data"
    }
   ],
   "source": [
    "# Solution to Part L here:\n",
    "#getting the mean and std dev\n",
    "hMean = dfFrosh['height'].mean()\n",
    "hDev = dfFrosh['height'].std()\n",
    "#creating a new column which normalizes the data((x-mean)/std)\n",
    "dfFrosh['height_N01'] = dfFrosh['height'].apply(lambda x: ((x - hMean)/hDev))\n",
    "#plotting\n",
    "fig, ax = plt.subplots(nrows=1, ncols=1, figsize=(10,4))\n",
    "ax.set_xlabel(\"Height of student\")\n",
    "dfFrosh.hist(column = 'height_N01', ax=ax, density = True, bins = 20)\n",
    "ax.grid(alpha=0.25)\n",
    "ax.set_axisbelow(True)\n",
    "plt.xticks(range(-10,10+1));\n",
    "ax.set_xlim([-5,5])\n",
    "ax.set_ylim([0,.5]);"
   ]
  },
  {
   "cell_type": "markdown",
   "metadata": {},
   "source": [
    "## Part M\n",
    "\n",
    "***(8 points)*** \n",
    "\n",
    "i).  What percentage of students in the data are between 5 foot 6 inches and 6 feet tall, i.e. between 5'6''and 6'?\n",
    "\n",
    "\n",
    "ii).  Assuming height is normally distributed with mean and standard deviation calculated from the data, calculate the probability of being between 5 foot 6 inches and 6 feet tall using a normal distribution.   Then comment on how this answer compares to your answer in part (i)."
   ]
  },
  {
   "cell_type": "code",
   "execution_count": 20,
   "metadata": {},
   "outputs": [
    {
     "name": "stdout",
     "output_type": "stream",
     "text": [
      "Mean height:  69.03691073219655\n",
      "Std Dev of height:  3.1303094149281656\n",
      "\n",
      "Part 1:\n",
      "Approximately 68.2% of students are between 5'6 and 6'\n",
      "\n",
      "Part2:\n",
      "Approximately 66.21% of students are between 5'6 and 6'\n"
     ]
    }
   ],
   "source": [
    "# Solution for Part M here:\n",
    "print(\"Mean height: \",dfFrosh['height'].mean())\n",
    "print(\"Std Dev of height: \",dfFrosh['height'].std())\n",
    "#part 1\n",
    "count = 0\n",
    "#looping through each row in the height column\n",
    "for i in dfFrosh['height']:\n",
    "    #checking if they are in between 5'6\" and 6', incrementing if they are\n",
    "    if i >= 66.0 and i<= 72.0:\n",
    "        count = count + 1\n",
    "#dividing by the total length to get percentage\n",
    "perc = 100*(count/len(dfFrosh))\n",
    "perc = round(perc, 2)\n",
    "print(\"\\nPart 1:\")\n",
    "print(\"Approximately {}% of students are between 5'6 and 6'\".format(perc))\n",
    "\n",
    "#part 2\n",
    "#finding scores of both lower and upper heights\n",
    "zlower = ((66.0 - dfFrosh['height'].mean())/dfFrosh['height'].std())\n",
    "zupper = ((72.0 - dfFrosh['height'].mean())/dfFrosh['height'].std())\n",
    "#P(zlower <= height <= zupper)\n",
    "normPerc = norm.cdf(zupper) - norm.cdf(zlower)\n",
    "normPerc = normPerc * 100\n",
    "normPerc = round(normPerc, 2)\n",
    "print(\"\\nPart2:\\nApproximately {}% of students are between 5'6 and 6'\".format(normPerc))"
   ]
  },
  {
   "cell_type": "markdown",
   "metadata": {},
   "source": [
    "$\\textbf{Comment:}$ The answers are incredibly close to one another, and the small differences in the percentages can be accounted for by the math. The roughly 68.2% would correspond to the data between $-1 \\leq z \\leq 1$, as roughly 68% of data is found within 1 standard deviation of the mean in a normal distribution. However, we can see that the mean is 69.04 and std deviation is 3.13, meaning that to be within one std deviation from the mean, you have to be in rage: $65.91 \\leq x \\leq 72.16$, and we are testing between 66 and 72, meaning that what we are testing for is a little less than 1 standard deviation away from the mean, and is therefore slightly less of a percentage of data as a result"
   ]
  },
  {
   "cell_type": "markdown",
   "metadata": {},
   "source": [
    "# Problem 2\n",
    "***\n",
    "\n",
    "You are at a picnic when you come across a cooler topped with ice so you can't see what drink you might randomly grab from the inside. The cooler happens to be filled with 12 clam juices and 12 cokes. \n",
    "\n",
    "A | B\n",
    "- | - \n",
    "![alt](clam.png) |![alt](coke.png)\n",
    "\n",
    "You decide you would like a delicious, refreshing drink on this hot picnic day. \n",
    "\n",
    "In fact, you decide you would like two drinks. \n",
    "\n",
    "So, you reach into the cooler and randomly grab the first of two beverages.\n",
    "\n",
    "The bottles feel remarkably similar, so there is no way to tell the difference until you have the drink in hand.\n",
    "\n",
    "- If you grab a Coke first, then you will drop that disgusting drink back into the icy water of the cooler and add 2 more warm clam juices to the cooler in order to increase the ratio for the next grab. \n",
    "- If, however, your first grab is a clam juice, then you will keep it and reach in for a second beverage.\n"
   ]
  },
  {
   "cell_type": "markdown",
   "metadata": {},
   "source": [
    "## Part A\n",
    "\n",
    "\n",
    "\n",
    "***(10 points)*** Write a simple simulation with 10,000 trials that estimates the probability that your ***first and second grabs are both Cokes***."
   ]
  },
  {
   "cell_type": "code",
   "execution_count": 21,
   "metadata": {},
   "outputs": [
    {
     "name": "stdout",
     "output_type": "stream",
     "text": [
      "Given the information above, through 10,000 trials, we have found that roughly 23.46% of the time we will grab two cokes\n"
     ]
    }
   ],
   "source": [
    "# Write your code for Part A here:\n",
    "def grabtwoDrinks():\n",
    "    #randomly choose a clam or a coke (50/50 probabilities)\n",
    "    firstChoice = np.random.choice([\"Clam\",\"Coke\"], p = [12/24,12/24])\n",
    "    #if the first drink is a coke, we will randomly choose a second drink, with an additional two clam juices in the mix\n",
    "    if(firstChoice == \"Coke\"):\n",
    "        secondChoice = np.random.choice([\"Clam\", \"Coke\"], p = [14/26, 12/26])\n",
    "        #if the second drink is a coke, we successfully had our first and second grabs be cokes, return true\n",
    "        if(secondChoice == \"Coke\"):\n",
    "            return 1\n",
    "        #if either the first drink grabbed, or the second drink grabbed is clam juice, we will return false\n",
    "        else:\n",
    "            return 0\n",
    "    else:\n",
    "        return 0\n",
    "sum = 0\n",
    "#looping through 10,000 times. Each time a coke is grabbed first and second, we increment sum by 1. Then, we divide sum by\n",
    "#10,000 * 100 to find the percentage\n",
    "for i in range(10000):\n",
    "    sum = sum + grabtwoDrinks()\n",
    "sum = sum/100\n",
    "print(\"Given the information above, through 10,000 trials, we have found that roughly {}% of the time we will grab two cokes\".format(sum))"
   ]
  },
  {
   "cell_type": "markdown",
   "metadata": {},
   "source": [
    "### Part B\n",
    "Your friend Leroy Jenkins is at this same picnic. Leroy tends to run off from the group yelling his name every now and again. The issue is that Leroy can't hold his clam juice. Approximately 75% of the time when Leroy leaves he is actually going to get another clam juice, otherwise he is just off to use the restroom.\n",
    "\n",
    "You make a bet with your friends that out of the next 10 times that Leroy runs off screaming, he will be going to get another clam juice 7 or fewer of those ten times.\n",
    "\n",
    "Let $X$ be the random variable that is the number of times Leroy went to get a clam juice when he leaves in his next 10 excursions. So, $X$ can take on the values 0 thru 10. Assume that each trip away from the group is independent from all other trips and the probability of grabbing another clam juice is constant at 75%.\n",
    "\n",
    "***(8 points)*** \n",
    "\n",
    "i).  Write a function  that returns the **Cumulative Distribution Function (CDF)** of $X$ as a Numpy array.\n",
    "\n",
    "ii).  Use the function from part(i) to print out the **Cumulative Distribution Function (CDF)** of $X$ as a table (i.e. input values for $X$ given in one column and decimal outputs of the CDF given in the other column).   \n",
    "\n",
    "iii). What is the probability that you win the bet?  Explain how your answer relates to \n",
    "parts(i and/or ii).  "
   ]
  },
  {
   "cell_type": "code",
   "execution_count": 22,
   "metadata": {},
   "outputs": [
    {
     "name": "stdout",
     "output_type": "stream",
     "text": [
      "P(X <= 0) ===> 9.5367431640625e-07\n",
      "P(X <= 1) ===> 2.956390380859375e-05\n",
      "P(X <= 2) ===> 0.000415802001953125\n",
      "P(X <= 3) ===> 0.003505706787109375\n",
      "P(X <= 4) ===> 0.019727706909179688\n",
      "P(X <= 5) ===> 0.07812690734863281\n",
      "P(X <= 6) ===> 0.22412490844726562\n",
      "P(X <= 7) ===> 0.4744071960449219\n",
      "P(X <= 8) ===> 0.7559747695922852\n",
      "P(X <= 9) ===> 0.9436864852905273\n",
      "P(X <= 10) ===> 1.0\n"
     ]
    }
   ],
   "source": [
    "# Solution to Part B \n",
    "def get_CDF(n, p):\n",
    "    #finding the pmf through the formula of discrete variable\n",
    "    pmf = np.array([binom(n,k)*(p**k)*((1-p)**(n-k)) for k in range(n+1)])\n",
    "    #taking pmf values at each iteration, and summing all previous values up to the current index to get cdf\n",
    "    cmf = np.array([pmf[:k+1].sum() for k in range(n+1)])\n",
    "    return cmf\n",
    "#calling CMF with 10 trials, at a probability of 75% each time\n",
    "cmf = get_CDF(10,3/4)\n",
    "#printing out the table\n",
    "for i in range(11):\n",
    "    print(\"P(X <= {}) ===> {}\".format(i, cmf[i]))"
   ]
  },
  {
   "cell_type": "markdown",
   "metadata": {},
   "source": [
    "$\\textbf{Solution: }$ According to our CDF, the probability that Leroy grabs a clam juice 7 or less times out of 10 is roughly 47.4%. That is: $P(X \\leq 7) = .4744$\n",
    "\n",
    "We know this, because we are adding up the probabilities that he goes to grab a clam juice 1 time, 2 times..... 7 times, and that will provide us with the answer based on our CDF"
   ]
  },
  {
   "cell_type": "code",
   "execution_count": null,
   "metadata": {},
   "outputs": [],
   "source": []
  }
 ],
 "metadata": {
  "kernelspec": {
   "display_name": "Python 3 (ipykernel)",
   "language": "python",
   "name": "python3"
  },
  "language_info": {
   "codemirror_mode": {
    "name": "ipython",
    "version": 3
   },
   "file_extension": ".py",
   "mimetype": "text/x-python",
   "name": "python",
   "nbconvert_exporter": "python",
   "pygments_lexer": "ipython3",
   "version": "3.10.5"
  }
 },
 "nbformat": 4,
 "nbformat_minor": 4
}
