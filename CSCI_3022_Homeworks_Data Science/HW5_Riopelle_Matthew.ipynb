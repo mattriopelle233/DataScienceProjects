{
 "cells": [
  {
   "cell_type": "markdown",
   "metadata": {},
   "source": [
    "# Homework 05: CRV's, PDF's, CDF's\n",
    "***\n",
    "\n",
    "**Name**: Matthew Riopelle\n",
    "\n",
    "***\n",
    "\n",
    "This assignment is due on Canvas by **6:00PM on Friday September 30**. Your solutions to theoretical questions should be done in Markdown directly below the associated question.  Your solutions to computational questions should include any specified Python code and results as well as written commentary on your conclusions.  Remember that you are encouraged to discuss the problems with your classmates, but **you must write all code and solutions on your own**.\n",
    "\n",
    "**NOTES**: \n",
    "\n",
    "- Any relevant data sets should be available in the Homework 01 assignment write-up on Canvas. To make life easier on the grader if they need to run your code, do not change the relative path names here. Instead, move the files around on your computer.\n",
    "- If you're not familiar with typesetting math directly into Markdown then by all means, do your work on paper first and then typeset it later.  Remember that there is a [reference guide](https://math.meta.stackexchange.com/questions/5020/mathjax-basic-tutorial-and-quick-reference) linked on Canvas on writing math in Markdown. **All** of your written commentary, justifications and mathematical work should be in Markdown.\n",
    "- Because you can technically evaluate notebook cells is a non-linear order, it's a good idea to do $\\color{red}{\\text{Kernel}}$ $\\color{red}\\rightarrow$ $\\color{red}{\\text{Restart & Run All}}$ as a check before submitting your solutions.  That way if we need to run your code you will know that it will work as expected. \n",
    "- It is **bad form** to make your reader interpret numerical output from your code.  If a question asks you to compute some value from the data you should show your code output **AND** $\\color{red}{\\text{write a summary of the results}}$ in Markdown directly below your code. \n",
    "- This probably goes without saying, but... For any question that asks you to calculate something, you **must show all work and justify your answers to receive credit**. Sparse or nonexistent work will receive sparse or nonexistent credit. \n",
    "- **All the solutions should be solved by hand instead of using python in-built functions or external libraries unless mentioned explicitly**.\n",
    "\n",
    "---"
   ]
  },
  {
   "cell_type": "markdown",
   "metadata": {},
   "source": [
    "Import Pandas, NumPy, and matplotlib.pylab"
   ]
  },
  {
   "cell_type": "code",
   "execution_count": 1,
   "metadata": {},
   "outputs": [],
   "source": [
    "# Per the standard import pandas as 'pd', numpy as 'np', and matplotlib as 'plt'\n",
    "import pandas as pd\n",
    "import numpy as np\n",
    "import math\n",
    "import matplotlib.pylab as plt\n",
    "%matplotlib inline \n",
    "    # 'inline' puts your graph in the cell versus a new popup window"
   ]
  },
  {
   "cell_type": "markdown",
   "metadata": {},
   "source": [
    "# Problem 1\n",
    "***\n",
    "Suppose $X$ is a continuous random variable with a probability density function given by $f(x)=3x^2$ over $(a, 2)$. "
   ]
  },
  {
   "cell_type": "code",
   "execution_count": 2,
   "metadata": {},
   "outputs": [
    {
     "data": {
      "text/plain": [
       "[<matplotlib.lines.Line2D at 0x7f18cd6d96c0>]"
      ]
     },
     "execution_count": 2,
     "metadata": {},
     "output_type": "execute_result"
    },
    {
     "data": {
      "image/png": "[encoded data removed]",
      "text/plain": [
       "<Figure size 432x288 with 1 Axes>"
      ]
     },
     "metadata": {
      "needs_background": "light"
     },
     "output_type": "display_data"
    }
   ],
   "source": [
    "# This is just a visual for the PDF\n",
    "\n",
    "x = np.linspace(-4,4,100)\n",
    "y = 3*x**2\n",
    "\n",
    "plt.plot(x,y)\n",
    "\n",
    "plt.plot(2,12, marker=\"o\", markersize=10, markeredgecolor=\"red\", markerfacecolor=\"green\")"
   ]
  },
  {
   "cell_type": "markdown",
   "metadata": {},
   "source": [
    "### Part A\n",
    "\n",
    "***(4 points)*** What is $a$ such that $f(x)$ is a valid PDF?"
   ]
  },
  {
   "cell_type": "markdown",
   "metadata": {},
   "source": [
    "***solution:*** Put your solution to Part A here:\n",
    "\n",
    "In order for f(x) to be a valid pdf:\n",
    "\n",
    "1)$f(x) \\geq 0$\n",
    "\n",
    "2)$\\int_{-\\infty}^{\\infty} f(x) dx = 1$\n",
    "\n",
    "We are stating that the area has to be equal to 1, which makes sense in terms of probability. Since the PDF will cover all probabilities from a to 2, this will be equal to 1. Now, we do:\n",
    "\n",
    "$P(a \\leq x \\leq 2) = \\int_{a}^{2}3x^{2}$\n",
    "\n",
    "$= x^{3}]_{a}^{2}$\n",
    "\n",
    "$2^{3} - a^{3} = 1$\n",
    "\n",
    "$a^{3} = 7$\n",
    "\n",
    "$a = \\sqrt[3]{7}$"
   ]
  },
  {
   "cell_type": "markdown",
   "metadata": {},
   "source": [
    "### Part B\n",
    "\n",
    "***(2 points)*** What is $P(X=1.95)$ ?"
   ]
  },
  {
   "cell_type": "markdown",
   "metadata": {},
   "source": [
    "***solution:*** Put your solution to Part B here:\n",
    "\n",
    "A probability at exactly P(X=1.95) will always be zero. This is because of the following math:\n",
    "\n",
    "$P(X = 1.95) = \\int_{1.95}^{1.95}3x^{2}$\n",
    "\n",
    "$=x^{3}]_{1.95}^{1.95}$\n",
    "\n",
    "$=1.95^{3} - 1.95^{3}$\n",
    "\n",
    "$=0$"
   ]
  },
  {
   "cell_type": "markdown",
   "metadata": {},
   "source": [
    "### Part C\n",
    "\n",
    "***(2 points)*** What is $P(X<2)$ ?"
   ]
  },
  {
   "cell_type": "markdown",
   "metadata": {},
   "source": [
    "***solution:*** Put your solution to Part C here:\n",
    "\n",
    "As given in the inital question, the function goes from (a,2). This means that it will only give values up to 2, so $P(X < 2)$ will contain all possible outcomes. Therefore:\n",
    "\n",
    "$P(X < 2) = 1$"
   ]
  },
  {
   "cell_type": "markdown",
   "metadata": {},
   "source": [
    "### Part D\n",
    "\n",
    "***(3 points)*** What is $P(1.95 < X < 2)$ ?"
   ]
  },
  {
   "cell_type": "markdown",
   "metadata": {},
   "source": [
    "***solution:*** Put your solution to Part D here:\n",
    "\n",
    "We will simply use the PDF function here, where $a = 1.95$ and $b = 2$.\n",
    "\n",
    "$P(1.95 \\leq X \\leq 2) = \\int_{1.95}^{2}3x^2$\n",
    "\n",
    "$= x^{3}|_{1.95}^{2}$\n",
    "\n",
    "$=(2)^{3} - (1.95)^{3}$\n",
    "\n",
    "$=.585125$\n",
    "\n",
    "$P(1.95 < X < 2)$ is approximately 58.5%"
   ]
  },
  {
   "cell_type": "markdown",
   "metadata": {},
   "source": [
    "# Problem 2\n",
    "***\n",
    "\n",
    "Suppose the PDF of a continous random variable, $X$, appeared as follows:\n",
    "\n",
    "![title](triangle.png)"
   ]
  },
  {
   "cell_type": "markdown",
   "metadata": {},
   "source": [
    "### Part A\n",
    "\n",
    "***(4 points)*** Write the CDF as an explicit function."
   ]
  },
  {
   "cell_type": "markdown",
   "metadata": {},
   "source": [
    "***solution:*** Put your solution to Part A here:\n",
    "\n",
    "This is clearly a piecewise function, defined as follows:\n",
    "\n",
    "$\\begin{equation}\n",
    "f(x) = \n",
    "\\left\\{\n",
    "    \\begin{array}{lr}\n",
    "        1+x, & \\text{if }-1 \\leq x \\leq 0\\\\\n",
    "        1-x, & \\text{if } 0 \\leq x \\leq 1\\\\\n",
    "        0, & \\text{everywhere else}\n",
    "    \\end{array}\n",
    "\\right\\} \n",
    "\\end{equation}$\n",
    "\n",
    "Now, we take the integral of these piecewise functions in order to find the CDF, as the PDF is what is shown in $f(x)$ above\n",
    "\n",
    "From $-1 \\leq x < 0$\n",
    "\n",
    "$\\int_{-1}^{x}(1+x)dx = [x+\\frac{x^2}{2}]_{-1}^{x}$\n",
    "\n",
    "=$x+\\frac{x^2}{2}+\\frac{1}{2}$\n",
    "\n",
    "=$\\frac{(x+1)^{2}}{2}$\n",
    "\n",
    "From $0 \\leq x \\leq 1$\n",
    "\n",
    "$F(0) +\\int_{0}^{x}1-x = \\frac{1}{2} +[x - \\frac{x^2}{2}]_{0}^{x}$\n",
    "\n",
    "$= \\frac{1}{2} +x -\\frac{x^2}{2}$\n",
    "\n",
    "$= \\frac{1 + 2x - x^{2}}{2}$\n",
    "\n",
    "Now we have the CDF:\n",
    "\n",
    "$\\begin{equation}\n",
    "F(x) = \n",
    "\\left\\{\n",
    "    \\begin{array}{lr}\n",
    "        \\frac{(x+1)^2}{2}, & \\text{if } -1 \\leq x \\leq 0\\\\\n",
    "        \\frac{1+ 2x-x^2}{2}, & \\text{if } 0 \\leq x \\leq 1\\\\\n",
    "        1, & \\text{if} x > 1\n",
    "    \\end{array}\n",
    "\\right\\} \n",
    "\\end{equation}$"
   ]
  },
  {
   "cell_type": "markdown",
   "metadata": {},
   "source": [
    "### Part B\n",
    "\n",
    "***(3 points)*** Graph $F(x)$."
   ]
  },
  {
   "cell_type": "markdown",
   "metadata": {},
   "source": [
    "***solution:*** Put your solution (drawn, attached, or coded) to Part B here:\n",
    "\n",
    "![title](IMG_6523.jpg)"
   ]
  },
  {
   "cell_type": "markdown",
   "metadata": {},
   "source": [
    "### Part C\n",
    "\n",
    "***(2 points)*** What is $P(-\\frac{1}{2} < X < 0)$ ?"
   ]
  },
  {
   "cell_type": "markdown",
   "metadata": {},
   "source": [
    "***solution:*** Put your solution to Part C here:\n",
    "\n",
    "Using the CDF we found above, we will plug in $x = -\\frac{1}{2}$ and $0$.\n",
    "\n",
    "$P(-\\frac{1}{2} < X < 0) = P(X < 0) - P(X < -\\frac{1}{2})$\n",
    "\n",
    "$P(X < 0) = \\frac{1}{2}$\n",
    "\n",
    "$P(X < -\\frac{1}{2}) = \\frac{(\\frac{1}{2})^{2}}{2} = \\frac{1}{8}$\n",
    "\n",
    "$P(X < 0) - P(X < -\\frac{1}{2}) = \\frac{1}{2} - \\frac{1}{8} = \\frac{3}{8}$\n",
    "\n",
    "Therefore:\n",
    "\n",
    "$P(-\\frac{1}{2} < X < 0) = \\frac{3}{8}$"
   ]
  },
  {
   "cell_type": "markdown",
   "metadata": {},
   "source": [
    "# Problem 3\n",
    "***\n",
    "\n",
    "Suppose $X$ is a continuous random variable with probability density function given by $f(x) = \\frac{1}{4}$ for $5 < x < 9$."
   ]
  },
  {
   "cell_type": "markdown",
   "metadata": {},
   "source": [
    "### Part A\n",
    "\n",
    "***(2 points)*** What is the median? Justify your answer using the density functions."
   ]
  },
  {
   "cell_type": "markdown",
   "metadata": {},
   "source": [
    "***solution:*** Put your solution to Part A here:\n",
    "\n",
    "To find the median, we take the integral from the minimum (5) to n, and set it equal to 1/2 (50%)\n",
    "\n",
    "$\\int_{5}^{n}\\frac{1}{4}dx = \\frac{1}{2}$\n",
    "\n",
    "$\\frac{1}{4} \\cdot [x]_5^n = \\frac{1}{2}$\n",
    "\n",
    "$\\frac{1}{4} \\cdot (n-5) = \\frac{1}{2}$\n",
    "\n",
    "$\\frac{n}{4} = \\frac{7}{4}$\n",
    "\n",
    "$n = 7$\n",
    "\n",
    "The median occurs when $n = 7$"
   ]
  },
  {
   "cell_type": "markdown",
   "metadata": {},
   "source": [
    "### Part B\n",
    "\n",
    "***(2 points)*** What is the 3rd quartile?"
   ]
  },
  {
   "cell_type": "markdown",
   "metadata": {},
   "source": [
    "***solution:*** Put your solution to Part B here:\n",
    "\n",
    "Using the same logic from above, but setting it equal to 3/4(75% or 3rd quartile)\n",
    "\n",
    "$\\frac{n}{4}-\\frac{5}{4} = \\frac{3}{4}$\n",
    "\n",
    "$\\frac{n}{4} = \\frac{8}{4}$\n",
    "\n",
    "$n = 8$\n",
    "\n",
    "The 3rd quartile occurs at $n = 8$"
   ]
  },
  {
   "cell_type": "markdown",
   "metadata": {},
   "source": [
    "### Part C\n",
    "\n",
    "***(3 points)*** What is the 80th percentile?"
   ]
  },
  {
   "cell_type": "markdown",
   "metadata": {},
   "source": [
    "***solution:*** Put your solution to Part C here:\n",
    "\n",
    "Using the same logic from above, but setting it equal to 4/5(80% or 80th percentile)\n",
    "\n",
    "$\\frac{n}{4}-\\frac{5}{4} = \\frac{4}{5}$\n",
    "\n",
    "$\\frac{n}{4} = \\frac{41}{20}$\n",
    "\n",
    "$n = \\frac{41}{5}$\n",
    "\n",
    "The 80th percentile occurs at $n = \\frac{41}{5}$"
   ]
  },
  {
   "cell_type": "markdown",
   "metadata": {},
   "source": [
    "# Problem 4\n",
    "***\n",
    "\n",
    "Let $X$ be a continuous random variable with the following probability density function: $f(x) = \\frac{1}{2}(x+1)$ for $-1 < x < 1$.\n",
    "\n",
    "***(4 points)*** What is the $64^{\\text{th}}$ percentile of $X$?\n"
   ]
  },
  {
   "cell_type": "markdown",
   "metadata": {},
   "source": [
    "***solution:*** Put your answer to Problem 4 here:\n",
    "\n",
    "Since $-1 < x < 1$, we will take the integral from -1 to n and set it equal to 64/100 (64th percentile)\n",
    "\n",
    "$\\frac{1}{2} \\cdot \\int_{-1}^{n}(x+1)dx = \\frac{64}{100}$\n",
    "\n",
    "$\\frac{1}{2} \\cdot [\\frac{x^2}{2} + x]_{-1}^n = \\frac{64}{100}$\n",
    "\n",
    "$\\frac{1}{2} \\cdot (\\frac{n^2+2n}{2} + \\frac{1}{2}) = \\frac{64}{100}$\n",
    "\n",
    "$n^2 + 2n + 1 = \\frac{64}{25}$\n",
    "\n",
    "$(n+1)^2 = \\frac{64}{25}$\n",
    "\n",
    "$n+1 = \\pm\\frac{8}{5}$\n",
    "\n",
    "$n = \\frac{3}{5}$ OR $n = \\frac{-13}{5}$\n",
    "\n",
    "Since the function is from $-1 < x < 1$, theres only one possible option to choose for n here.\n",
    "\n",
    "Therefore, the 64th percentile of $X = \\frac{3}{5}$"
   ]
  },
  {
   "cell_type": "markdown",
   "metadata": {},
   "source": [
    "# Problem 5\n",
    "***\n",
    "\n",
    "Consider the PDF named $P$ below:\n",
    "\n",
    "$$\\huge{P(x; \\mu, \\sigma) = \\frac{1}{\\sigma \\sqrt{2 \\pi}} e^{- \\frac{1}{2}\\left(\\frac{x-\\mu}{\\sigma} \\right)^2}}$$"
   ]
  },
  {
   "cell_type": "markdown",
   "metadata": {},
   "source": [
    "### Part A\n",
    "\n",
    "***(3 points)*** Write a function that takes $x$, $\\sigma$ and $\\mu$ as inputs.\n",
    "\n",
    "The function should return the value of $P$."
   ]
  },
  {
   "cell_type": "code",
   "execution_count": 3,
   "metadata": {},
   "outputs": [],
   "source": [
    "# code your function for Part A here (Allowed to use python libraries):\n",
    "\n",
    "def getPDF(x,m,d):\n",
    "    value = (1/(d * math.sqrt(2 * math.pi))) * (math.e**((-1/2)*((x-m)/d)**2))\n",
    "    return value"
   ]
  },
  {
   "cell_type": "markdown",
   "metadata": {},
   "source": [
    "### Part B\n",
    "\n",
    "Suppose $\\mu=0$ and $\\sigma=1$\n",
    "\n",
    "$\\phantom{xxx}1]$ ***(1 point)*** Use your function to find the height of the graph at $x=1$.\n",
    " \n",
    "$\\phantom{xxx}2]$ ***(1 point)*** Use your function to find the height of the graph at $x=1.1$.\n",
    "\n",
    "$\\phantom{xxx}3]$ ***(1 point)*** Use your function to find the height of the graph at $x=1.2$.\n",
    "\n",
    "Note : Do not round off your answers."
   ]
  },
  {
   "cell_type": "code",
   "execution_count": 4,
   "metadata": {},
   "outputs": [
    {
     "name": "stdout",
     "output_type": "stream",
     "text": [
      "The height at x = 1 is : 0.24197072451914337\n"
     ]
    }
   ],
   "source": [
    "# Solution to Part B, #1 here:\n",
    "#simply use the parameters getPDF(1,0,1)\n",
    "print(\"The height at x = 1 is :\", getPDF(1,0,1))"
   ]
  },
  {
   "cell_type": "code",
   "execution_count": 5,
   "metadata": {},
   "outputs": [
    {
     "name": "stdout",
     "output_type": "stream",
     "text": [
      "The height at x = 1.1 is : 0.21785217703255053\n"
     ]
    }
   ],
   "source": [
    "# Solution to Part B, #2 here:\n",
    "#simply use the parameters getPDF(1.1,0,1)\n",
    "print(\"The height at x = 1.1 is :\" ,getPDF(1.1,0,1))"
   ]
  },
  {
   "cell_type": "code",
   "execution_count": 6,
   "metadata": {},
   "outputs": [
    {
     "name": "stdout",
     "output_type": "stream",
     "text": [
      "The height at x = 1.2 is :  0.19418605498321295\n"
     ]
    }
   ],
   "source": [
    "# Solution to Part B #3 here:\n",
    "#simply use the parameters getPDF(1.2,0,1)\n",
    "print(\"The height at x = 1.2 is : \",getPDF(1.2,0,1))"
   ]
  },
  {
   "cell_type": "markdown",
   "metadata": {},
   "source": [
    "### Part C\n",
    "\n",
    "Still using $\\mu=0$ and $\\sigma=1$.\n",
    "\n",
    "***(4 points)*** Use your function to find the values of $P(x)$ for $x\\in[1,3]$ in steps of $0.2$. Hint: use an array; do NOT enter all values by hand. "
   ]
  },
  {
   "cell_type": "code",
   "execution_count": 7,
   "metadata": {},
   "outputs": [
    {
     "name": "stdout",
     "output_type": "stream",
     "text": [
      "At x =  1.0 the height is : 0.24197072451914337\n",
      "At x =  1.2 the height is : 0.19418605498321295\n",
      "At x =  1.4 the height is : 0.1497274656357449\n",
      "At x =  1.6 the height is : 0.11092083467945558\n",
      "At x =  1.8 the height is : 0.07895015830089419\n",
      "At x =  2.0 the height is : 0.053990966513188084\n",
      "At x =  2.2 the height is : 0.03547459284623146\n",
      "At x =  2.4 the height is : 0.022394530294842934\n",
      "At x =  2.6 the height is : 0.013582969233685634\n",
      "At x =  2.8 the height is : 0.00791545158297997\n",
      "At x =  3.0 the height is : 0.004431848411938012\n",
      "The total sum of x in [1,3] is :  0.9135455970013171\n"
     ]
    }
   ],
   "source": [
    "# Solution to Part B here\n",
    "pdfValues = np.array([getPDF(k,0,1) for k in np.arange(1,3.2,0.2)])\n",
    "count = 1.0\n",
    "for i in pdfValues:\n",
    "    print(\"At x = \", round(count, 1), \"the height is :\",i)\n",
    "    count += .2\n",
    "print(\"The total sum of x in [1,3] is : \", np.sum(pdfValues))"
   ]
  },
  {
   "cell_type": "markdown",
   "metadata": {},
   "source": [
    "### Part D\n",
    "\n",
    "The graphs below are probability density functions produced by $P$:\n",
    "\n",
    "Different input values create the different graphs.\n",
    "\n",
    "![title](normal.png)"
   ]
  },
  {
   "cell_type": "markdown",
   "metadata": {},
   "source": [
    "***(2 points)*** How do the sizes of $\\sigma$ compare? i.e. which graph has the smallest $\\sigma$ and which has the largest?"
   ]
  },
  {
   "cell_type": "markdown",
   "metadata": {},
   "source": [
    "***solution:*** Put your solution to Part D here:\n",
    "\n",
    "The size of $\\sigma$ is inversely proportional to the height of the graph at any given point.\n",
    "\n",
    "That means that since graph 1 has higher values at x = 0, it has the lowest standard deviation.\n",
    "\n",
    "$Size(\\sigma) = graph1 < graph 2 < graph 3$"
   ]
  },
  {
   "cell_type": "markdown",
   "metadata": {},
   "source": [
    "### Part E\n",
    "\n",
    "***(2 points)*** Referring to the same graphs mentioned/pictured in Part C, how do the sizes of $\\mu$ compare?"
   ]
  },
  {
   "cell_type": "markdown",
   "metadata": {},
   "source": [
    "***solution:*** Put your solution to Part E here:\n",
    "\n",
    "$\\mu$ is representative of the mean of the functions. Therefore, since graph 1 is the tallest of the graphs, it has the largest numbers composing it, and will have the largest $\\mu$\n",
    "\n",
    "$Size(\\mu) = graph3 < graph2 < graph1$"
   ]
  },
  {
   "cell_type": "markdown",
   "metadata": {},
   "source": [
    "### Rubric Check\n",
    "***\n",
    "***(5 points)*** Makesure your answers are thorough but not redundant. Explain your answers, don't just put a number. Make sure you have matched your questions on Gradescope. Make sure your PDF is correct and your LaTeX is correct. etc. etc. BE NEAT."
   ]
  }
 ],
 "metadata": {
  "kernelspec": {
   "display_name": "Python 3 (ipykernel)",
   "language": "python",
   "name": "python3"
  },
  "language_info": {
   "codemirror_mode": {
    "name": "ipython",
    "version": 3
   },
   "file_extension": ".py",
   "mimetype": "text/x-python",
   "name": "python",
   "nbconvert_exporter": "python",
   "pygments_lexer": "ipython3",
   "version": "3.10.5"
  }
 },
 "nbformat": 4,
 "nbformat_minor": 4
}
