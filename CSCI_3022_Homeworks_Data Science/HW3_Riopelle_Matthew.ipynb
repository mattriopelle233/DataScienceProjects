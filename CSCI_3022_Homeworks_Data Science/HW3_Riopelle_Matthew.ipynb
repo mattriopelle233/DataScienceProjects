{
 "cells": [
  {
   "cell_type": "markdown",
   "metadata": {},
   "source": [
    "# Homework 03: Probability \n",
    "***\n",
    "\n",
    "**Name**: Matthew Riopelle\n",
    "\n",
    "***\n",
    "\n",
    "This assignment is due on Canvas by **6:00PM on Friday September 16**. Your solutions to theoretical questions should be done in Markdown directly below the associated question.  Your solutions to computational questions should include any specified Python code and results as well as written commentary on your conclusions.  Remember that you are encouraged to discuss the problems with your classmates, but **you must write all code and solutions on your own**.\n",
    "\n",
    "**NOTES**: \n",
    "\n",
    "- Any relevant data sets should be available in the Homework 01 assignment write-up on Canvas. To make life easier on the grader if they need to run your code, do not change the relative path names here. Instead, move the files around on your computer.\n",
    "- If you're not familiar with typesetting math directly into Markdown then by all means, do your work on paper first and then typeset it later.  Remember that there is a [reference guide](https://math.meta.stackexchange.com/questions/5020/mathjax-basic-tutorial-and-quick-reference) linked on Canvas on writing math in Markdown. **All** of your written commentary, justifications and mathematical work should be in Markdown.\n",
    "- Because you can technically evaluate notebook cells is a non-linear order, it's a good idea to do $\\color{red}{\\text{Kernel}}$ $\\color{red}\\rightarrow$ $\\color{red}{\\text{Restart & Run All}}$ as a check before submitting your solutions.  That way if we need to run your code you will know that it will work as expected. \n",
    "- It is **bad form** to make your reader interpret numerical output from your code.  If a question asks you to compute some value from the data you should show your code output **AND** $\\color{red}{\\text{write a summary of the results}}$ in Markdown directly below your code. \n",
    "- This probably goes without saying, but... For any question that asks you to calculate something, you **must show all work and justify your answers to receive credit**. Sparse or nonexistent work will receive sparse or nonexistent credit. \n",
    "\n",
    "---"
   ]
  },
  {
   "cell_type": "markdown",
   "metadata": {},
   "source": [
    "Import Pandas and NumPy anytime you are doind data analysis."
   ]
  },
  {
   "cell_type": "code",
   "execution_count": 1,
   "metadata": {},
   "outputs": [],
   "source": [
    "# Per the standard import pandas as 'pd' and numpy as 'np'\n",
    "import pandas as pd\n",
    "import numpy as np\n"
   ]
  },
  {
   "cell_type": "markdown",
   "metadata": {},
   "source": [
    "You may or may not need this depending on how you create your own homework, but if you need to create a graph, you should load Matplotlib's Pylab library to set up Jupyter so that it will plot directly in the notebook."
   ]
  },
  {
   "cell_type": "code",
   "execution_count": 2,
   "metadata": {},
   "outputs": [],
   "source": [
    "import matplotlib.pylab as plt\n",
    "%matplotlib inline \n",
    "    # Recall 'inline' puts your graph in the cell versus a new popup window"
   ]
  },
  {
   "cell_type": "markdown",
   "metadata": {},
   "source": [
    "# Problem 1\n",
    "***\n",
    "Suppose you are asked to manage/interview the employees at a new Boulder start-up called ***Programmers of Large Opulent Problems***, or PLOP.\n",
    "\n",
    "PLOP employs 100 programmers. Forty-five of the programmers are proficient in Java, 30 in C#, 20 in Python, six in C# and Java, one in Java and Python, five in C# and Python, and just one programmer is proficient in all three languages."
   ]
  },
  {
   "cell_type": "markdown",
   "metadata": {},
   "source": [
    "***(7 points)***\n",
    "Suppose an employee is randomly chosen to interview with you concerning their coding proficiency and general productivity. What is the probability that the chosen employee is not proficient in any of the three languages mentioned?\n",
    "\n",
    "![title](programmer.png)\n"
   ]
  },
  {
   "cell_type": "markdown",
   "metadata": {},
   "source": [
    "Write up your solution to Problem 1 here:\n",
    "\n",
    "***Solution:***\n",
    "\n",
    "The following are the chances that you could have at picking an employee knowing the language described\n",
    "\n",
    "P(Java) = .45\n",
    "\n",
    "P(Python) = .20\n",
    "\n",
    "P(C#) = .30\n",
    "\n",
    "The following are the chances that you could have at picking an employee knowing both the laguages described\n",
    "\n",
    "P(Java + C#) = .06\n",
    "\n",
    "P(Python + Java) = .01\n",
    "\n",
    "P(C# + Python) = .05\n",
    "\n",
    "The following is the chance that you pick a programmer who knows all 3 languages\n",
    "\n",
    "P(Java+Python+C#) = .01\n",
    "\n",
    "Since someone who is counted at proficient in 2 languages is individually counted in both langauges and their union, we multiply that amount by 2 and subtract to get probability accounting for just that person. Much the same with all 3, we multiply that value by 3 to get rid of overlap.\n",
    "\n",
    "P(Proficient in Any Language) = P(Java) + P(Python) + P(C#) - 2((P(Java + C#)) + (P(Python + Java)) + (P(C# + Python)) -3P(Java+Python+C)\n",
    "\n",
    "=$$.45+.20+.30-2\\cdot(.06+.01+.05)-3\\cdot(.01)\\\\.95-2\\cdot12-.03\\\\=.68$$\n",
    "\n",
    "The probability that you pick someone from this company who is proficient in at least 1 of the languages is 68%. Taking the complement would yield the employees who would not know at least 1 language:\n",
    "\n",
    "$$P(Proficient in Any Language)^{C} = 1 - .68 = .32$$\n",
    "\n",
    "There is a 32% chance a randomly selected employee does not know C#, Python, or Java."
   ]
  },
  {
   "cell_type": "markdown",
   "metadata": {},
   "source": [
    "# Problem 2\n",
    "***\n",
    "For a certain period of time (months and months) you decide that sometimes wearing a colorful hat should be your latest fashion statement. Looking back over past time you note that there were some days you wore a hat and some days that you did not wear a hat.\n",
    "\n",
    "'A' is the event that you wore a red hat.\n",
    "'B' is the event that you wore a blue hat.\n",
    "'C' is the event that it rained.\n",
    "\n",
    "You do some data analysis on this past period of time.\n",
    "\n",
    "You discover that the probability that you wore a red hat or that it rained is $\\frac{2}{3}$.\n",
    "\n",
    "The probability that you wore a blue hat or that it rained is $\\frac{3}{4}$.\n",
    "\n",
    "The probability that you wore a red hat, or that you wore a blue hat, or that it rained is $\\frac{11}{12}$."
   ]
  },
  {
   "cell_type": "markdown",
   "metadata": {},
   "source": [
    "# Part A\n",
    "\n",
    "***(4 points)***\n",
    "\n",
    "What is the probability that you wore a red hat?"
   ]
  },
  {
   "cell_type": "markdown",
   "metadata": {},
   "source": [
    "Put your solution to Problem 2, Part A here:\n",
    "\n",
    "***solution:***   \n",
    "$$\\textbf{Got the value of A from Part C, AND still assuming A and C are independent.}$$\n",
    "$$\\textbf{See part C for all declarations of equations, their equivalences, etc.}$$\n",
    "$$P(A) + P(C) = \\frac{2}{3}$$\n",
    "$$P(A) + \\frac{1}{2} = \\frac{2}{3}$$\n",
    "$$P(A) = \\frac{1}{6}$$\n",
    "$$\\textbf{The probability that you wear a red hat is: } \\frac{1}{6}$$"
   ]
  },
  {
   "cell_type": "markdown",
   "metadata": {},
   "source": [
    "# Part B\n",
    "\n",
    "***(4 points)***\n",
    "\n",
    "What is the probability that you wore a blue hat?"
   ]
  },
  {
   "cell_type": "markdown",
   "metadata": {},
   "source": [
    "Put your solution to Problem 2, Part B here:\n",
    "\n",
    "***solution:***\n",
    "$$\\textbf{Got the value of C from Part C, AND still assuming B and C are independent}$$\n",
    "$$\\textbf{See part C for all declarations of equations, their equivalences, etc.}$$\n",
    "$$P(B) + P(C) = \\frac{3}{4}$$\n",
    "$$P(B) + \\frac{1}{2} = \\frac{3}{4}$$\n",
    "$$P(B) = \\frac{1}{4}$$\n",
    "$$\\textbf{The probability that you wear a blue hat is: } \\frac{1}{4}$$"
   ]
  },
  {
   "cell_type": "markdown",
   "metadata": {},
   "source": [
    "# Part C\n",
    "\n",
    "***(4 points)***\n",
    "\n",
    "What is the probability that it rained?"
   ]
  },
  {
   "cell_type": "markdown",
   "metadata": {},
   "source": [
    "Put your solution to Problem 2, Part B here:\n",
    "\n",
    "***solution:***\n",
    "\n",
    "$$\\text{We have the events:}\\\\\\text{A = wear a red hat}\\\\\\text{B = wear a blue hat}\\\\\\text{C = It rained}\\\\\\textbf{Writing out the question, we have:}\\\\P(A\\text{or}C) = \\frac{2}{3}$$\n",
    "$$\\\\P(B\\text{or}C) = \\frac{3}{4}$$\n",
    "$$\\\\P(A\\text{or}B\\text{or}C) = \\frac{11}{12}$$\n",
    "$$\\\\\\textbf{For the following we are assuming that A and C are independent, and that B and C are independent}$$\n",
    "$$P(A\\cup{C}) == P(A) + P(C)$$\n",
    "$$P(B\\cup{C}) == P(B) + P(C)$$\n",
    "$$\\textbf{From this, we get the formulas:}$$\n",
    "1.$$P(A) + P(C) = \\frac{2}{3}$$\n",
    "2.$$P(B) + P(C) = \\frac{3}{4}$$\n",
    "3.$$P(A) + P(B) + P(C) = \\frac{11}{12}$$\n",
    "$$\\textbf{Adding equation 1 and 2}$$\n",
    "$$P(A)+P(B)+2\\cdot P(C) = \\frac{2}{3} + \\frac{3}{4}$$\n",
    "$$\\textbf{Subtracting equation 3 from previous equation}$$\n",
    "$$P(A)+P(B)+2\\cdot P(C) = \\frac{17}{12}$$\n",
    "$$-(P(A) + P(B) + P(C) = \\frac{11}{12})$$\n",
    "$$P(C) = \\frac{6}{12}$$\n",
    "$$     = \\frac{1}{2}$$\n",
    "$$\\\\\\textbf{The probability that it rained is: } \\frac{1}{2}$$"
   ]
  },
  {
   "cell_type": "markdown",
   "metadata": {},
   "source": [
    "# Problem 3\n",
    "***\n",
    "It is free donut day on campus! There are three locations offering each participant one free donut; either a glazed donut or a cake donut.\n",
    "\n",
    "The C4C is offering donuts, 75% of their donuts are glazed and 25% are cake.\n",
    "\n",
    "The Alfred Packer Grill is offering donuts. 60% of their donuts are glazed and 40% are cake.\n",
    "\n",
    "The SEEC Cafe (East campus) is offering donuts, 45% are glazed and 55% are cake."
   ]
  },
  {
   "cell_type": "markdown",
   "metadata": {},
   "source": [
    "# Part A\n",
    "\n",
    "***(4 points)***\n",
    "\n",
    "If you randomly choose a donut location (each location is equally likely) and then your chosen location randomly grabs a donut and hands it to you, then what is the probability that your newly acquired donut is glazed?\n",
    "\n",
    "$\\color{blue}{\\text{The picture below is merely here to help visualize this as a law of total probability type problem.}}$\n",
    "\n",
    "$\\color{blue}{\\text{You need not use the pictured variables.}}$\n",
    "\n",
    "![title](tp.png)"
   ]
  },
  {
   "cell_type": "markdown",
   "metadata": {},
   "source": [
    "Put your answer to problem 3, part A here:\n",
    "\n",
    "***solution:***\n",
    "\n",
    "$$\\textbf{Let the following events be defined as follows:}$$\n",
    "$$\\text{G = the donut is glazed}$$\n",
    "$$L_i\\text{= the donut location i is chosen}$$\n",
    "$$\\textbf{We have the following defined by the problem:}$$\n",
    "$$P(L_i) = .33 \\text{  For all values of i}$$\n",
    "$$P(G | L_1) = .75$$\n",
    "$$P(G | L_2) = .60$$\n",
    "$$P(G | L_3) = .45$$\n",
    "$$\\textbf{The solution is given by plugging in our values with the Law of Total Probability}$$\n",
    "$$P(G) = P(G | L_1)\\cdot P(L_1) + P(G | L_2)\\cdot P(L_2) + P(G | L_3)\\cdot P(L_3)$$\n",
    "$$ = .75\\cdot\\frac{1}{3} + .60\\cdot\\frac{1}{3} + .45\\cdot\\frac{1}{3}$$\n",
    "$$\\textbf{Which equates to roughly a 59.9% chance of getting a glazed donut}$$"
   ]
  },
  {
   "cell_type": "markdown",
   "metadata": {},
   "source": [
    "# Part B\n",
    "\n",
    "***(5 points)***\n",
    "\n",
    "For the same situation mentioned above, create some code that will run a simulation to estimate the probability of getting a glazed donut. *(Use n=1000)*\n",
    "\n",
    "Run the code and verify that it agrees with the by-hand computation you arrived at above."
   ]
  },
  {
   "cell_type": "code",
   "execution_count": 5,
   "metadata": {},
   "outputs": [
    {
     "name": "stdout",
     "output_type": "stream",
     "text": [
      "The probability of getting a glazed donut is: 0.5978\n",
      "Thus, the probability given by the code is 59.9%, which matches up with my handwritten work\n"
     ]
    }
   ],
   "source": [
    "# Put your code for Part B here:\n",
    "location1 = {'donuts' : np.array([\"glazed\", \"cake\"]), 'probs' : np.array([3/4, 1/4])}\n",
    "location2 = {'donuts' : np.array([\"glazed\", \"cake\"]), 'probs' : np.array([3/5, 2/5])}\n",
    "location3 = {'donuts' : np.array([\"glazed\", \"cake\"]), 'probs' : np.array([45/100, 55/100])}\n",
    "loc_choices = {'locations' : np.array([location1, location2, location3]), 'probs' : np.array([1/3, 1/3, 1/3])}\n",
    "def glazed(loc_choices):\n",
    "    #randomly choose location\n",
    "    loc = np.random.choice(loc_choices['locations'], p = loc_choices['probs'])\n",
    "    #randomly choose a donut and return\n",
    "    return np.random.choice(loc['donuts'], p = loc['probs'])\n",
    "\n",
    "def probability_of_glazed(choice, loc_choices, num_samples=10000):\n",
    "    # array of donuts\n",
    "    donuts = np.array([glazed(loc_choices) for ii in range(num_samples)])\n",
    "    # compute fraction of glazed donuts \n",
    "    return np.sum(donuts == choice) / num_samples\n",
    "      # returns the total number of red balls in the sample\n",
    "\n",
    "print(\"The probability of getting a glazed donut is:\", probability_of_glazed(\"glazed\", loc_choices, num_samples=10000))\n",
    "print(\"Thus, the probability given by the code is 59.9%, which matches up with my handwritten work\")"
   ]
  },
  {
   "cell_type": "markdown",
   "metadata": {},
   "source": [
    "# Problem 4\n",
    "***\n",
    "Suppose you decide to join a game club to meet other folks on campus. You become facinated with the tetrahedron, or 4-sided die.\n",
    "\n",
    "This particular die has its sides marked with '1', '2', '3', and '4'.\n",
    "\n",
    "You roll the tetrahedron $\\color{red}{three}$ times:\n",
    "\n",
    "![title](tetra.png)\n",
    "\n"
   ]
  },
  {
   "cell_type": "markdown",
   "metadata": {},
   "source": [
    "# Part A\n",
    "\n",
    "***(3 points)***\n",
    "\n",
    "What is the probability that you roll a '4' three times in a row?\n"
   ]
  },
  {
   "cell_type": "markdown",
   "metadata": {},
   "source": [
    "Put your answer to number 4, part A here:\n",
    "\n",
    "***solution:***\n",
    "$$\\text{The probability of rolling a 4 three times in a row with a 4 sided dice is:} \\frac{1}{4}$$\n",
    "$$\\text{3 rolls would be: } \\frac{1}{4}\\cdot\\frac{1}{4}\\cdot\\frac{1}{4}$$\n",
    "$$ = \\frac{1}{64}$$\n",
    "$$\\textbf{The probability of rolling a 4 three times with a 4 sided dice is: } \\frac{1}{64}$$"
   ]
  },
  {
   "cell_type": "markdown",
   "metadata": {},
   "source": [
    "# Part B\n",
    "\n",
    "***(3 points)***\n",
    "\n",
    "What is the probability that you roll only a single '4' in the three rolls?"
   ]
  },
  {
   "cell_type": "markdown",
   "metadata": {},
   "source": [
    "Put your answer to number 4, part B, here:\n",
    "\n",
    "***solution:***\n",
    "$$\\textbf{I interpretted the question as getting EXACTLY one 4 out of 3 rolls}$$\n",
    "$$\\text{Probability of getting one 4 on 3 rolls:} \\frac{1}{4}\\cdot\\frac{3}{4}\\cdot\\frac{3}{4}$$\n",
    "$$\\text{The amount of way this combination can be found: } {3 \\choose 1} = 3$$\n",
    "$$\\text{Multiply: } 0.140625 \\cdot 3 = .421875$$\n",
    "$$\\textbf{We have a 42% chance of rolling one 4 on three rolls of the dice}$$"
   ]
  },
  {
   "cell_type": "markdown",
   "metadata": {},
   "source": [
    "# Part C\n",
    "\n",
    "***(4 points)***\n",
    "\n",
    "Given that you have observed at least one '4', what is the probability that you observe at least two 4's?"
   ]
  },
  {
   "cell_type": "markdown",
   "metadata": {},
   "source": [
    "Put your answer to number 4, part C, here:\n",
    "\n",
    "***solution:***\n",
    "$$\\text{Probability of getting two 4's on three rolls: } 3 \\cdot\\frac{1}{4}\\cdot\\frac{1}{4}\\cdot\\frac{3}{4} = \\frac{9}{64}$$\n",
    "$$\\text{Probability of getting three 4's on three rolls: } \\frac{1}{64}$$\n",
    "$$\\text{Adding probs together to get overall prob of getting at least two 4's:}$$\n",
    "$$\\frac{1}{64} + \\frac{9}{64} = \\frac{10}{64}$$\n",
    "$$\\textbf{The probability of rolling at least two 4's on three rolls of the dice is: } \\frac{10}{64}$$"
   ]
  },
  {
   "cell_type": "code",
   "execution_count": null,
   "metadata": {},
   "outputs": [],
   "source": []
  },
  {
   "cell_type": "markdown",
   "metadata": {},
   "source": [
    "# Problem 5\n",
    "***\n",
    "In an attempt to avoid COVID, a group of 100 students seperate themselves from CU society and choose to live in connected housing apart from all other people.\n",
    "\n",
    "Unfortunately, and unbeknown to anyone, one of the students had COVID when the group went into isolation.\n",
    "\n",
    "It is known that 90% of COVID tests will detect the virus (i.e. true positives) while 9.6% of the tests are false positives."
   ]
  },
  {
   "cell_type": "markdown",
   "metadata": {},
   "source": [
    "***(7 points)***\n",
    "\n",
    "If, on move-in day, a randomly chosen person, within this group of 100, gets a positive test result, what is the probability that they actually have COVID?"
   ]
  },
  {
   "cell_type": "markdown",
   "metadata": {},
   "source": [
    "Put your answer to problem 5 here:\n",
    "\n",
    "***solution:***\n",
    "$$\\textbf{The following are potential events: }$$\n",
    "$$\\text{V = virus is actually in person} \\\\\\text{T = test is positive}$$\n",
    "$$\\textbf{We are given the following:}$$\n",
    "$$P(V) = .01$$\n",
    "$$P(T|V) = .90$$\n",
    "$$P(T|V^{C}) = .096$$\n",
    "$$\\textbf{The following presents the likelihood that they actually have the virus, given they test positive}$$\n",
    "$$P(V|T) = \\frac{P(V \\cap T)}{P(T)} = \\frac{P(T|V) \\cdot P(V)}{P(T|V) \\cdot P(V) + P(T|V^{C} \\cdot P(V^{C})}$$\n",
    "$$ = \\frac{.90 \\cdot .01}{.90 \\cdot .01 + .096 \\cdot .99}$$\n",
    "$$ = \\frac{.09}{.18504}$$\n",
    "$$ = .48638$$\n",
    "$$\\\\\\textbf{If you get a positive test result, you have a 48.6% chance of actually having COVID}$$"
   ]
  },
  {
   "cell_type": "markdown",
   "metadata": {},
   "source": [
    "# Problem 6\n",
    "***\n",
    "### Formatting ***(5 points total)***\n",
    "\n",
    "a. Problems not linked to Gradescope ***(2 points)***\n",
    "\n",
    "b. Poor comments, or no commenting ***(1 point)***\n",
    "\n",
    "c. Markdown not rendered ***(1 point)***\n",
    "\n",
    "d. Explanations are not formatted correctly, or are not printed ***(1 point)***\n"
   ]
  },
  {
   "cell_type": "code",
   "execution_count": null,
   "metadata": {},
   "outputs": [],
   "source": []
  }
 ],
 "metadata": {
  "kernelspec": {
   "display_name": "Python 3 (ipykernel)",
   "language": "python",
   "name": "python3"
  },
  "language_info": {
   "codemirror_mode": {
    "name": "ipython",
    "version": 3
   },
   "file_extension": ".py",
   "mimetype": "text/x-python",
   "name": "python",
   "nbconvert_exporter": "python",
   "pygments_lexer": "ipython3",
   "version": "3.10.5"
  }
 },
 "nbformat": 4,
 "nbformat_minor": 4
}
