{
 "cells": [
  {
   "cell_type": "markdown",
   "metadata": {},
   "source": [
    "\n",
    "# Final Exam, Coding\n",
    "***\n",
    "\n",
    "**DUE DATE and SUBMISSION INSTRUCTIONS:**\n",
    "\n",
    "This exam is due on Gradescope AND Canvas by **5:59PM on Thursday, December 8th**. \n",
    "\n",
    "- Upload a PDF of this notebook (with all cells run and all LaTex fully rendered) to Gradescope by **5:59PM on Thursday, December 8th**. \n",
    "\n",
    "- AND upload this Jupyter notebook to Canvas by **5:59PM on Thursday, December 8th**.  \n",
    "\n",
    "Late Submittals:   **Gradescope and Canvas will NOT accept any submissions after 5:59PM.  No late exams will be accepted**.\n",
    "\n",
    "\n",
    "**FORMAT:** \n",
    "\n",
    "- Your solutions to theoretical questions should be done in Markdown and LaTex directly below the associated question. \n",
    "\n",
    "- Your solutions to computational questions should include any specified Python code and results as well as written commentary on your conclusions.\n",
    "\n",
    "**HERE ARE THE RULES:** \n",
    "\n",
    "1. All work, code and analysis, must be your own. It really is that simple.\n",
    "1. Only work uploaded prior to the deadline will be considered.\n",
    "1. You MAY use your course notes, posted lecture slides, textbooks, in-class notebooks, and homework solutions as resources.  You may also search online for answers to general knowledge questions like the form of a probability distribution function or how to perform a particular operation in Python/Pandas. \n",
    "3. You may **NOT** copy-paste solutions *from anywhere*.\n",
    "2. You may **NOT** post to message boards or other online resources asking for help.\n",
    "4. You may **NOT** collaborate with classmates or anyone else. \n",
    "5. This is meant to be like a coding portion of your final exam. So, the instructional team will be much less helpful than we typically are with homework. For example, we will not check answers, help debug your code, and so on.\n",
    "6.  If you have a question for us, post it as a **PRIVATE** message on Piazza.  If we decide that the question is appropriate for the entire class, then we will add it to a  midterm clarifications thread. \n",
    "7. If something is left open-ended, it is because we want to see how you approach the kinds of problems you will encounter in the wild, where it will not always be clear what sort of tests/methods should be applied. Feel free to ask clarifying questions though.\n",
    "8. Please stick to software used/taught in this class: Pandas, NumPy, Python 3.9, etc.\n",
    "\n",
    "Violation of the above rules will result in an immediate academic sanction (you will receive an F in the course), and a trip to the Honor Code Council.\n",
    "\n",
    "**By submitting this assignment, you agree to abide by the rules given above.**\n",
    "\n",
    "***\n",
    "\n",
    "**Name**: Matthew Riopelle\n",
    "\n",
    "***\n",
    "\n",
    "\n",
    "**NOTES**: \n",
    "\n",
    "- By the due date, turn in anything you have, there are no extensions, and some credit is better than no credit.  **DO NOT attempt your first upload at 5:00 PM** as you may encounter slow internet speeds or outages and again you will miss the upload and hence the entire exam. \n",
    "- Do **NOT** load or use any Python packages that are not available in Anaconda 3.9.  \n",
    "- This should go without saying, but... For any question that asks you to calculate something, you **must show all work to receive credit**. Sparse or nonexistent work will receive sparse or nonexistent credit.\n",
    "\n"
   ]
  },
  {
   "cell_type": "markdown",
   "metadata": {},
   "source": [
    "\n",
    "On this exam we are looking for $\\color{red}{\\text{HOW}}$ you answer questions and not necessarily $\\color{red}{\\text{WHAT}}$ you put for an answer. \n",
    "\n",
    "Tell the grader where to look for your answer and which question the work goes with.\n",
    "\n",
    "Be thorough, but be concise.\n",
    "\n",
    "Use full sentences and proper grammar and correct spelling.\n",
    "\n",
    "Comment your code.\n",
    "\n",
    "Demonstrate $\\color{red}{\\text{BOTH}}$ what you know about the question $\\color{red}{\\text{AND}}$ the coding you used to answer the question\n"
   ]
  },
  {
   "cell_type": "markdown",
   "metadata": {},
   "source": [
    "---\n",
    "**Shortcuts:**   [Example Question](#Ex) | [Imports](#Imp) | [Assessing Normality Tips](#Norm) | [Problem 1](#p1) | [Problem 2](#p2) | [Problem 3](#p3) |\n",
    "|  [Problem 4](#p4) | [Problem 5](#p5) | [Problem 6](#p6) |\n",
    "[Problem 7](#p7)\n",
    "\n",
    "---"
   ]
  },
  {
   "cell_type": "markdown",
   "metadata": {},
   "source": [
    "<a id='Ex'></a>\n",
    "# $\\color{red}{\\text{Example question}}$\n",
    "\n",
    "What values of $x$ solve the equation: $\\phantom{xx}x^2-5x=-6$?\n",
    "\n",
    "Solve analytically and then create a plot supporting your answer."
   ]
  },
  {
   "cell_type": "markdown",
   "metadata": {},
   "source": [
    "### $\\color{red}{\\text{This correct answer would be worth zero points}}$\n",
    "\n",
    "$x=2$ and $x=3$"
   ]
  },
  {
   "cell_type": "markdown",
   "metadata": {},
   "source": [
    "# $\\color{red}{\\text{This answer would be worth full points}}:$\n",
    "\n",
    "\n",
    "Solution to Example Question:\n",
    "\n",
    "$x^2-5x=-6$ can be factored after $-6$ is added to both sides.\n",
    "\n",
    "$(x-2)(x-3)=0$. The zero product property reveals that $\\boxed{x=2}$ or $\\boxed{x=3}$.\n",
    "\n",
    "This equation has two solutions as its graph crosses the x-axis twice as seen below."
   ]
  },
  {
   "cell_type": "code",
   "execution_count": 1,
   "metadata": {},
   "outputs": [
    {
     "data": {
      "text/plain": [
       "[<matplotlib.lines.Line2D at 0x7fefc0427610>]"
      ]
     },
     "execution_count": 1,
     "metadata": {},
     "output_type": "execute_result"
    },
    {
     "data": {
      "image/png": "[encoded data removed]",
      "text/plain": [
       "<Figure size 432x288 with 1 Axes>"
      ]
     },
     "metadata": {
      "needs_background": "light"
     },
     "output_type": "display_data"
    }
   ],
   "source": [
    "# AND HERE IS MY COMMENTED CODE TO GO WITH THE EXAMPLE QUESTION #1:\n",
    "\n",
    "import numpy\n",
    "import matplotlib.pylab as draw\n",
    "%matplotlib inline\n",
    "# matplotlib.pylab is used for plotting. 'inline' ensures the graph opens in Jupyter.\n",
    "\n",
    "x = numpy.linspace(1,4,100)\n",
    "# 'linspace' returns evenly spaced numbers over a specified interval\n",
    "\n",
    "y = x**2-5*x+6\n",
    "z = 0*x\n",
    "draw.plot(x,y)\n",
    "# This is the parabola\n",
    "\n",
    "draw.plot(x,z, ':')\n",
    "# This is the x-axis.\n",
    "\n",
    "draw.plot(2,0, marker=\"o\", markersize=5, markeredgecolor=\"red\", markerfacecolor=\"green\")\n",
    "draw.plot(3,0, marker=\"o\", markersize=5, markeredgecolor=\"red\", markerfacecolor=\"green\")\n",
    "# These last two 'draw' commands show the intersection of the parabola and the x-axis.\n",
    "# The intersections are the sought after solutions. See graph below.\n"
   ]
  },
  {
   "cell_type": "markdown",
   "metadata": {},
   "source": [
    "<a id='Imp'></a>\n",
    "# Begin Final Exam (Coding) Here\n",
    "***\n",
    "\n",
    "Here are some imports that were used in the construction of the answer key. DO NOT change the `random.seed()` value."
   ]
  },
  {
   "cell_type": "code",
   "execution_count": 2,
   "metadata": {},
   "outputs": [],
   "source": [
    "import numpy as np \n",
    "from scipy import stats\n",
    "import statsmodels.api as sm \n",
    "import pandas as pd\n",
    "import matplotlib.pylab as plt \n",
    "from scipy.stats import skew, kurtosis, norm\n",
    "import seaborn\n",
    "%matplotlib inline\n",
    "from sklearn.linear_model import LinearRegression\n",
    "from statsmodels.stats.multicomp import MultiComparison\n",
    "almostblack = np.array([10,10,10])/255\n",
    "mycolor = np.array([140,180,10])/255\n",
    "import random\n",
    "random.seed(8675309)\n"
   ]
  },
  {
   "cell_type": "markdown",
   "metadata": {},
   "source": [
    "<a id='Norm'></a>\n",
    "### Note Regarding Assessing Normality:\n",
    "\n",
    "You are asked to comment on the distribution of various datasets in this assignment. Also, you may, or may not, want to make decisions based on the normality of your data distribution. \n",
    "\n",
    "If it is helpful, you might consider using:\n",
    "\n",
    "`from scipy.stats import skew, kurtosis`\n",
    "\n",
    "You can verify how 'normal' your Pandas data set (named dfData) is by doing something like this:\n",
    "\n",
    "`print(skew(dfData))`\n",
    "\n",
    "`print(kurtosis(dfData))`\n",
    "\n",
    "\n",
    "#### The general rules you can use when assessing normality:\n",
    "\n",
    "If the skewness is between -0.5 and 0.5, the data are $\\color{green}{\\text{fairly symmetrical}}$.\n",
    "\n",
    "If the skewness is between -1 and – 0.5 or between 0.5 and 1, the data are $\\color{blue}{\\text{moderately skewed}}$.\n",
    "\n",
    "If the skewness is less than -1 or greater than 1, the data are $\\color{red}{\\text{highly skewed}}$.\n",
    "\n",
    "An excess kurtosis above 0 indicates the $\\color{blue}{\\text{tails are heavier than the normal distribution}}$.\n",
    "\n",
    "An excess kurtosis below 0 indicates the $\\color{blue}{\\text{tails are lighter than the normal distribution}}$.\n",
    "\n",
    "An excess kurtosis value of 1 and above or -1 and below represents a $\\color{red}{\\text{sizable departure from normality}}$.\n",
    "\n",
    "##### Commenting on how 'normal' your distributions are in this exam by using `skew` and `kurtosis`  values can only gain you more points for your description. "
   ]
  },
  {
   "cell_type": "markdown",
   "metadata": {},
   "source": [
    "<a id='p1'></a>\n",
    "# Problem 1\n",
    "\n",
    "For this problem you are welcome to use any built-in methods/functions we have used in class.  If a built-in function/method outputs summary statistics or other useful output variables you can use that output directly when answering any questions below UNLESS otherwise specified in the problem (i.e. unless we tell you in the problem to write code to calculate a particular statistic from scratch based on its definition, you can just get that statistic/info from the output of a built-in method/function).\n",
    "\n",
    "\n",
    "***\n",
    "Your friend owns a franchise business that sells and rents stand-up paddleboards.  \n",
    "They have expanded their business and opened up shops in 95 different towns across the U.S.\n",
    "They have collected data from each of their shops and have asked you to analyze the data.\n",
    "The data is in the file `paddle.csv`"
   ]
  },
  {
   "cell_type": "markdown",
   "metadata": {},
   "source": [
    " ***Import the data set `paddle.csv`, and take a look at it.***"
   ]
  },
  {
   "cell_type": "code",
   "execution_count": 3,
   "metadata": {},
   "outputs": [
    {
     "data": {
      "text/html": [
       "<div>\n",
       "<style scoped>\n",
       "    .dataframe tbody tr th:only-of-type {\n",
       "        vertical-align: middle;\n",
       "    }\n",
       "\n",
       "    .dataframe tbody tr th {\n",
       "        vertical-align: top;\n",
       "    }\n",
       "\n",
       "    .dataframe thead th {\n",
       "        text-align: right;\n",
       "    }\n",
       "</style>\n",
       "<table border=\"1\" class=\"dataframe\">\n",
       "  <thead>\n",
       "    <tr style=\"text-align: right;\">\n",
       "      <th></th>\n",
       "      <th>lakes</th>\n",
       "      <th>pop</th>\n",
       "      <th>advertising</th>\n",
       "      <th>competitors</th>\n",
       "      <th>sales</th>\n",
       "    </tr>\n",
       "  </thead>\n",
       "  <tbody>\n",
       "    <tr>\n",
       "      <th>0</th>\n",
       "      <td>1</td>\n",
       "      <td>63</td>\n",
       "      <td>4.3</td>\n",
       "      <td>1</td>\n",
       "      <td>14.1</td>\n",
       "    </tr>\n",
       "    <tr>\n",
       "      <th>1</th>\n",
       "      <td>1</td>\n",
       "      <td>25</td>\n",
       "      <td>10.8</td>\n",
       "      <td>2</td>\n",
       "      <td>19.0</td>\n",
       "    </tr>\n",
       "    <tr>\n",
       "      <th>2</th>\n",
       "      <td>1</td>\n",
       "      <td>40</td>\n",
       "      <td>11.8</td>\n",
       "      <td>2</td>\n",
       "      <td>19.8</td>\n",
       "    </tr>\n",
       "    <tr>\n",
       "      <th>3</th>\n",
       "      <td>1</td>\n",
       "      <td>89</td>\n",
       "      <td>9.6</td>\n",
       "      <td>0</td>\n",
       "      <td>19.9</td>\n",
       "    </tr>\n",
       "    <tr>\n",
       "      <th>4</th>\n",
       "      <td>1</td>\n",
       "      <td>33</td>\n",
       "      <td>6.4</td>\n",
       "      <td>2</td>\n",
       "      <td>22.4</td>\n",
       "    </tr>\n",
       "    <tr>\n",
       "      <th>...</th>\n",
       "      <td>...</td>\n",
       "      <td>...</td>\n",
       "      <td>...</td>\n",
       "      <td>...</td>\n",
       "      <td>...</td>\n",
       "    </tr>\n",
       "    <tr>\n",
       "      <th>90</th>\n",
       "      <td>8</td>\n",
       "      <td>96</td>\n",
       "      <td>3.4</td>\n",
       "      <td>8</td>\n",
       "      <td>11.8</td>\n",
       "    </tr>\n",
       "    <tr>\n",
       "      <th>91</th>\n",
       "      <td>8</td>\n",
       "      <td>37</td>\n",
       "      <td>3.6</td>\n",
       "      <td>9</td>\n",
       "      <td>12.7</td>\n",
       "    </tr>\n",
       "    <tr>\n",
       "      <th>92</th>\n",
       "      <td>8</td>\n",
       "      <td>75</td>\n",
       "      <td>7.5</td>\n",
       "      <td>9</td>\n",
       "      <td>17.2</td>\n",
       "    </tr>\n",
       "    <tr>\n",
       "      <th>93</th>\n",
       "      <td>8</td>\n",
       "      <td>31</td>\n",
       "      <td>11.5</td>\n",
       "      <td>9</td>\n",
       "      <td>19.5</td>\n",
       "    </tr>\n",
       "    <tr>\n",
       "      <th>94</th>\n",
       "      <td>8</td>\n",
       "      <td>39</td>\n",
       "      <td>14.3</td>\n",
       "      <td>8</td>\n",
       "      <td>21.3</td>\n",
       "    </tr>\n",
       "  </tbody>\n",
       "</table>\n",
       "<p>95 rows × 5 columns</p>\n",
       "</div>"
      ],
      "text/plain": [
       "    lakes  pop  advertising  competitors  sales\n",
       "0       1   63          4.3            1   14.1\n",
       "1       1   25         10.8            2   19.0\n",
       "2       1   40         11.8            2   19.8\n",
       "3       1   89          9.6            0   19.9\n",
       "4       1   33          6.4            2   22.4\n",
       "..    ...  ...          ...          ...    ...\n",
       "90      8   96          3.4            8   11.8\n",
       "91      8   37          3.6            9   12.7\n",
       "92      8   75          7.5            9   17.2\n",
       "93      8   31         11.5            9   19.5\n",
       "94      8   39         14.3            8   21.3\n",
       "\n",
       "[95 rows x 5 columns]"
      ]
     },
     "execution_count": 3,
     "metadata": {},
     "output_type": "execute_result"
    }
   ],
   "source": [
    "dfPaddle = pd.read_csv(\"paddle.csv\")\n",
    "dfPaddle"
   ]
  },
  {
   "cell_type": "markdown",
   "metadata": {},
   "source": [
    "### Data Description:\n",
    "The data file contains the following data for each of the 95 shops:\n",
    "\n",
    "`lakes` -  The number of lakes or reservoirs within a 50 mile radius of the shop.\n",
    "\n",
    "`pop` - Population density of the town where the shop is located (people per square mile).\n",
    "\n",
    "`advertising` - The shop's annual amount spent on advertising/promotions (in thousands of dollars).\n",
    "\n",
    "`competitors` - The number of competing stores within a 50 mile radius of the shop.\n",
    "\n",
    "`sales` - The shop's annual net sales revenue (in thousands of dollars)."
   ]
  },
  {
   "cell_type": "markdown",
   "metadata": {},
   "source": [
    "## Single-Predictor Regression\n",
    "\n",
    "\n",
    "\n",
    "### [1] Part A) A naive model\n",
    "\n",
    "Your friend says that since stand-up paddleboarding is a water activity, they would expect annual sales revenue to be dependent on the number of lakes/reservoirs in the region near a given shop.  \n",
    "\n",
    "Your task: \n",
    "- ***(i) (2 points):  Make a simple linear regression (SLR) model with `sales` as the response, predicted by the variable `lakes`.***    \n",
    "\n",
    "- ***Then write the equation for the model in a markdown cell.***\n",
    "\n"
   ]
  },
  {
   "cell_type": "code",
   "execution_count": 4,
   "metadata": {},
   "outputs": [
    {
     "name": "stdout",
     "output_type": "stream",
     "text": [
      "The equation of the regression line is: y = 24.63378 + -0.97230x\n"
     ]
    }
   ],
   "source": [
    "bhat, ahat, rval, pval, stderr = stats.linregress(dfPaddle[\"lakes\"], dfPaddle[\"sales\"])\n",
    "print(\"The equation of the regression line is: y = {:.5f} + {:.5f}x\".format(ahat, bhat))"
   ]
  },
  {
   "cell_type": "markdown",
   "metadata": {},
   "source": [
    "Using sales as the response variable (y) and lakes as the predictor variable (x):\n",
    "\n",
    "$y = 24.63378 - 0.97230x$"
   ]
  },
  {
   "cell_type": "markdown",
   "metadata": {},
   "source": [
    " - ***(ii) (3 points) Make a series of 3 side-by-side plots (described below).  \n",
    "Title each plot and label your axes on each plot.*** \n",
    "\n",
    "  - ***Lefthand plot: scatter plot of the data (i.e. lakes vs sales) and overlay the simple linear regression line you found above***.  \n",
    "\n",
    "  - ***Middle plot: frequency histogram of residuals of your SLR model.***  \n",
    "\n",
    "  - ***Righthand plot: scatter plot where the lake data values are the x-axis and the model residuals are the y-axis.***\n"
   ]
  },
  {
   "cell_type": "code",
   "execution_count": 5,
   "metadata": {},
   "outputs": [
    {
     "data": {
      "text/plain": [
       "Text(0.5, 1.0, 'Lakes vs model residuals')"
      ]
     },
     "execution_count": 5,
     "metadata": {},
     "output_type": "execute_result"
    },
    {
     "data": {
      "image/png": "[encoded data removed]",
      "text/plain": [
       "<Figure size 1296x576 with 3 Axes>"
      ]
     },
     "metadata": {
      "needs_background": "light"
     },
     "output_type": "display_data"
    }
   ],
   "source": [
    "fig, axes = plt.subplots(nrows=1, ncols=3, figsize=(18,8))\n",
    "axes[0].scatter(dfPaddle[\"lakes\"],dfPaddle[\"sales\"])\n",
    "axes[0].plot(dfPaddle[\"lakes\"], bhat*dfPaddle[\"lakes\"] + ahat, color = \"red\")\n",
    "axes[0].set_xlabel(\"Lakes\")\n",
    "axes[0].set_ylabel(\"Sales\")\n",
    "axes[0].set_title(\"Lakes vs Sales\")\n",
    "x = dfPaddle[\"lakes\"]\n",
    "y = dfPaddle[\"sales\"]\n",
    "x = sm.add_constant(x)\n",
    "model = sm.OLS(y, x, missing='drop')\n",
    "model_result = model.fit()\n",
    "seaborn.histplot(model_result.resid, ax = axes[1])\n",
    "axes[1].set_xlabel(\"Residuals\")\n",
    "axes[1].set_ylabel(\"Frequency\")\n",
    "axes[1].set_title(\"Residuals vs. their frequency\")\n",
    "axes[2].scatter(dfPaddle[\"lakes\"], model_result.resid)\n",
    "axes[2].set_xlabel(\"Lakes\")\n",
    "axes[2].set_ylabel(\"Residuals\")\n",
    "axes[2].set_title(\"Lakes vs model residuals\")"
   ]
  },
  {
   "cell_type": "markdown",
   "metadata": {},
   "source": [
    " - ***(iii). (2 points) Does this model seem appropriate?  For each of the 4 major assumptions of a simple linear regression model, use your plots in part (ii) to decide whether or not the dataset meets those assumptions.***\n",
    "\n"
   ]
  },
  {
   "cell_type": "markdown",
   "metadata": {},
   "source": [
    "Taking a look at these graphs, the first thing I notice is the the right graph (lakes vs residuals) seems to be homoscedastoic, which means that the spread of the residuals should be roughly the same in every strip, and it appears to be so. Secondly, the middle graph shows us that our residuals are $\\textbf{roughly } N(0, \\sigma^2)$ (normally distributed), so we are good there. Thirdly, the observations are independent of each other. $\\textbf{However,}$ it doesn't seem to me as though this data is completely linear. What I mean by saying this, is that lakes and sales don't seem to be highly related to each other, and thus should have a pretty low $R^2$ score."
   ]
  },
  {
   "cell_type": "markdown",
   "metadata": {},
   "source": [
    "\n"
   ]
  },
  {
   "cell_type": "markdown",
   "metadata": {},
   "source": [
    "### [1] Part B\n",
    " "
   ]
  },
  {
   "cell_type": "markdown",
   "metadata": {},
   "source": [
    "***(2 points) What is the meaning of the slope in the model in terms of the variables in the dataset?  Based on the physical meaning of the variables, does the value of this slope seem reasonable or does it surprise you?  Explain.***\n"
   ]
  },
  {
   "cell_type": "markdown",
   "metadata": {},
   "source": [
    "The slope here is indicative of a negative relationship between the number of lakes in the area, and the amount of sales in the area. That is, the more lakes that are present, the lower the sales based on this regression model. This doesn't seem super reasonable to me, as the store is literally selling paddle boards which should see higher sales in areas with more lakes. Because of the fact that the slope is negative, we come to this conclusion."
   ]
  },
  {
   "cell_type": "markdown",
   "metadata": {},
   "source": [
    "### [1] Part C\n",
    "***Your friend would like to know if there's sufficient evidence from this model to conclude that the number of nearby lakes/reservoirs is a statistically significant linear predictor of sales revenue.  You decide to do a hypothesis test at the  $\\alpha = 0.05$ significance level.***\n",
    "\n",
    "- ***(i). (1 points)  State the null and alternate hypotheses for your test.***\n"
   ]
  },
  {
   "cell_type": "markdown",
   "metadata": {},
   "source": [
    "$$\n",
    "H_0: \\beta = 0 \\\\\n",
    "H_1: \\beta \\neq 0 \n",
    "$$\n",
    "The null states that there is no relationship between rivers and sales, while the alternative says that there is."
   ]
  },
  {
   "cell_type": "markdown",
   "metadata": {},
   "source": [
    "- ***(ii). (1 points) What is the appropriate test (by name, not formula) to use for this, and what are the degrees of freedom?***"
   ]
  },
  {
   "cell_type": "markdown",
   "metadata": {},
   "source": [
    "The appropriate test here would be a t test on the slope generated from our SLR model above. The appropriate degrees of freedom here would be n-2. Therefore, $DOF = 95-2 = 93$"
   ]
  },
  {
   "cell_type": "markdown",
   "metadata": {},
   "source": [
    "- ***(iii). (2 points) Calculate the critical value and state the decision rule for this test at an alpha level of 5%.***  \n",
    " \n"
   ]
  },
  {
   "cell_type": "code",
   "execution_count": 6,
   "metadata": {},
   "outputs": [
    {
     "name": "stdout",
     "output_type": "stream",
     "text": [
      "Critical value: -1.985801814239503\n",
      "P value:  0.0004633136599688952\n",
      "R squared value: 0.12427620833332212\n"
     ]
    }
   ],
   "source": [
    "tcrit = stats.t.ppf(0.05/2, 93)\n",
    "print(\"Critical value: {}\".format(tcrit))\n",
    "print(\"P value: \", 2*(stats.t.cdf(-3.63, 93)))\n",
    "print(\"R squared value: {}\".format(rval**2))"
   ]
  },
  {
   "cell_type": "markdown",
   "metadata": {},
   "source": [
    "The critical value at 5% level of significance and 93 degrees of freedom is roughly 1.9858. Should we get a test statistic above this value, we can reject our null hypothesis."
   ]
  },
  {
   "cell_type": "markdown",
   "metadata": {},
   "source": [
    " - ***(iv). (2 points) What is the test statistic, p-value, and conclusion of your hypothesis test?***\n"
   ]
  },
  {
   "cell_type": "markdown",
   "metadata": {},
   "source": [
    "test statistic: $\\frac{\\beta_1 - 0}{SE} = \\frac{-0.9723}{0.2676} = -3.63$\n",
    "\n",
    "p-val: 2(stats.t.cdf(-3.63, dof = 93)) = $0.0004633$\n",
    "\n",
    "$\\textbf{Conclusion: }$ As we can see based on our results, our critical value is greater than that of our test statstic (-3.63 < -1.98), so we should reject the null hypothesis. Furthermore, we can see our p-val is much lower than our significance level (0.0004633 < 0.05), so this also tells us to $\\textbf{reject the null hypothesis. Therefore, there is a relationship between lakes and sales.}$"
   ]
  },
  {
   "cell_type": "markdown",
   "metadata": {},
   "source": [
    "### [1] Part D\n",
    "***(3 points) What percent of total variation in sales revenue can be explained by the number of nearby lakes/reservoirs? Explain.***\n",
    "\n"
   ]
  },
  {
   "cell_type": "markdown",
   "metadata": {},
   "source": [
    "Looking above, our $R^2$ value is 0.124, which means that roughly 12% of our total variation can be explained by the number of nearby lakes and reservoirs. Essentially, this $R^2$ value quantifies how well the model fits the data by dividing the variance explained by the model by the total variance. The value we have gotten here is pretty low, meaning that our model maybe isn't the best for the data given."
   ]
  },
  {
   "cell_type": "markdown",
   "metadata": {},
   "source": [
    "<a id='p2'></a>\n",
    "#  Problem 2: Go Big-  Multiple Linear Regression\n",
    "\n",
    "\n",
    "For this problem you are welcome to use any built-in methods/functions we have used in class.  If a built-in method outputs summary statistics or other useful output variables you can use that output directly when answering any questions below UNLESS otherwise specified in the problem (i.e. unless we tell you in the problem to write code to calculate a particular statistic from scratch based on its definition, you can just get that statistic/info from the output of a built-in method/function).\n",
    "\n",
    "\n",
    "***\n",
    "\n",
    "\n",
    "You feel unsatisfied with the results from the model in Problem 1.    \n",
    "\n",
    "Problem 2 will involve steps to improve your model from Problem 1 using Multiple Linear Regression (MLR).  \n",
    "\n",
    "We will continue working with the same dataset from Problem 1 (paddle.csv) throughout this problem.\n",
    "\n",
    "\n",
    "\n",
    "In an effort to improve the model from Problem 1, you decide to add in one additional predictor.  To determine which predictor to add next you start with some scatterplots of the dataset.  \n"
   ]
  },
  {
   "cell_type": "markdown",
   "metadata": {},
   "source": [
    "### [2] Part A:  Explore\n",
    "\n",
    " - ***(i). (1 point) Use the function `seaborn.pairplot` to create pairwise scatterplots of the continuous predictors/covariates in the paddle.csv data, both against each other and against the outcome (sales). https://seaborn.pydata.org/generated/seaborn.pairplot.html***"
   ]
  },
  {
   "cell_type": "code",
   "execution_count": 7,
   "metadata": {},
   "outputs": [
    {
     "data": {
      "text/plain": [
       "<seaborn.axisgrid.PairGrid at 0x7fefad4bab60>"
      ]
     },
     "execution_count": 7,
     "metadata": {},
     "output_type": "execute_result"
    },
    {
     "data": {
      "image/png": "[encoded data removed]",
      "text/plain": [
       "<Figure size 900x900 with 30 Axes>"
      ]
     },
     "metadata": {
      "needs_background": "light"
     },
     "output_type": "display_data"
    }
   ],
   "source": [
    "#Uncomment the code below and replace the input with the name of your dataframe from Question 1\n",
    "seaborn.pairplot(dfPaddle)"
   ]
  },
  {
   "cell_type": "markdown",
   "metadata": {},
   "source": [
    " - ***(ii). (2 points)  Based on your scatterplots, which (if any) explanatory variable(s) appear to have a linear relationship with sales revenue?  Explain.***  "
   ]
  },
  {
   "cell_type": "markdown",
   "metadata": {},
   "source": [
    "Looking at these graphs, by far the most linear relationship with sales is advertising. There doesn't seem to be too much variance outside of what I could imagine would be the regression line, while homescadisticity and independence appear to be present as well. It appears that there is a bit of a relationship between sales and lakes/competitors (both of which are negatively related to sales), but the linearity just isn't there at the level of advertising vs sales. Lastly, the population doesn't appear (at least graphically) to have a relation with sales."
   ]
  },
  {
   "cell_type": "markdown",
   "metadata": {},
   "source": [
    "\n",
    " - ***(iii). (2 points) Do any of the explanatory variables exhibit collinearity?    Explain.***"
   ]
  },
  {
   "cell_type": "markdown",
   "metadata": {},
   "source": [
    "By far the most obvious showing of collinearity would be that of lakes vs. competitors. We can see a clear linear relationship between both of them in the graph above, and there is a positive relationship between the two (ie more lakes means more competitors). This is $\\textbf{NOT}$ a desirable relationship, as we do not want our predictor variables to be correlated (opposite of above, where we want a linear relationship between the dependent and independent variable)"
   ]
  },
  {
   "cell_type": "markdown",
   "metadata": {},
   "source": [
    "### [2] Part B: Adjust the Model\n",
    "\n",
    "***(i).  (2 points) Choose one additional explanatory variable to add to your model, based on your exploratory analysis in Part 2A.  Explain your reasoning for the variable you have chosen.***\n",
    "\n"
   ]
  },
  {
   "cell_type": "markdown",
   "metadata": {},
   "source": [
    "I will definitely choose to add advertising as my second explanatory variable. This is because advertising showed a significantly larger relation with our dependent variable (sales), as it was by far the most linear graph out of all the pictures above. This means that there is likely a relationship (on the stronger side) between sales and advertising"
   ]
  },
  {
   "cell_type": "markdown",
   "metadata": {},
   "source": [
    "***(ii). (2 points) Create a Multiple Linear Regression Model with `sales` as the dependent variable, `lakes` as one of the independent variables and the new variable you have chosen as the other independent variable.***  \n",
    "\n",
    "***Print the model output summary table for this new model, and then write the equation for this new model in a markdown cell.***"
   ]
  },
  {
   "cell_type": "code",
   "execution_count": 8,
   "metadata": {},
   "outputs": [
    {
     "data": {
      "text/html": [
       "<table class=\"simpletable\">\n",
       "<caption>OLS Regression Results</caption>\n",
       "<tr>\n",
       "  <th>Dep. Variable:</th>          <td>sales</td>      <th>  R-squared:         </th> <td>   0.742</td>\n",
       "</tr>\n",
       "<tr>\n",
       "  <th>Model:</th>                   <td>OLS</td>       <th>  Adj. R-squared:    </th> <td>   0.737</td>\n",
       "</tr>\n",
       "<tr>\n",
       "  <th>Method:</th>             <td>Least Squares</td>  <th>  F-statistic:       </th> <td>   132.4</td>\n",
       "</tr>\n",
       "<tr>\n",
       "  <th>Date:</th>             <td>Thu, 08 Dec 2022</td> <th>  Prob (F-statistic):</th> <td>8.31e-28</td>\n",
       "</tr>\n",
       "<tr>\n",
       "  <th>Time:</th>                 <td>22:28:25</td>     <th>  Log-Likelihood:    </th> <td> -237.35</td>\n",
       "</tr>\n",
       "<tr>\n",
       "  <th>No. Observations:</th>      <td>    95</td>      <th>  AIC:               </th> <td>   480.7</td>\n",
       "</tr>\n",
       "<tr>\n",
       "  <th>Df Residuals:</th>          <td>    92</td>      <th>  BIC:               </th> <td>   488.4</td>\n",
       "</tr>\n",
       "<tr>\n",
       "  <th>Df Model:</th>              <td>     2</td>      <th>                     </th>     <td> </td>   \n",
       "</tr>\n",
       "<tr>\n",
       "  <th>Covariance Type:</th>      <td>nonrobust</td>    <th>                     </th>     <td> </td>   \n",
       "</tr>\n",
       "</table>\n",
       "<table class=\"simpletable\">\n",
       "<tr>\n",
       "       <td></td>          <th>coef</th>     <th>std err</th>      <th>t</th>      <th>P>|t|</th>  <th>[0.025</th>    <th>0.975]</th>  \n",
       "</tr>\n",
       "<tr>\n",
       "  <th>const</th>       <td>   12.4814</td> <td>    1.056</td> <td>   11.816</td> <td> 0.000</td> <td>   10.383</td> <td>   14.579</td>\n",
       "</tr>\n",
       "<tr>\n",
       "  <th>lakes</th>       <td>   -0.6913</td> <td>    0.147</td> <td>   -4.696</td> <td> 0.000</td> <td>   -0.984</td> <td>   -0.399</td>\n",
       "</tr>\n",
       "<tr>\n",
       "  <th>advertising</th> <td>    1.1101</td> <td>    0.075</td> <td>   14.849</td> <td> 0.000</td> <td>    0.962</td> <td>    1.259</td>\n",
       "</tr>\n",
       "</table>\n",
       "<table class=\"simpletable\">\n",
       "<tr>\n",
       "  <th>Omnibus:</th>       <td> 0.577</td> <th>  Durbin-Watson:     </th> <td>   1.607</td>\n",
       "</tr>\n",
       "<tr>\n",
       "  <th>Prob(Omnibus):</th> <td> 0.749</td> <th>  Jarque-Bera (JB):  </th> <td>   0.710</td>\n",
       "</tr>\n",
       "<tr>\n",
       "  <th>Skew:</th>          <td> 0.158</td> <th>  Prob(JB):          </th> <td>   0.701</td>\n",
       "</tr>\n",
       "<tr>\n",
       "  <th>Kurtosis:</th>      <td> 2.718</td> <th>  Cond. No.          </th> <td>    39.6</td>\n",
       "</tr>\n",
       "</table><br/><br/>Notes:<br/>[1] Standard Errors assume that the covariance matrix of the errors is correctly specified."
      ],
      "text/plain": [
       "<class 'statsmodels.iolib.summary.Summary'>\n",
       "\"\"\"\n",
       "                            OLS Regression Results                            \n",
       "==============================================================================\n",
       "Dep. Variable:                  sales   R-squared:                       0.742\n",
       "Model:                            OLS   Adj. R-squared:                  0.737\n",
       "Method:                 Least Squares   F-statistic:                     132.4\n",
       "Date:                Thu, 08 Dec 2022   Prob (F-statistic):           8.31e-28\n",
       "Time:                        22:28:25   Log-Likelihood:                -237.35\n",
       "No. Observations:                  95   AIC:                             480.7\n",
       "Df Residuals:                      92   BIC:                             488.4\n",
       "Df Model:                           2                                         \n",
       "Covariance Type:            nonrobust                                         \n",
       "===============================================================================\n",
       "                  coef    std err          t      P>|t|      [0.025      0.975]\n",
       "-------------------------------------------------------------------------------\n",
       "const          12.4814      1.056     11.816      0.000      10.383      14.579\n",
       "lakes          -0.6913      0.147     -4.696      0.000      -0.984      -0.399\n",
       "advertising     1.1101      0.075     14.849      0.000       0.962       1.259\n",
       "==============================================================================\n",
       "Omnibus:                        0.577   Durbin-Watson:                   1.607\n",
       "Prob(Omnibus):                  0.749   Jarque-Bera (JB):                0.710\n",
       "Skew:                           0.158   Prob(JB):                        0.701\n",
       "Kurtosis:                       2.718   Cond. No.                         39.6\n",
       "==============================================================================\n",
       "\n",
       "Notes:\n",
       "[1] Standard Errors assume that the covariance matrix of the errors is correctly specified.\n",
       "\"\"\""
      ]
     },
     "execution_count": 8,
     "metadata": {},
     "output_type": "execute_result"
    }
   ],
   "source": [
    "X = dfPaddle[[\"lakes\", \"advertising\"]]\n",
    "X = sm.add_constant(X)\n",
    "Y = dfPaddle[\"sales\"]\n",
    "model = sm.OLS(Y,X).fit()\n",
    "model.summary()"
   ]
  },
  {
   "cell_type": "markdown",
   "metadata": {},
   "source": [
    "$\\textbf{sales} = 12.48 - 0.6913 \\times (lakes) + 1.1101 \\times (advertising)$"
   ]
  },
  {
   "cell_type": "markdown",
   "metadata": {},
   "source": [
    "### [2] Part C: Inference on MLR Model: Step 1\n",
    "\n",
    "For this part of the problem you can assume (without checking) that this new model meets the standard assumptions of multiple linear regression.  \n",
    "\n",
    "***Lets see if this new model as a whole is significant at an alpha level of  5%.  In other words, we want to use a single test to see if at least one of the two explanatory variables really has a significant linear association with the response variable.***  \n",
    "\n",
    " - ***(i). (3 points)  State the null and alternate hypotheses we should test at an alpha level of  5% , and explain what they mean.***\n",
    " "
   ]
  },
  {
   "cell_type": "markdown",
   "metadata": {},
   "source": [
    "$$\n",
    "H_0 = \\beta_1 = \\beta_2 = 0\\\\\n",
    "H_A = \\text{at least one beta is different than 0}\n",
    "$$\n",
    "\n",
    "Essentially, when we are doing hypothesis tests on MLR, we are checking to see if $\\textbf{at least one predictor variable is useful for predicting sales.}$ Our null hypothesis is stating that none of our predictor variables are useful for predicting sales. At a 5% level of significance, we will test to see if any of the two predictor variables present are useful in predicting sales."
   ]
  },
  {
   "cell_type": "markdown",
   "metadata": {},
   "source": [
    " - ***(ii). (2 points) What is the appropriate test (by name, not formula) to use for this, and what are the degrees of freedom?*** \n",
    " "
   ]
  },
  {
   "cell_type": "markdown",
   "metadata": {},
   "source": [
    "The apporpriate test stat for MLR would be the f-test. We use this when we want to check if there are multiple slope parameters that are 0. We use a t-test when comparing a single slope parameter. The degrees of freedom for MLR f-tests are: $n-p-1$, where n is the number of data points, and p is the number of parameters. Therefore, $\\textbf{ we use an f-test with 95-2-1 = 92 DOF}$"
   ]
  },
  {
   "cell_type": "markdown",
   "metadata": {},
   "source": [
    " - ***(iii). (2 points) Calculate the critical value and state the decision rule for this test at an alpha level of 5%.***  \n",
    " "
   ]
  },
  {
   "cell_type": "code",
   "execution_count": 9,
   "metadata": {},
   "outputs": [
    {
     "data": {
      "text/plain": [
       "3.0954327502913768"
      ]
     },
     "execution_count": 9,
     "metadata": {},
     "output_type": "execute_result"
    }
   ],
   "source": [
    "stats.f.ppf(1-.05, 2, 92)"
   ]
  },
  {
   "cell_type": "markdown",
   "metadata": {},
   "source": [
    "This will be our threshold upon which we gauge if our null hypothesis is true. We are using a 0.05 significance level, we have 2 different independent variables, and our DOF are 92. Therefore, if we find a test statistic that is greater than 3.0954, we can assume that at least one of our predictor variables are useful in predicting sales."
   ]
  },
  {
   "cell_type": "markdown",
   "metadata": {},
   "source": [
    " - ***(iv). (3 points) Write code to calculate the appropriate test statistic from scratch and then summarize the conclusion of your hypothesis test. (Note for credit you must write code to calculate the appropriate test statistic from its formula using your data and model.  You can use the model output summary table to check your answer).***  "
   ]
  },
  {
   "cell_type": "code",
   "execution_count": 10,
   "metadata": {},
   "outputs": [
    {
     "name": "stdout",
     "output_type": "stream",
     "text": [
      "The f-statistic is approximately: 133.84715980342733\n"
     ]
    }
   ],
   "source": [
    "SSE = 0\n",
    "for i in range(0,95):\n",
    "    SSE+= (dfPaddle[\"sales\"][i] - (12.48 - (0.6913*dfPaddle[\"lakes\"][i]) + 1.1101*dfPaddle[\"advertising\"][i]))**2\n",
    "SST = 0\n",
    "for ii in range(0,95):\n",
    "    SST += (dfPaddle[\"sales\"][ii] - 12.48)**2\n",
    "f = ((SST-SSE)/7)/(SSE/(95-7))\n",
    "print(\"The f-statistic is approximately: {}\".format(f))"
   ]
  },
  {
   "cell_type": "markdown",
   "metadata": {},
   "source": [
    "According to the result above, our test statistic is significantly higher than our critical value. $\\textbf{We reject our null hypothesis. }$This means that at least one of these predictor variables is useful in predicting sales."
   ]
  },
  {
   "cell_type": "markdown",
   "metadata": {},
   "source": [
    "### [2] Part D: Inference on MLR Model: Step 2\n",
    "\n",
    "After Part 2C, you should have found that the new model as a whole is significant. So, it will be helpful to know exactly which variable (or variables) have a significant linear association with the response variable.  \n",
    "\n",
    " - ***(i). (2 points) What is the appropriate test (by name, not formula) to test one-by-one whether an individual explanatory variable in your model is a statistically significant linear predictor of the response variable after adjusting for the other explanatory variables?***\n",
    " \n",
    " \n",
    "\n",
    "\n",
    "\n",
    "\n"
   ]
  },
  {
   "cell_type": "markdown",
   "metadata": {},
   "source": [
    "The appropriate test in this circumstance would be t-tests for indivdual testing. We use t-tests whenever we are individually testing the preedictor variable vs the response"
   ]
  },
  {
   "cell_type": "markdown",
   "metadata": {},
   "source": [
    " - ***(ii). (2 points) Explain the conclusion(s) of this test for each of the explanatory variables in your model, using output from your model summary table.\n",
    "(Note: For this part of the problem you do not need to calculate each test statistic from scratch- instead you can just look up the appropriate results from the output summary table and explain your conclusions below).***\n"
   ]
  },
  {
   "cell_type": "markdown",
   "metadata": {},
   "source": [
    "The t-score for lakes is -4.696, and for advertising it is 14.84. Taking the p-values of these tscores would render a value that is incredibly small (at the very least there are 3 zeros after the decimal). We can see $P > |t|$ for both of the exaplnatory variables is approx 0.000. This means that both of these variables are definitely related to sales, and both should be kept."
   ]
  },
  {
   "cell_type": "markdown",
   "metadata": {},
   "source": [
    "### [2] Part E: Quantifying Model Goodness of Fit\n",
    "\n",
    "***(2 points) What percent of total variation in sales revenue can be explained by the new model you found in Part 2B?    Is this an improvement compared to the SLR model in Question 1?  Explain.***"
   ]
  },
  {
   "cell_type": "markdown",
   "metadata": {},
   "source": [
    "We have an $R^2$ value of roughly 74% from our MLR model. This means that roughly 74% of the variation in this new model can be explained by the model itself. This is a good number by most metrics, and is $\\textbf{significantly}$ better than the goodness of fit% we found from the SLR model (12%). Therefore, our new MLR model is a significantly better model for the data than our original SLR model."
   ]
  },
  {
   "cell_type": "markdown",
   "metadata": {},
   "source": [
    "### [2] Part F: Final Pass at a Model \n",
    "\n",
    "\n",
    "You are curious if the model you found above is really the best you can do with the dataset.  \n",
    "\n",
    "In this open-ended problem you will use the same dataset (paddle.csv) but you may use any subset of the columns to build your \"best\" Multiple Linear Regression model.  i.e. you want to create the best model you can to quantify how sales can be explained and predicted by the features in this dataset.\n",
    "\n",
    "For this problem the dependent variable will still be sales.  Any other variables will be candidates for explanatory variables.  \n",
    "\n",
    "\n",
    "Your goal is to demonstrate that you have an understanding of how to choose between columns and validate/check for issues in a multiple linear regression problem.\n",
    "\n",
    " - ***(i). (4 pts)  By adding variables step-by-step to a minimal model or by removing variables step-by-step from the full model, use one or more of the criteria covered in our class to create a reasonable candidate model (i.e. the \"best\" you can do with the data given). The criteria you use may include (but are not limited to):***\n",
    " \n",
    "  - ***adjusted $R^2$***\n",
    "  - ***inclusion/removal of most or least-significant t-tests on coefficients***\n",
    "  - ***F-tests to compare between models***\n",
    "  \n",
    " \n",
    "***In addition to code showing the model variations you try, use markdown cell(s) to write-up an explanation of your reasoning for each step of this process as you construct a final version of the model.***\n",
    "\n",
    "***Your explanation should include the results of the F-test and t-tests for your final model. If you choose to include an insignificant explanatory variable in your final model you must fully justify your reasoning.*** \n",
    "\n",
    "  \n"
   ]
  },
  {
   "cell_type": "code",
   "execution_count": 11,
   "metadata": {},
   "outputs": [
    {
     "data": {
      "text/html": [
       "<table class=\"simpletable\">\n",
       "<caption>OLS Regression Results</caption>\n",
       "<tr>\n",
       "  <th>Dep. Variable:</th>          <td>sales</td>      <th>  R-squared:         </th> <td>   0.785</td>\n",
       "</tr>\n",
       "<tr>\n",
       "  <th>Model:</th>                   <td>OLS</td>       <th>  Adj. R-squared:    </th> <td>   0.776</td>\n",
       "</tr>\n",
       "<tr>\n",
       "  <th>Method:</th>             <td>Least Squares</td>  <th>  F-statistic:       </th> <td>   82.25</td>\n",
       "</tr>\n",
       "<tr>\n",
       "  <th>Date:</th>             <td>Thu, 08 Dec 2022</td> <th>  Prob (F-statistic):</th> <td>3.17e-29</td>\n",
       "</tr>\n",
       "<tr>\n",
       "  <th>Time:</th>                 <td>22:28:25</td>     <th>  Log-Likelihood:    </th> <td> -228.68</td>\n",
       "</tr>\n",
       "<tr>\n",
       "  <th>No. Observations:</th>      <td>    95</td>      <th>  AIC:               </th> <td>   467.4</td>\n",
       "</tr>\n",
       "<tr>\n",
       "  <th>Df Residuals:</th>          <td>    90</td>      <th>  BIC:               </th> <td>   480.1</td>\n",
       "</tr>\n",
       "<tr>\n",
       "  <th>Df Model:</th>              <td>     4</td>      <th>                     </th>     <td> </td>   \n",
       "</tr>\n",
       "<tr>\n",
       "  <th>Covariance Type:</th>      <td>nonrobust</td>    <th>                     </th>     <td> </td>   \n",
       "</tr>\n",
       "</table>\n",
       "<table class=\"simpletable\">\n",
       "<tr>\n",
       "       <td></td>          <th>coef</th>     <th>std err</th>      <th>t</th>      <th>P>|t|</th>  <th>[0.025</th>    <th>0.975]</th>  \n",
       "</tr>\n",
       "<tr>\n",
       "  <th>const</th>       <td>   12.1010</td> <td>    1.289</td> <td>    9.390</td> <td> 0.000</td> <td>    9.541</td> <td>   14.661</td>\n",
       "</tr>\n",
       "<tr>\n",
       "  <th>lakes</th>       <td>    0.4020</td> <td>    0.308</td> <td>    1.305</td> <td> 0.195</td> <td>   -0.210</td> <td>    1.014</td>\n",
       "</tr>\n",
       "<tr>\n",
       "  <th>advertising</th> <td>    1.1393</td> <td>    0.070</td> <td>   16.391</td> <td> 0.000</td> <td>    1.001</td> <td>    1.277</td>\n",
       "</tr>\n",
       "<tr>\n",
       "  <th>pop</th>         <td>    0.0127</td> <td>    0.014</td> <td>    0.927</td> <td> 0.356</td> <td>   -0.015</td> <td>    0.040</td>\n",
       "</tr>\n",
       "<tr>\n",
       "  <th>competitors</th> <td>   -1.0352</td> <td>    0.256</td> <td>   -4.042</td> <td> 0.000</td> <td>   -1.544</td> <td>   -0.526</td>\n",
       "</tr>\n",
       "</table>\n",
       "<table class=\"simpletable\">\n",
       "<tr>\n",
       "  <th>Omnibus:</th>       <td> 0.231</td> <th>  Durbin-Watson:     </th> <td>   1.642</td>\n",
       "</tr>\n",
       "<tr>\n",
       "  <th>Prob(Omnibus):</th> <td> 0.891</td> <th>  Jarque-Bera (JB):  </th> <td>   0.366</td>\n",
       "</tr>\n",
       "<tr>\n",
       "  <th>Skew:</th>          <td> 0.103</td> <th>  Prob(JB):          </th> <td>   0.833</td>\n",
       "</tr>\n",
       "<tr>\n",
       "  <th>Kurtosis:</th>      <td> 2.776</td> <th>  Cond. No.          </th> <td>    297.</td>\n",
       "</tr>\n",
       "</table><br/><br/>Notes:<br/>[1] Standard Errors assume that the covariance matrix of the errors is correctly specified."
      ],
      "text/plain": [
       "<class 'statsmodels.iolib.summary.Summary'>\n",
       "\"\"\"\n",
       "                            OLS Regression Results                            \n",
       "==============================================================================\n",
       "Dep. Variable:                  sales   R-squared:                       0.785\n",
       "Model:                            OLS   Adj. R-squared:                  0.776\n",
       "Method:                 Least Squares   F-statistic:                     82.25\n",
       "Date:                Thu, 08 Dec 2022   Prob (F-statistic):           3.17e-29\n",
       "Time:                        22:28:25   Log-Likelihood:                -228.68\n",
       "No. Observations:                  95   AIC:                             467.4\n",
       "Df Residuals:                      90   BIC:                             480.1\n",
       "Df Model:                           4                                         \n",
       "Covariance Type:            nonrobust                                         \n",
       "===============================================================================\n",
       "                  coef    std err          t      P>|t|      [0.025      0.975]\n",
       "-------------------------------------------------------------------------------\n",
       "const          12.1010      1.289      9.390      0.000       9.541      14.661\n",
       "lakes           0.4020      0.308      1.305      0.195      -0.210       1.014\n",
       "advertising     1.1393      0.070     16.391      0.000       1.001       1.277\n",
       "pop             0.0127      0.014      0.927      0.356      -0.015       0.040\n",
       "competitors    -1.0352      0.256     -4.042      0.000      -1.544      -0.526\n",
       "==============================================================================\n",
       "Omnibus:                        0.231   Durbin-Watson:                   1.642\n",
       "Prob(Omnibus):                  0.891   Jarque-Bera (JB):                0.366\n",
       "Skew:                           0.103   Prob(JB):                        0.833\n",
       "Kurtosis:                       2.776   Cond. No.                         297.\n",
       "==============================================================================\n",
       "\n",
       "Notes:\n",
       "[1] Standard Errors assume that the covariance matrix of the errors is correctly specified.\n",
       "\"\"\""
      ]
     },
     "execution_count": 11,
     "metadata": {},
     "output_type": "execute_result"
    }
   ],
   "source": [
    "X = dfPaddle[[\"lakes\", \"advertising\", \"pop\", \"competitors\"]]\n",
    "X = sm.add_constant(X)\n",
    "Y = dfPaddle[\"sales\"]\n",
    "model = sm.OLS(Y,X).fit()\n",
    "model.summary()"
   ]
  },
  {
   "cell_type": "markdown",
   "metadata": {},
   "source": [
    "I will be using the backward method, where I fit the model with all features, then remove the largest p-val til I reach a certain threshold. I will be attempting to maximize my f-stat, while minimizing losses in r^2 and removing any colinear explanatory variables. I will first remove the largest p-value."
   ]
  },
  {
   "cell_type": "code",
   "execution_count": 12,
   "metadata": {},
   "outputs": [
    {
     "data": {
      "text/html": [
       "<table class=\"simpletable\">\n",
       "<caption>OLS Regression Results</caption>\n",
       "<tr>\n",
       "  <th>Dep. Variable:</th>          <td>sales</td>      <th>  R-squared:         </th> <td>   0.783</td>\n",
       "</tr>\n",
       "<tr>\n",
       "  <th>Model:</th>                   <td>OLS</td>       <th>  Adj. R-squared:    </th> <td>   0.776</td>\n",
       "</tr>\n",
       "<tr>\n",
       "  <th>Method:</th>             <td>Least Squares</td>  <th>  F-statistic:       </th> <td>   109.6</td>\n",
       "</tr>\n",
       "<tr>\n",
       "  <th>Date:</th>             <td>Thu, 08 Dec 2022</td> <th>  Prob (F-statistic):</th> <td>4.24e-30</td>\n",
       "</tr>\n",
       "<tr>\n",
       "  <th>Time:</th>                 <td>22:28:25</td>     <th>  Log-Likelihood:    </th> <td> -229.13</td>\n",
       "</tr>\n",
       "<tr>\n",
       "  <th>No. Observations:</th>      <td>    95</td>      <th>  AIC:               </th> <td>   466.3</td>\n",
       "</tr>\n",
       "<tr>\n",
       "  <th>Df Residuals:</th>          <td>    91</td>      <th>  BIC:               </th> <td>   476.5</td>\n",
       "</tr>\n",
       "<tr>\n",
       "  <th>Df Model:</th>              <td>     3</td>      <th>                     </th>     <td> </td>   \n",
       "</tr>\n",
       "<tr>\n",
       "  <th>Covariance Type:</th>      <td>nonrobust</td>    <th>                     </th>     <td> </td>   \n",
       "</tr>\n",
       "</table>\n",
       "<table class=\"simpletable\">\n",
       "<tr>\n",
       "       <td></td>          <th>coef</th>     <th>std err</th>      <th>t</th>      <th>P>|t|</th>  <th>[0.025</th>    <th>0.975]</th>  \n",
       "</tr>\n",
       "<tr>\n",
       "  <th>const</th>       <td>   12.8771</td> <td>    0.979</td> <td>   13.157</td> <td> 0.000</td> <td>   10.933</td> <td>   14.821</td>\n",
       "</tr>\n",
       "<tr>\n",
       "  <th>lakes</th>       <td>    0.4411</td> <td>    0.305</td> <td>    1.446</td> <td> 0.152</td> <td>   -0.165</td> <td>    1.047</td>\n",
       "</tr>\n",
       "<tr>\n",
       "  <th>advertising</th> <td>    1.1334</td> <td>    0.069</td> <td>   16.387</td> <td> 0.000</td> <td>    0.996</td> <td>    1.271</td>\n",
       "</tr>\n",
       "<tr>\n",
       "  <th>competitors</th> <td>   -1.0567</td> <td>    0.255</td> <td>   -4.147</td> <td> 0.000</td> <td>   -1.563</td> <td>   -0.551</td>\n",
       "</tr>\n",
       "</table>\n",
       "<table class=\"simpletable\">\n",
       "<tr>\n",
       "  <th>Omnibus:</th>       <td> 0.137</td> <th>  Durbin-Watson:     </th> <td>   1.627</td>\n",
       "</tr>\n",
       "<tr>\n",
       "  <th>Prob(Omnibus):</th> <td> 0.934</td> <th>  Jarque-Bera (JB):  </th> <td>   0.239</td>\n",
       "</tr>\n",
       "<tr>\n",
       "  <th>Skew:</th>          <td> 0.085</td> <th>  Prob(JB):          </th> <td>   0.887</td>\n",
       "</tr>\n",
       "<tr>\n",
       "  <th>Kurtosis:</th>      <td> 2.822</td> <th>  Cond. No.          </th> <td>    43.1</td>\n",
       "</tr>\n",
       "</table><br/><br/>Notes:<br/>[1] Standard Errors assume that the covariance matrix of the errors is correctly specified."
      ],
      "text/plain": [
       "<class 'statsmodels.iolib.summary.Summary'>\n",
       "\"\"\"\n",
       "                            OLS Regression Results                            \n",
       "==============================================================================\n",
       "Dep. Variable:                  sales   R-squared:                       0.783\n",
       "Model:                            OLS   Adj. R-squared:                  0.776\n",
       "Method:                 Least Squares   F-statistic:                     109.6\n",
       "Date:                Thu, 08 Dec 2022   Prob (F-statistic):           4.24e-30\n",
       "Time:                        22:28:25   Log-Likelihood:                -229.13\n",
       "No. Observations:                  95   AIC:                             466.3\n",
       "Df Residuals:                      91   BIC:                             476.5\n",
       "Df Model:                           3                                         \n",
       "Covariance Type:            nonrobust                                         \n",
       "===============================================================================\n",
       "                  coef    std err          t      P>|t|      [0.025      0.975]\n",
       "-------------------------------------------------------------------------------\n",
       "const          12.8771      0.979     13.157      0.000      10.933      14.821\n",
       "lakes           0.4411      0.305      1.446      0.152      -0.165       1.047\n",
       "advertising     1.1334      0.069     16.387      0.000       0.996       1.271\n",
       "competitors    -1.0567      0.255     -4.147      0.000      -1.563      -0.551\n",
       "==============================================================================\n",
       "Omnibus:                        0.137   Durbin-Watson:                   1.627\n",
       "Prob(Omnibus):                  0.934   Jarque-Bera (JB):                0.239\n",
       "Skew:                           0.085   Prob(JB):                        0.887\n",
       "Kurtosis:                       2.822   Cond. No.                         43.1\n",
       "==============================================================================\n",
       "\n",
       "Notes:\n",
       "[1] Standard Errors assume that the covariance matrix of the errors is correctly specified.\n",
       "\"\"\""
      ]
     },
     "execution_count": 12,
     "metadata": {},
     "output_type": "execute_result"
    }
   ],
   "source": [
    "X = dfPaddle[[\"lakes\", \"advertising\", \"competitors\"]]\n",
    "X = sm.add_constant(X)\n",
    "Y = dfPaddle[\"sales\"]\n",
    "model = sm.OLS(Y,X).fit()\n",
    "model.summary()"
   ]
  },
  {
   "cell_type": "markdown",
   "metadata": {},
   "source": [
    "By removing the largest p-value first, we see a slight decrease in our Rsquared while the adjusted $R^2$ stays the same. This may imply that we have a nonsense variable. However, our f-stat has significantly increased which is a good indicator we have at least 1 good predictor variable. As we saw above, lakes and competition are significantly correlated, so we will try to include one without the other next."
   ]
  },
  {
   "cell_type": "code",
   "execution_count": 13,
   "metadata": {},
   "outputs": [
    {
     "data": {
      "text/html": [
       "<table class=\"simpletable\">\n",
       "<caption>OLS Regression Results</caption>\n",
       "<tr>\n",
       "  <th>Dep. Variable:</th>          <td>sales</td>      <th>  R-squared:         </th> <td>   0.742</td>\n",
       "</tr>\n",
       "<tr>\n",
       "  <th>Model:</th>                   <td>OLS</td>       <th>  Adj. R-squared:    </th> <td>   0.737</td>\n",
       "</tr>\n",
       "<tr>\n",
       "  <th>Method:</th>             <td>Least Squares</td>  <th>  F-statistic:       </th> <td>   132.4</td>\n",
       "</tr>\n",
       "<tr>\n",
       "  <th>Date:</th>             <td>Thu, 08 Dec 2022</td> <th>  Prob (F-statistic):</th> <td>8.31e-28</td>\n",
       "</tr>\n",
       "<tr>\n",
       "  <th>Time:</th>                 <td>22:28:25</td>     <th>  Log-Likelihood:    </th> <td> -237.35</td>\n",
       "</tr>\n",
       "<tr>\n",
       "  <th>No. Observations:</th>      <td>    95</td>      <th>  AIC:               </th> <td>   480.7</td>\n",
       "</tr>\n",
       "<tr>\n",
       "  <th>Df Residuals:</th>          <td>    92</td>      <th>  BIC:               </th> <td>   488.4</td>\n",
       "</tr>\n",
       "<tr>\n",
       "  <th>Df Model:</th>              <td>     2</td>      <th>                     </th>     <td> </td>   \n",
       "</tr>\n",
       "<tr>\n",
       "  <th>Covariance Type:</th>      <td>nonrobust</td>    <th>                     </th>     <td> </td>   \n",
       "</tr>\n",
       "</table>\n",
       "<table class=\"simpletable\">\n",
       "<tr>\n",
       "       <td></td>          <th>coef</th>     <th>std err</th>      <th>t</th>      <th>P>|t|</th>  <th>[0.025</th>    <th>0.975]</th>  \n",
       "</tr>\n",
       "<tr>\n",
       "  <th>const</th>       <td>   12.4814</td> <td>    1.056</td> <td>   11.816</td> <td> 0.000</td> <td>   10.383</td> <td>   14.579</td>\n",
       "</tr>\n",
       "<tr>\n",
       "  <th>lakes</th>       <td>   -0.6913</td> <td>    0.147</td> <td>   -4.696</td> <td> 0.000</td> <td>   -0.984</td> <td>   -0.399</td>\n",
       "</tr>\n",
       "<tr>\n",
       "  <th>advertising</th> <td>    1.1101</td> <td>    0.075</td> <td>   14.849</td> <td> 0.000</td> <td>    0.962</td> <td>    1.259</td>\n",
       "</tr>\n",
       "</table>\n",
       "<table class=\"simpletable\">\n",
       "<tr>\n",
       "  <th>Omnibus:</th>       <td> 0.577</td> <th>  Durbin-Watson:     </th> <td>   1.607</td>\n",
       "</tr>\n",
       "<tr>\n",
       "  <th>Prob(Omnibus):</th> <td> 0.749</td> <th>  Jarque-Bera (JB):  </th> <td>   0.710</td>\n",
       "</tr>\n",
       "<tr>\n",
       "  <th>Skew:</th>          <td> 0.158</td> <th>  Prob(JB):          </th> <td>   0.701</td>\n",
       "</tr>\n",
       "<tr>\n",
       "  <th>Kurtosis:</th>      <td> 2.718</td> <th>  Cond. No.          </th> <td>    39.6</td>\n",
       "</tr>\n",
       "</table><br/><br/>Notes:<br/>[1] Standard Errors assume that the covariance matrix of the errors is correctly specified."
      ],
      "text/plain": [
       "<class 'statsmodels.iolib.summary.Summary'>\n",
       "\"\"\"\n",
       "                            OLS Regression Results                            \n",
       "==============================================================================\n",
       "Dep. Variable:                  sales   R-squared:                       0.742\n",
       "Model:                            OLS   Adj. R-squared:                  0.737\n",
       "Method:                 Least Squares   F-statistic:                     132.4\n",
       "Date:                Thu, 08 Dec 2022   Prob (F-statistic):           8.31e-28\n",
       "Time:                        22:28:25   Log-Likelihood:                -237.35\n",
       "No. Observations:                  95   AIC:                             480.7\n",
       "Df Residuals:                      92   BIC:                             488.4\n",
       "Df Model:                           2                                         \n",
       "Covariance Type:            nonrobust                                         \n",
       "===============================================================================\n",
       "                  coef    std err          t      P>|t|      [0.025      0.975]\n",
       "-------------------------------------------------------------------------------\n",
       "const          12.4814      1.056     11.816      0.000      10.383      14.579\n",
       "lakes          -0.6913      0.147     -4.696      0.000      -0.984      -0.399\n",
       "advertising     1.1101      0.075     14.849      0.000       0.962       1.259\n",
       "==============================================================================\n",
       "Omnibus:                        0.577   Durbin-Watson:                   1.607\n",
       "Prob(Omnibus):                  0.749   Jarque-Bera (JB):                0.710\n",
       "Skew:                           0.158   Prob(JB):                        0.701\n",
       "Kurtosis:                       2.718   Cond. No.                         39.6\n",
       "==============================================================================\n",
       "\n",
       "Notes:\n",
       "[1] Standard Errors assume that the covariance matrix of the errors is correctly specified.\n",
       "\"\"\""
      ]
     },
     "execution_count": 13,
     "metadata": {},
     "output_type": "execute_result"
    }
   ],
   "source": [
    "X = dfPaddle[[\"lakes\", \"advertising\"]]\n",
    "X = sm.add_constant(X)\n",
    "Y = dfPaddle[\"sales\"]\n",
    "model = sm.OLS(Y,X).fit()\n",
    "model.summary()"
   ]
  },
  {
   "cell_type": "markdown",
   "metadata": {},
   "source": [
    "We can see that our adjusted $R^2$ significantly decreased, meaning that we likely have nonsense variables. Therefore, I will try now with just advertising and competitors."
   ]
  },
  {
   "cell_type": "code",
   "execution_count": 14,
   "metadata": {},
   "outputs": [
    {
     "data": {
      "text/html": [
       "<table class=\"simpletable\">\n",
       "<caption>OLS Regression Results</caption>\n",
       "<tr>\n",
       "  <th>Dep. Variable:</th>          <td>sales</td>      <th>  R-squared:         </th> <td>   0.778</td>\n",
       "</tr>\n",
       "<tr>\n",
       "  <th>Model:</th>                   <td>OLS</td>       <th>  Adj. R-squared:    </th> <td>   0.773</td>\n",
       "</tr>\n",
       "<tr>\n",
       "  <th>Method:</th>             <td>Least Squares</td>  <th>  F-statistic:       </th> <td>   161.4</td>\n",
       "</tr>\n",
       "<tr>\n",
       "  <th>Date:</th>             <td>Thu, 08 Dec 2022</td> <th>  Prob (F-statistic):</th> <td>8.24e-31</td>\n",
       "</tr>\n",
       "<tr>\n",
       "  <th>Time:</th>                 <td>22:28:25</td>     <th>  Log-Likelihood:    </th> <td> -230.21</td>\n",
       "</tr>\n",
       "<tr>\n",
       "  <th>No. Observations:</th>      <td>    95</td>      <th>  AIC:               </th> <td>   466.4</td>\n",
       "</tr>\n",
       "<tr>\n",
       "  <th>Df Residuals:</th>          <td>    92</td>      <th>  BIC:               </th> <td>   474.1</td>\n",
       "</tr>\n",
       "<tr>\n",
       "  <th>Df Model:</th>              <td>     2</td>      <th>                     </th>     <td> </td>   \n",
       "</tr>\n",
       "<tr>\n",
       "  <th>Covariance Type:</th>      <td>nonrobust</td>    <th>                     </th>     <td> </td>   \n",
       "</tr>\n",
       "</table>\n",
       "<table class=\"simpletable\">\n",
       "<tr>\n",
       "       <td></td>          <th>coef</th>     <th>std err</th>      <th>t</th>      <th>P>|t|</th>  <th>[0.025</th>    <th>0.975]</th>  \n",
       "</tr>\n",
       "<tr>\n",
       "  <th>const</th>       <td>   13.1652</td> <td>    0.964</td> <td>   13.658</td> <td> 0.000</td> <td>   11.251</td> <td>   15.080</td>\n",
       "</tr>\n",
       "<tr>\n",
       "  <th>advertising</th> <td>    1.1204</td> <td>    0.069</td> <td>   16.242</td> <td> 0.000</td> <td>    0.983</td> <td>    1.257</td>\n",
       "</tr>\n",
       "<tr>\n",
       "  <th>competitors</th> <td>   -0.7267</td> <td>    0.114</td> <td>   -6.368</td> <td> 0.000</td> <td>   -0.953</td> <td>   -0.500</td>\n",
       "</tr>\n",
       "</table>\n",
       "<table class=\"simpletable\">\n",
       "<tr>\n",
       "  <th>Omnibus:</th>       <td> 0.286</td> <th>  Durbin-Watson:     </th> <td>   1.585</td>\n",
       "</tr>\n",
       "<tr>\n",
       "  <th>Prob(Omnibus):</th> <td> 0.867</td> <th>  Jarque-Bera (JB):  </th> <td>   0.426</td>\n",
       "</tr>\n",
       "<tr>\n",
       "  <th>Skew:</th>          <td> 0.112</td> <th>  Prob(JB):          </th> <td>   0.808</td>\n",
       "</tr>\n",
       "<tr>\n",
       "  <th>Kurtosis:</th>      <td> 2.761</td> <th>  Cond. No.          </th> <td>    40.0</td>\n",
       "</tr>\n",
       "</table><br/><br/>Notes:<br/>[1] Standard Errors assume that the covariance matrix of the errors is correctly specified."
      ],
      "text/plain": [
       "<class 'statsmodels.iolib.summary.Summary'>\n",
       "\"\"\"\n",
       "                            OLS Regression Results                            \n",
       "==============================================================================\n",
       "Dep. Variable:                  sales   R-squared:                       0.778\n",
       "Model:                            OLS   Adj. R-squared:                  0.773\n",
       "Method:                 Least Squares   F-statistic:                     161.4\n",
       "Date:                Thu, 08 Dec 2022   Prob (F-statistic):           8.24e-31\n",
       "Time:                        22:28:25   Log-Likelihood:                -230.21\n",
       "No. Observations:                  95   AIC:                             466.4\n",
       "Df Residuals:                      92   BIC:                             474.1\n",
       "Df Model:                           2                                         \n",
       "Covariance Type:            nonrobust                                         \n",
       "===============================================================================\n",
       "                  coef    std err          t      P>|t|      [0.025      0.975]\n",
       "-------------------------------------------------------------------------------\n",
       "const          13.1652      0.964     13.658      0.000      11.251      15.080\n",
       "advertising     1.1204      0.069     16.242      0.000       0.983       1.257\n",
       "competitors    -0.7267      0.114     -6.368      0.000      -0.953      -0.500\n",
       "==============================================================================\n",
       "Omnibus:                        0.286   Durbin-Watson:                   1.585\n",
       "Prob(Omnibus):                  0.867   Jarque-Bera (JB):                0.426\n",
       "Skew:                           0.112   Prob(JB):                        0.808\n",
       "Kurtosis:                       2.761   Cond. No.                         40.0\n",
       "==============================================================================\n",
       "\n",
       "Notes:\n",
       "[1] Standard Errors assume that the covariance matrix of the errors is correctly specified.\n",
       "\"\"\""
      ]
     },
     "execution_count": 14,
     "metadata": {},
     "output_type": "execute_result"
    }
   ],
   "source": [
    "X = dfPaddle[[\"advertising\", \"competitors\"]]\n",
    "X = sm.add_constant(X)\n",
    "Y = dfPaddle[\"sales\"]\n",
    "model = sm.OLS(Y,X).fit()\n",
    "model.summary()"
   ]
  },
  {
   "cell_type": "markdown",
   "metadata": {},
   "source": [
    "Now, we have found the highest f-statistic that we possibly can, while $R^2$ has remained relatively unchanged. This will be my final model."
   ]
  },
  {
   "cell_type": "markdown",
   "metadata": {},
   "source": [
    " - ***(ii).  (2 pts) Give the equation for your final model (in markdown) AND interpret the meaning of the intercept and coefficients in your final model in the context of the problem.   Explain how your final model makes sense in the context of the problem (or if it doesn't, you'll want to try to explain why not).*** "
   ]
  },
  {
   "cell_type": "markdown",
   "metadata": {},
   "source": [
    "$\\textbf{Sales = } 13.1652 + 1.1204 \\times advertising - 0.7267 \\times competitors$\n",
    "\n",
    "The final equation for my model indicates sales have a positive relation with advertising, and a negative relation with competitors. Essentially, sales increase as advertising increases and/or competitors decrease. The intercept indicates the initial starting point for sales, and how it ultimately changes from this point on."
   ]
  },
  {
   "cell_type": "markdown",
   "metadata": {},
   "source": [
    "\n",
    "### [2] Part G: Back To Your Friend\n",
    "\n",
    "After finishing your final model, you report the results to your friend.  Your friend asks you to answer the following questions:  \n",
    " \n",
    " \n",
    " - ***i). (3 pt) Provide 95% confidence intervals for each of the coefficients in your final model (you can use the summary table to find these and you do not need to provide a confidence interval for the intercept).  Since your friend is rusty at statistics, write an explanation/ interpretation of what each of the confidence intervals mean in the context of this dataset.*** \n",
    " "
   ]
  },
  {
   "cell_type": "markdown",
   "metadata": {},
   "source": [
    "advertising (95% CI) = $[0.983, 1.257]$\n",
    "\n",
    "competitors (95% CI) = $[-0.953, -0.500]$\n",
    "\n",
    "This means that out of 100 samples, 95 of these intervals will contain the true slope for each of these predictor variables. It is a good sign that both of our intervals do not include 0 here, as this may imply that both of them are related to sales. However, we can not actually deduce much from a confidence interval, but it is helpful to show the likelihood of something."
   ]
  },
  {
   "cell_type": "markdown",
   "metadata": {},
   "source": [
    "\n",
    " \n"
   ]
  },
  {
   "cell_type": "markdown",
   "metadata": {},
   "source": [
    " - ii). ***(2 pts) Your friend is thinking of opening a new paddleboard shop in a town with population density of 75 people per square mile.  The town has 4 lakes nearby and currently only 2 nearby competitors. Based on your final model, how much money do you recommend they allocate to this shop for advertising during the first year so that the shop's first year sales revenue will be at least $\\$25,000$? Explain.***  "
   ]
  },
  {
   "cell_type": "code",
   "execution_count": 15,
   "metadata": {},
   "outputs": [
    {
     "name": "stdout",
     "output_type": "stream",
     "text": [
      "11.860228489825062\n"
     ]
    }
   ],
   "source": [
    "advertising = (25 - 13.1652 + 1.4534)/1.1204\n",
    "print(advertising)"
   ]
  },
  {
   "cell_type": "markdown",
   "metadata": {},
   "source": [
    "$\\textbf{Sales = } 13.1652 + 1.1204 \\times advertising - 0.7267 \\times competitors$\n",
    "\n",
    "$25 = 13.1652 + 1.1204 \\times advertising - 1.4534$\n",
    "\n",
    "$13.2882 = 1.1204 \\times advertising$\n",
    "\n",
    "$advertising = 11.86$\n",
    "\n",
    "By taking 25 (which is 25,000 based on our model) for sales, and plugging in my value for competitors, we get that he should allocate roughly 11.86 units for advertising in order to meet a revenue of at least 25,000."
   ]
  },
  {
   "cell_type": "markdown",
   "metadata": {},
   "source": [
    "- ***iii). (1 pt) Is there any other data (i.e. other possible explanatory variables) you recommend your friend gather in the future to possibly improve the model of sales revenue?  Explain.***  "
   ]
  },
  {
   "cell_type": "markdown",
   "metadata": {},
   "source": [
    "Another couple of explanatory variables we could use are climate, and precipitation in a year. Those within warmer climates, presumably would sell a larger amount, and therefore their sales would increase (and vice versa). Furthermore, the precipitation within a year could explain sales, as you would assume the higher the precipitation in a year, the less likely someone is to buy a paddle board."
   ]
  },
  {
   "cell_type": "markdown",
   "metadata": {},
   "source": [
    "<a id='p3'></a>\n",
    "# Problem 3\n",
    "***\n",
    "Narwhals are a threatened species. There are approximately 80,000 left in existence. In an attempt to determine the health of the current narwhal population, a number of these whales were captured and weighed. Since there are not many of these creatures to find, only a small sample was able to be counted and the underlying narwhal weight distribution is unknown. \n",
    "\n",
    "Given the data:\n",
    "\n",
    "Narwhal sample weights (pounds): 700, 900, 1000, 1000, 1200, 1400, 1500, 1600, 1600, 1700, 1900, 2000, 2100, 2100, 2300\n"
   ]
  },
  {
   "cell_type": "markdown",
   "metadata": {},
   "source": [
    "### [3] Part A\n",
    "***(3 points)\n",
    "Produce a 95% confidence interval for narwhal population median weight.***"
   ]
  },
  {
   "cell_type": "code",
   "execution_count": 16,
   "metadata": {},
   "outputs": [
    {
     "name": "stdout",
     "output_type": "stream",
     "text": [
      "3.9030833764358426 11.096916623564157\n",
      "The 95% confidence interval for population median weight is between the 4th and 11th element.\n",
      "Therefore CI = [1000, 1900]\n"
     ]
    }
   ],
   "source": [
    "tcrit = stats.t.ppf(1-0.05/2, 15-1)\n",
    "values = np.array([700,900,1000,1000,1200,1400,1500,1600,1600,1700,1900,2000,2100,2100,2300])\n",
    "lower = 15*(0.5) - tcrit*np.sqrt(15 * 0.25 * (1-0.25))\n",
    "upper = 15*(0.5) + tcrit*np.sqrt(15 * 0.25 * (1-0.25))\n",
    "print(lower, upper)\n",
    "print(\"The 95% confidence interval for population median weight is between the 4th and 11th element.\\nTherefore CI = [1000, 1900]\")"
   ]
  },
  {
   "cell_type": "markdown",
   "metadata": {},
   "source": [
    "### [3] Part B\n",
    "***(3 points)\n",
    "Produce a 95% confidence interval for narwhal population mean weight.***\n"
   ]
  },
  {
   "cell_type": "code",
   "execution_count": 17,
   "metadata": {},
   "outputs": [
    {
     "name": "stdout",
     "output_type": "stream",
     "text": [
      "The 95% confidence interval for the mean weight of narwhals is: [1269.1641233870582,1797.5025432796083]\n"
     ]
    }
   ],
   "source": [
    "mean = values.mean()\n",
    "std = values.std()\n",
    "lowermean = mean - tcrit*(std/np.sqrt(15))\n",
    "uppermean = mean + tcrit*(std/np.sqrt(15))\n",
    "print(\"The 95% confidence interval for the mean weight of narwhals is: [{},{}]\".format(lowermean, uppermean))"
   ]
  },
  {
   "cell_type": "markdown",
   "metadata": {},
   "source": [
    "### [3] Part C\n",
    "***(3 points)\n",
    "Produce a 95% confidence interval for narwhal population standard deviation of weights.***"
   ]
  },
  {
   "cell_type": "code",
   "execution_count": 18,
   "metadata": {},
   "outputs": [
    {
     "name": "stdout",
     "output_type": "stream",
     "text": [
      "The 95% confidence interval for the standard deviation of weights is: [349.2447598007764,752.3201277479642]\n"
     ]
    }
   ],
   "source": [
    "lowerCrit = stats.chi2.ppf(.975,14)\n",
    "upperCrit = stats.chi2.ppf(.025,14)\n",
    "lowerStd = np.sqrt((14 * std**2)/lowerCrit)\n",
    "upperStd = np.sqrt((14 * std**2)/upperCrit)\n",
    "print(\"The 95% confidence interval for the standard deviation of weights is: [{},{}]\".format(lowerStd, upperStd))"
   ]
  },
  {
   "cell_type": "markdown",
   "metadata": {},
   "source": [
    "<a id='p4'></a>\n",
    "# Problem 4\n",
    "***\n",
    "\n",
    "Ostriches are typically around 7 to 9 feet tall.\n",
    "\n",
    "Some folks would claim that ostriches at one zoo are particularly taller than ostriches at another zoo due to influences such as climate and/or diet. We have samples of ostrich height from two different zoos.\n",
    "\n",
    "(For this problem you can assume that the ostrich populations from which these samples are taken are normally distributed with equal (but unknown) population variance).  \n",
    "\n",
    "***(6 points) Create a 95% CI for the difference between the mean ostrich heights for zoo A and zoo B, and interpret your answer.***\n",
    "\n",
    "\n"
   ]
  },
  {
   "cell_type": "markdown",
   "metadata": {},
   "source": [
    "The heights of ostriches from Zoo A are found in the file `height1.csv`.\n",
    "\n",
    "The heights of ostriches from Zoo B are found in the file `height2.csv`.\n",
    " "
   ]
  },
  {
   "cell_type": "code",
   "execution_count": 19,
   "metadata": {},
   "outputs": [
    {
     "name": "stdout",
     "output_type": "stream",
     "text": [
      "The 95% confidence interval for the difference of mean ostritch heights is: [0.9711789159715878,1.4288210840284037]\n"
     ]
    }
   ],
   "source": [
    "dfZooA = pd.read_csv(\"height1.csv\")\n",
    "dfZooB = pd.read_csv(\"height2.csv\")\n",
    "dof = int(dfZooA.count()) + int(dfZooB.count()) - 2\n",
    "tcrit = stats.t.ppf(1- (.05/2), dof)\n",
    "lowerOstritch = (float(dfZooA.mean()) - float(dfZooB.mean())) - tcrit*np.sqrt((float(dfZooA.std())**2/int(dfZooA.count()))+(float(dfZooB.std())**2/int(dfZooB.count())))\n",
    "upperOstritch = (float(dfZooA.mean()) - float(dfZooB.mean())) + tcrit*np.sqrt((float(dfZooA.std())**2/int(dfZooA.count()))+(float(dfZooB.std())**2/int(dfZooB.count())))\n",
    "print(\"The 95% confidence interval for the difference of mean ostritch heights is: [{},{}]\".format(lowerOstritch, upperOstritch))"
   ]
  },
  {
   "cell_type": "markdown",
   "metadata": {},
   "source": [
    "\n"
   ]
  },
  {
   "cell_type": "markdown",
   "metadata": {},
   "source": [
    "Our 95% confidence interval above does not include 0. Although we can't definitely say much from a confidence interval, this gives us a hint that there potentially IS a difference between the two means (maybe that Zoo A actually does have taller ostritches)."
   ]
  },
  {
   "cell_type": "markdown",
   "metadata": {},
   "source": [
    "<a id='p5'></a>\n",
    "# Problem 5\n",
    "***"
   ]
  },
  {
   "cell_type": "markdown",
   "metadata": {},
   "source": [
    "Suppose you are working for a government agency that provides food to war torn countries. The cornmeal packaging facility that you oversee is producing hundreds of thousands of bags of cornmeal for this purpose.\n",
    "\n",
    "You take a simple random sample of bags from the production line and weigh them. The data for this sample is found in `cornMeal.csv`.\n",
    "\n",
    "\n",
    "\n",
    "\n",
    "### [5] Part A\n",
    "***(1 pt) Create a frequency histogram of the data to get a visual idea of how normal the data appears to be distributed.***\n"
   ]
  },
  {
   "cell_type": "code",
   "execution_count": 20,
   "metadata": {},
   "outputs": [
    {
     "data": {
      "text/plain": [
       "array([[<AxesSubplot:title={'center':'bagWeight'}>]], dtype=object)"
      ]
     },
     "execution_count": 20,
     "metadata": {},
     "output_type": "execute_result"
    },
    {
     "data": {
      "image/png": "[encoded data removed]",
      "text/plain": [
       "<Figure size 432x288 with 1 Axes>"
      ]
     },
     "metadata": {
      "needs_background": "light"
     },
     "output_type": "display_data"
    }
   ],
   "source": [
    "dfCornMeal = pd.read_csv(\"cornMeal.csv\")\n",
    "dfCornMeal.hist()"
   ]
  },
  {
   "cell_type": "markdown",
   "metadata": {},
   "source": [
    "\n",
    "\n",
    "### [5] Part B\n",
    "Since tax money is paying for each bag to have 1000g of cornmeal, it's important to make sure that each bag actually contains 1000g. Assume that this sample (`cornMeal.csv`) is representative of the population (i.e. bags produced on this production line) from which it was drawn.\n",
    "\n",
    "***(3 points) According to the mean, standard deviation and distribution of this sample, we can infer that what percent of bags from the entire population contain less than 1000g?***"
   ]
  },
  {
   "cell_type": "code",
   "execution_count": 21,
   "metadata": {},
   "outputs": [
    {
     "name": "stdout",
     "output_type": "stream",
     "text": [
      "0.5209767856847912 of the bags will contain less than 1000g. Or, roughly 52% contain less than 1000g\n"
     ]
    }
   ],
   "source": [
    "zscore = (1000 - float(dfCornMeal.mean()))/float(dfCornMeal.std())\n",
    "print(\"{} of the bags will contain less than 1000g. Or, roughly 52% contain less than 1000g\".format(stats.norm.cdf(zscore)))"
   ]
  },
  {
   "cell_type": "markdown",
   "metadata": {},
   "source": [
    "### [5] Part C\n",
    "\n",
    "The federal director in charge of this project has decided that a production line that produces more than 50% of bags without 1000g of cornmeal is cheating the taxpayers. In other words, the director has decided that too many bags are being filled with less than 1000g of cornmeal and tells you to fix the problem.\n",
    "\n",
    "Specifically, your task/mandate is to make sure at least 95% of cornmeal bags are filled within 5 grams of the labeled \"1000g per bag\".\n",
    "\n",
    "You have the ability to adjust a dial on the production machine that determines the mean amount of corn meal injected into a bag each time $\\textbf{or}$ you can adjust the shut-off valve so the differences in the filled amount per bag significantly reduces.\n",
    "\n",
    "You have two advisors working with you on this project. The first advisor tells you to simply adjust the dial on the machine regulating the mean amount injected into each bag so that 1000g is 1.7 standard deviations below the new mean. This would ensure that very few bags (only around 4%) produced are actually below\n",
    "the mandated 1000g. This would surely satisfy the director and fulfill your mandate.\n"
   ]
  },
  {
   "cell_type": "code",
   "execution_count": 22,
   "metadata": {},
   "outputs": [
    {
     "name": "stdout",
     "output_type": "stream",
     "text": [
      "0.04456546275854304\n"
     ]
    }
   ],
   "source": [
    "# If you are curious, this is where the previously mentioned 4% came from.\n",
    "pp = norm.cdf(-1.7)\n",
    "print(pp)"
   ]
  },
  {
   "cell_type": "markdown",
   "metadata": {},
   "source": [
    "***(2 points) If you follow this advice, then what would you set as the new mean amount of cornmeal to inject into each bag?***   "
   ]
  },
  {
   "cell_type": "code",
   "execution_count": 23,
   "metadata": {},
   "outputs": [
    {
     "name": "stdout",
     "output_type": "stream",
     "text": [
      "You would want to see the new mean amount to be: 1032.3161621226027. \n",
      "This ensures that less than 5% of bags will have under 1000g.\n"
     ]
    }
   ],
   "source": [
    "newMean = 1.7 * float(dfCornMeal.std()) + 1000\n",
    "print(\"You would want to see the new mean amount to be: {}. \\nThis ensures that less than 5% of bags will have under 1000g.\".format(newMean))"
   ]
  },
  {
   "cell_type": "markdown",
   "metadata": {},
   "source": [
    "### [5] Part D\n",
    "Your second advisor points out that increasing the mean to a higher level will create overfilling of bags or waste.\n",
    "\n",
    "Therefore, you decide to measure the overage that might occur should you follow the instructions of advisor 1.\n",
    "\n",
    "***(3 points) If you followed the advice of advisor 1, then you would increase the mean amount of cornmeal injected into each bag. With this new mean, what percentage of bags produced going forward would we expect to be greater than $1010g$ ?***\n"
   ]
  },
  {
   "cell_type": "code",
   "execution_count": 24,
   "metadata": {
    "scrolled": true
   },
   "outputs": [
    {
     "name": "stdout",
     "output_type": "stream",
     "text": [
      "Roughly 0.8797919593887329 bags will be above 1010. In other words, approx 88% will be greater than 1010g.\n"
     ]
    }
   ],
   "source": [
    "newZ = (1010 - newMean)/float(dfCornMeal.std())\n",
    "print(\"Roughly {} bags will be above 1010. In other words, approx 88% will be greater than 1010g.\".format(1-stats.norm.cdf(newZ)))"
   ]
  },
  {
   "cell_type": "markdown",
   "metadata": {},
   "source": [
    "### [5] Part E\n",
    "\n",
    "Your second advisor goes on to say, in an effort to control overfilling, one $\\textbf{should not}$ increase the mean amount of cornmeal per bag. This advisor claims you should instead adjust the accuracy of the shut-off valve to control how much (over/under) cornmeal is put into each bag.\n",
    "\n",
    "***(3 points) So, if you decide not to adjust the mean and instead adjust the shut-off valve (i.e. the standard deviation), then what should the new standard deviation be to ensure $98\\%$ of bags are within 5 grams of the mean?***\n"
   ]
  },
  {
   "cell_type": "code",
   "execution_count": 25,
   "metadata": {},
   "outputs": [
    {
     "name": "stdout",
     "output_type": "stream",
     "text": [
      "Roughly 0.9836049281508077 lies within 5 grams of the mean.\n",
      "The above value was found using a std devation of 2.0833333333333335\n"
     ]
    }
   ],
   "source": [
    "less = float(dfCornMeal.mean()) - 5\n",
    "more = float(dfCornMeal.mean()) + 5\n",
    "std1 = (more - float(dfCornMeal.mean()))/2.4\n",
    "zlower = (less - float(dfCornMeal.mean()))/std1\n",
    "zupper = (more - float(dfCornMeal.mean()))/std1\n",
    "print(\"Roughly {} lies within 5 grams of the mean.\".format(stats.norm.cdf(zupper) - stats.norm.cdf(zlower)))\n",
    "print(\"The above value was found using a std devation of {}\".format(std1))"
   ]
  },
  {
   "cell_type": "markdown",
   "metadata": {},
   "source": [
    "### [5] Part F\n",
    "***(3 points) Using this new standard deviation from Part E (and not adjusting the mean), what percent of bags would we expect to be within 5 grams of the labeled \"1000g per bag\"? In other words, going forward, what percent of bags would we expect to contain between $995g$ and $1005g$ of cornmeal? Have you satisfied the mandate?***\n"
   ]
  },
  {
   "cell_type": "code",
   "execution_count": 26,
   "metadata": {},
   "outputs": [
    {
     "name": "stdout",
     "output_type": "stream",
     "text": [
      "Using the new standard deviation, roughly 97.05826744412875% of bags will be between 995g and 1005g\n",
      "If we are trying to get 95% of bags within 5 grams of 1000, we have satisfied the mandate.\n"
     ]
    }
   ],
   "source": [
    "znewlowerStd = (995 - float(dfCornMeal.mean()))/std1\n",
    "znewupperStd = (1005- float(dfCornMeal.mean()))/std1\n",
    "newPercentage = stats.norm.cdf(znewupperStd) - stats.norm.cdf(znewlowerStd)\n",
    "print(\"Using the new standard deviation, roughly {}% of bags will be between 995g and 1005g\".format(newPercentage * 100))\n",
    "print(\"If we are trying to get 95% of bags within 5 grams of 1000, we have satisfied the mandate.\")"
   ]
  },
  {
   "cell_type": "markdown",
   "metadata": {},
   "source": [
    "<a id='p6'></a>\n",
    "# Problem 6\n",
    "***"
   ]
  },
  {
   "cell_type": "markdown",
   "metadata": {},
   "source": [
    "Consider a CU CS course with two sections; Section 001 and Section 002.\n",
    "\n",
    "The .csv file `Section_001.csv` contains the twelve quiz scores of 4 named students from section 001.\n",
    "\n",
    "The .csv file `Section_002.csv` contains the twelve quiz scores of 4 named students from section 002.\n",
    "\n",
    "Import the data of these two sets.\n",
    "One of the sections contains four students whose scores $\\textbf{are not}$ statistically different.\n",
    "The other section contains four students whose scores $\\textbf{are}$ statistically different.\n",
    "\n",
    "You can assume that population quiz scores for both sections are normally distributed with the same (unknown) population variance.  \n"
   ]
  },
  {
   "cell_type": "code",
   "execution_count": 27,
   "metadata": {},
   "outputs": [
    {
     "name": "stdout",
     "output_type": "stream",
     "text": [
      "Section1:\n",
      "       Al   Bob    Cy   Dot\n",
      "0   16.7  20.0  15.6  20.0\n",
      "1   15.6  15.5  15.5  20.0\n",
      "2   17.1  17.4  16.1  18.6\n",
      "3   18.8  18.0  16.7  18.5\n",
      "4   18.0  17.1  17.1  18.0\n",
      "5   18.0  16.7  18.8  18.1\n",
      "6   17.5  15.7  18.0  15.4\n",
      "7   18.6  18.8  17.5  17.5\n",
      "8   15.5  18.0  18.0  17.1\n",
      "9   16.1  18.6  18.6  15.6\n",
      "10  20.0  16.1  19.8  16.5\n",
      "11  18.5  18.2  18.7  16.1 \n",
      "\n",
      "Section2:\n",
      "      Eli  Frida   Gob  Hank\n",
      "0   18.9   16.1  10.6  19.2\n",
      "1   17.7   15.4  14.9  18.9\n",
      "2   20.0   16.4  12.9  19.1\n",
      "3   17.3   14.3  10.7  19.1\n",
      "4   17.2   16.4   8.2  18.8\n",
      "5   18.2   16.5  15.9  19.4\n",
      "6   18.1   16.5  11.9  18.6\n",
      "7   17.6   15.0  15.5  19.2\n",
      "8   18.1   16.4  10.3  18.9\n",
      "9   16.0   14.5  16.2  19.5\n",
      "10  18.2   15.3  19.2  18.8\n",
      "11  19.3   16.1  13.5  18.8\n"
     ]
    }
   ],
   "source": [
    "dfSect1 = pd.read_csv(\"Section_001.csv\")\n",
    "dfSect2 = pd.read_csv(\"Section_002.csv\")\n",
    "print(\"Section1:\\n\",dfSect1, \"\\n\")\n",
    "print(\"Section2:\\n\", dfSect2)"
   ]
  },
  {
   "cell_type": "markdown",
   "metadata": {},
   "source": [
    "### [6] Part A\n",
    "***(3 points) Perform ANOVA F-test(s) to determine which data set (section 001 or section 002) contains a group of students whose mean quiz scores are considered different at the $\\alpha = 0.05$ significance level.***"
   ]
  },
  {
   "cell_type": "code",
   "execution_count": 28,
   "metadata": {},
   "outputs": [
    {
     "name": "stdout",
     "output_type": "stream",
     "text": [
      "Section 1 F = 0.01345\n",
      "Section 1 pval = 0.99784\n",
      "Section 2 F = 26.67605\n",
      "Section 2 pval = 0.00000\n"
     ]
    }
   ],
   "source": [
    "sect1F, sect1pval = stats.f_oneway(dfSect1[\"Al\"],dfSect1[\"Bob\"],dfSect1[\"Cy\"],dfSect1[\"Dot\"])\n",
    "print(\"Section 1 F = {:.5f}\".format(sect1F))\n",
    "print(\"Section 1 pval = {:.5f}\".format(sect1pval))\n",
    "sect2F, sect2pval = stats.f_oneway(dfSect2[\"Eli\"],dfSect2[\"Frida\"],dfSect2[\"Gob\"],dfSect2[\"Hank\"])\n",
    "print(\"Section 2 F = {:.5f}\".format(sect2F))\n",
    "print(\"Section 2 pval = {:.5f}\".format(sect2pval))"
   ]
  },
  {
   "cell_type": "markdown",
   "metadata": {},
   "source": [
    "We can clearly see above that section 1 has a pvalue of $0.99784 > 0.05$\n",
    "\n",
    "However, section 2 has a pvalue of $0.000 < 0.05$, and therefore, $\\textbf{section 2}$ contains the group of students whose mean quiz scores are considered different at a 0.05 significance level."
   ]
  },
  {
   "cell_type": "markdown",
   "metadata": {},
   "source": [
    "### [6] Part B\n",
    "\n",
    "***(3 points)  Now that you have chosen the data set (the proper CS section) that contains four students whose scores are considered different at the 5% level, use Tukey's Honest Significant Difference (HSD) test to determine which students in this section are statistically different using the MultiComparison module and interpret the results, i.e. compare/rank the students according to quiz scores.***\n"
   ]
  },
  {
   "cell_type": "code",
   "execution_count": 29,
   "metadata": {},
   "outputs": [
    {
     "name": "stdout",
     "output_type": "stream",
     "text": [
      "Multiple Comparison of Means - Tukey HSD, FWER=0.05 \n",
      "====================================================\n",
      "group1 group2 meandiff p-adj   lower   upper  reject\n",
      "----------------------------------------------------\n",
      "   Eli  Frida  -2.3083 0.0098 -4.1714 -0.4453   True\n",
      "   Eli    Gob  -4.7333    0.0 -6.5964 -2.8703   True\n",
      "   Eli   Hank    0.975 0.5077 -0.8881  2.8381  False\n",
      " Frida    Gob   -2.425 0.0062 -4.2881 -0.5619   True\n",
      " Frida   Hank   3.2833 0.0001  1.4203  5.1464   True\n",
      "   Gob   Hank   5.7083    0.0  3.8453  7.5714   True\n",
      "----------------------------------------------------\n",
      "Eli mean: 18.050\n",
      "Gob mean: 13.317\n",
      "Hank mean: 19.025\n",
      "Frida mean: 15.742\n"
     ]
    }
   ],
   "source": [
    "data = dfSect2.values.T.flatten()\n",
    "labels = []\n",
    "for col in dfSect2.columns:\n",
    "    labels = labels + [col]*dfSect2[col].count()\n",
    "mc = MultiComparison(data, labels)\n",
    "result = mc.tukeyhsd()\n",
    "\n",
    "print(result)\n",
    "\n",
    "print(\"Eli mean: {:.3f}\".format(dfSect2[\"Eli\"].mean()))\n",
    "print(\"Gob mean: {:.3f}\".format(dfSect2[\"Gob\"].mean()))\n",
    "print(\"Hank mean: {:.3f}\".format(dfSect2[\"Hank\"].mean()))\n",
    "print(\"Frida mean: {:.3f}\".format(dfSect2[\"Frida\"].mean()))"
   ]
  },
  {
   "cell_type": "markdown",
   "metadata": {},
   "source": [
    "From the above, we have sufficient evidence to believe that Eli & Frida, Eli & Gob, Frida & Gob, Frida & Hank, and Gob & Hank all have differences in their mean (all with reject = True). However, we have no evidence to believe that Eli & Hank have different means. From the Turkey HSD results, we have the following in order from highest mean to lowest mean: $\\mu Hank = \\mu Eli > \\mu Frida > \\mu Gob$"
   ]
  },
  {
   "cell_type": "markdown",
   "metadata": {},
   "source": [
    "<a id='p7'></a>\n",
    "# Problem 7\n",
    "***"
   ]
  },
  {
   "cell_type": "markdown",
   "metadata": {},
   "source": [
    "In this question you will import `x.csv` and compare its distribution to a distribution of sample means taken from samples of `x.csv`.\n"
   ]
  },
  {
   "cell_type": "code",
   "execution_count": 30,
   "metadata": {},
   "outputs": [
    {
     "data": {
      "text/html": [
       "<div>\n",
       "<style scoped>\n",
       "    .dataframe tbody tr th:only-of-type {\n",
       "        vertical-align: middle;\n",
       "    }\n",
       "\n",
       "    .dataframe tbody tr th {\n",
       "        vertical-align: top;\n",
       "    }\n",
       "\n",
       "    .dataframe thead th {\n",
       "        text-align: right;\n",
       "    }\n",
       "</style>\n",
       "<table border=\"1\" class=\"dataframe\">\n",
       "  <thead>\n",
       "    <tr style=\"text-align: right;\">\n",
       "      <th></th>\n",
       "      <th>x</th>\n",
       "    </tr>\n",
       "  </thead>\n",
       "  <tbody>\n",
       "    <tr>\n",
       "      <th>0</th>\n",
       "      <td>28.09</td>\n",
       "    </tr>\n",
       "    <tr>\n",
       "      <th>1</th>\n",
       "      <td>19.14</td>\n",
       "    </tr>\n",
       "    <tr>\n",
       "      <th>2</th>\n",
       "      <td>134.34</td>\n",
       "    </tr>\n",
       "    <tr>\n",
       "      <th>3</th>\n",
       "      <td>42.41</td>\n",
       "    </tr>\n",
       "    <tr>\n",
       "      <th>4</th>\n",
       "      <td>84.75</td>\n",
       "    </tr>\n",
       "    <tr>\n",
       "      <th>...</th>\n",
       "      <td>...</td>\n",
       "    </tr>\n",
       "    <tr>\n",
       "      <th>995</th>\n",
       "      <td>7.35</td>\n",
       "    </tr>\n",
       "    <tr>\n",
       "      <th>996</th>\n",
       "      <td>42.21</td>\n",
       "    </tr>\n",
       "    <tr>\n",
       "      <th>997</th>\n",
       "      <td>133.64</td>\n",
       "    </tr>\n",
       "    <tr>\n",
       "      <th>998</th>\n",
       "      <td>71.75</td>\n",
       "    </tr>\n",
       "    <tr>\n",
       "      <th>999</th>\n",
       "      <td>71.38</td>\n",
       "    </tr>\n",
       "  </tbody>\n",
       "</table>\n",
       "<p>1000 rows × 1 columns</p>\n",
       "</div>"
      ],
      "text/plain": [
       "          x\n",
       "0     28.09\n",
       "1     19.14\n",
       "2    134.34\n",
       "3     42.41\n",
       "4     84.75\n",
       "..      ...\n",
       "995    7.35\n",
       "996   42.21\n",
       "997  133.64\n",
       "998   71.75\n",
       "999   71.38\n",
       "\n",
       "[1000 rows x 1 columns]"
      ]
     },
     "execution_count": 30,
     "metadata": {},
     "output_type": "execute_result"
    }
   ],
   "source": [
    "dfX = pd.read_csv(\"x.csv\")\n",
    "dfX"
   ]
  },
  {
   "cell_type": "markdown",
   "metadata": {},
   "source": [
    "### [7] Part A\n",
    "***(3 points) Create a **density histogram** of the data set, find its mean, and describe its shape.***"
   ]
  },
  {
   "cell_type": "code",
   "execution_count": 31,
   "metadata": {},
   "outputs": [
    {
     "name": "stdout",
     "output_type": "stream",
     "text": [
      "x    41.34707\n",
      "dtype: float64\n"
     ]
    },
    {
     "data": {
      "image/png": "[encoded data removed]",
      "text/plain": [
       "<Figure size 432x288 with 1 Axes>"
      ]
     },
     "metadata": {
      "needs_background": "light"
     },
     "output_type": "display_data"
    }
   ],
   "source": [
    "dfX.hist()\n",
    "print(dfX.mean())"
   ]
  },
  {
   "cell_type": "markdown",
   "metadata": {},
   "source": [
    "As we can see above, the mean of this data set is about 41.347. Observing the graph, this is $\\textbf{skewed right}$ a pretty significant amount."
   ]
  },
  {
   "cell_type": "markdown",
   "metadata": {},
   "source": [
    "### [7] Part B\n",
    "***(4 points)  Complete the functions below to graph a sample distribution of sample means from this file. Do not change the names or any of the existing code.***"
   ]
  },
  {
   "cell_type": "code",
   "execution_count": 32,
   "metadata": {},
   "outputs": [
    {
     "data": {
      "image/png": "[encoded data removed]",
      "text/plain": [
       "<Figure size 864x432 with 1 Axes>"
      ]
     },
     "metadata": {
      "needs_background": "light"
     },
     "output_type": "display_data"
    }
   ],
   "source": [
    "# 'x' refers to the values in our file x.csv.\n",
    "\n",
    "# Create a function that returns a single sample mean from a single\n",
    "#  random sample of size 'sample_size=5' obtained from 'x'.\n",
    "# Uncomment the function below and use it.\n",
    "\n",
    "def est_mean_from_sample(sample_size=5):\n",
    "    b = np.array([np.random.choice(dfX[\"x\"]) for i in range(sample_size)])\n",
    "    meanX = b.sum()/sample_size\n",
    "    return meanX\n",
    "# Create a function that returns an array of sample means by\n",
    "#  calling 'est_mean_from_sample' 'numb_samples' amount of times.\n",
    "# Uncomment the function below and use it.\n",
    "\n",
    "def array_of_means(sample_size=5, numb_samples=12):\n",
    "    arrMeans = np.array([est_mean_from_sample(5) for i in range(numb_samples)])\n",
    "    return arrMeans\n",
    "    \n",
    "\n",
    "# Create a function that graphs a distribution of the\n",
    "#  sample means returned from 'array_of_means'.\n",
    "# Uncomment the function below and use it.\n",
    "\n",
    "def sample_mean_dist(sample_size=5, numb_samples=12):\n",
    "    fig, ax = plt.subplots(nrows=1, ncols=1, figsize=(12,6))\n",
    "    values = array_of_means(sample_size,numb_samples)\n",
    "    pd.Series(values).hist(ax=ax, color=\"steelblue\", edgecolor=\"white\", bins=20, density=False)\n",
    "sample_mean_dist(5,12)"
   ]
  },
  {
   "cell_type": "markdown",
   "metadata": {},
   "source": [
    "### [7] Part C\n",
    "***(2 points) Now call `sample_mean_dist()` with sample_size=31 and numb_samples=10000. How close is the mean of the sample distribution to the mean of the distribution of `x.csv` ? Is the distribution of sample means more or less skewed than `x.csv` ?\n",
    "What is the name of the theorem that explains these observations?***"
   ]
  },
  {
   "cell_type": "code",
   "execution_count": 33,
   "metadata": {},
   "outputs": [
    {
     "data": {
      "image/png": "[encoded data removed]",
      "text/plain": [
       "<Figure size 864x432 with 1 Axes>"
      ]
     },
     "metadata": {
      "needs_background": "light"
     },
     "output_type": "display_data"
    }
   ],
   "source": [
    "# Call the graphing function.\n",
    "# Uncomment the function call below to use it.\n",
    "\n",
    "sample_mean_dist(sample_size=31, numb_samples=10000)"
   ]
  },
  {
   "cell_type": "markdown",
   "metadata": {},
   "source": [
    "The graph now looks significantly less skewed when plotting the averages of the mean of 5 random samples of data, and taking 10000 samples. We can see that this is much more close to a normal distribution. This is due to the $\\textbf{central limit theorem}$. This theorem states that, regardless of the distrubtion that we start with, taking a large number of sample means from the data will result in a normal distribution. The mean of this sample distribution is incredibly close to the mean of the original data."
   ]
  },
  {
   "cell_type": "code",
   "execution_count": null,
   "metadata": {},
   "outputs": [],
   "source": []
  }
 ],
 "metadata": {
  "kernelspec": {
   "display_name": "Python 3 (ipykernel)",
   "language": "python",
   "name": "python3"
  },
  "language_info": {
   "codemirror_mode": {
    "name": "ipython",
    "version": 3
   },
   "file_extension": ".py",
   "mimetype": "text/x-python",
   "name": "python",
   "nbconvert_exporter": "python",
   "pygments_lexer": "ipython3",
   "version": "3.10.5"
  }
 },
 "nbformat": 4,
 "nbformat_minor": 4
}
