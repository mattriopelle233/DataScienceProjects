{
 "cells": [
  {
   "cell_type": "markdown",
   "metadata": {},
   "source": [
    "# Homework 04: Bayes and DRV's\n",
    "***\n",
    "\n",
    "**Name**: Matthew Riopelle\n",
    "\n",
    "***\n",
    "\n",
    "This assignment is due on Canvas by **6:00PM on Friday September 23**. Your solutions to theoretical questions should be done in Markdown directly below the associated question.  Your solutions to computational questions should include any specified Python code and results as well as written commentary on your conclusions.  Remember that you are encouraged to discuss the problems with your classmates, but **you must write all code and solutions on your own**.\n",
    "\n",
    "**NOTES**: \n",
    "\n",
    "- Any relevant data sets should be available in the Homework 01 assignment write-up on Canvas. To make life easier on the grader if they need to run your code, do not change the relative path names here. Instead, move the files around on your computer.\n",
    "- If you're not familiar with typesetting math directly into Markdown then by all means, do your work on paper first and then typeset it later.  Remember that there is a [reference guide](https://math.meta.stackexchange.com/questions/5020/mathjax-basic-tutorial-and-quick-reference) linked on Canvas on writing math in Markdown. **All** of your written commentary, justifications and mathematical work should be in Markdown.\n",
    "- Because you can technically evaluate notebook cells is a non-linear order, it's a good idea to do $\\color{red}{\\text{Kernel}}$ $\\color{red}\\rightarrow$ $\\color{red}{\\text{Restart & Run All}}$ as a check before submitting your solutions.  That way if we need to run your code you will know that it will work as expected. \n",
    "- It is **bad form** to make your reader interpret numerical output from your code.  If a question asks you to compute some value from the data you should show your code output **AND** $\\color{red}{\\text{write a summary of the results}}$ in Markdown directly below your code. \n",
    "- This probably goes without saying, but... For any question that asks you to calculate something, you **must show all work and justify your answers to receive credit**. Sparse or nonexistent work will receive sparse or nonexistent credit. \n",
    "\n",
    "---"
   ]
  },
  {
   "cell_type": "markdown",
   "metadata": {},
   "source": [
    "Import Pandas and NumPy."
   ]
  },
  {
   "cell_type": "code",
   "execution_count": 1,
   "metadata": {},
   "outputs": [],
   "source": [
    "# Per the standard import pandas as 'pd' and numpy as 'np'\n",
    "import pandas as pd\n",
    "import numpy as np\n",
    "\n",
    "# You may need binom to calculate a binomial coefficient\n",
    "from scipy.special import binom"
   ]
  },
  {
   "cell_type": "markdown",
   "metadata": {},
   "source": [
    "In case you create a graph, load Matplotlib's Pylab library to set up Jupyter so that it will plot directly in the notebook."
   ]
  },
  {
   "cell_type": "code",
   "execution_count": 2,
   "metadata": {},
   "outputs": [],
   "source": [
    "import matplotlib.pylab as plt\n",
    "%matplotlib inline \n",
    "    # 'inline' puts your graph in the cell versus a new popup window"
   ]
  },
  {
   "cell_type": "markdown",
   "metadata": {},
   "source": [
    "# Problem 1\n",
    "***\n",
    "You have become concerned about your diet and decide that at each of your regular three meals per day that you eat, you are going to add a serving with a particular important nutrient. Sometimes you add vitamin C, sometimes you add protein, and sometimes you add iron.\n",
    "\n",
    "For instance, on a given day, you may eat an additional vitamin C serving for breakfast, an additional protein serving for lunch, and another additional protein serving for dinner.\n",
    "\n",
    "On a different day you decide to add iron to breakfast, vitamin C to lunch, and protein to dinner. What you choose to add to each meal is a random choice.\n",
    "\n",
    "Let $X$ be a random variable that indicates how many servings of protein you added on a given day."
   ]
  },
  {
   "cell_type": "markdown",
   "metadata": {},
   "source": [
    "### Part A\n",
    "***\n",
    "\n",
    "***(1 points)*** What is the probability mass function of $X$?"
   ]
  },
  {
   "cell_type": "markdown",
   "metadata": {},
   "source": [
    "***solution:*** Put your solution to part A here:\n",
    "There are 3 possible options for each meal, and there are 3 meals a day. This means that there are $3^{3}$, or 27 meal combinations. We can eat either 0, 1,2, or 3 protein meals on any given, so the PMF will have X=0,1,2,and 3. We have a $1/3$ probability of picking protein each meal, and we have a $2/3$ probability of not picking protein each meal.\n",
    "\n",
    "$P(X=0) = {3 \\choose 0}\\cdot\\frac{1}{3}^{0} \\cdot\\frac{2}{3}^{3} = \\frac{8}{27}$\n",
    "\n",
    "$P(X=1) = {3 \\choose 1}\\cdot\\frac{1}{3}^{1} \\cdot\\frac{2}{3}^{2} = \\frac{12}{27}$\n",
    "\n",
    "$P(X=2) = {3 \\choose 2}\\cdot\\frac{1}{3}^{2} \\cdot\\frac{2}{3}^{1} = \\frac{6}{27}$\n",
    "\n",
    "$P(X=3) = {3 \\choose 3}\\cdot\\frac{1}{3}^{3} \\cdot\\frac{2}{3}^{0} = \\frac{1}{27}$\n",
    "\n",
    "This is a valid PMF, as all of these fractions add up to 1."
   ]
  },
  {
   "cell_type": "markdown",
   "metadata": {},
   "source": [
    "### Part B\n",
    "***\n",
    "\n",
    "***(1 points)*** What is the cumulative distribution function for $X$?\n",
    "\n"
   ]
  },
  {
   "cell_type": "markdown",
   "metadata": {},
   "source": [
    "***solution:*** Put your solution to part B here:\n",
    "\n",
    "$P(X \\leq{0}) = \\frac{8}{27}$\n",
    "\n",
    "$P(X \\leq{1}) = \\frac{20}{27}$\n",
    "\n",
    "$P(X \\leq{2}) = \\frac{26}{27}$\n",
    "\n",
    "$P(X \\leq{3}) = \\frac{27}{27}$\n",
    "\n",
    "For $n \\geq 3$, $P(X \\leq n) = 1$"
   ]
  },
  {
   "cell_type": "markdown",
   "metadata": {},
   "source": [
    "### Part C\n",
    "***\n",
    "\n",
    "***(1 points)*** What is the probability that you added 2 or fewer servings of protein on a day?"
   ]
  },
  {
   "cell_type": "markdown",
   "metadata": {},
   "source": [
    "***solution:*** Put your solution to part C here:\n",
    "\n",
    "Observing the CDF above, $P(X \\leq{2}) = \\frac{26}{27}$"
   ]
  },
  {
   "cell_type": "markdown",
   "metadata": {},
   "source": [
    "### Part D\n",
    "***\n",
    "\n",
    "***(1 points)*** What is the probability that you added 2 or more servings or protein?"
   ]
  },
  {
   "cell_type": "markdown",
   "metadata": {},
   "source": [
    "***solution:*** Put your solution to part D here:\n",
    "\n",
    "Here we use our PMF since it is 2 or more servings. We take \n",
    "\n",
    "$P(X = 2) + P(X = 3)$\n",
    "\n",
    "$\\frac{6}{27} + \\frac{1}{27} = \\frac{7}{27}$\n",
    "\n",
    "That is, we have a $\\frac{7}{27}$ chance of eating either 2 or 3 servings of protein on a day, AKA 2 or more servings of protein."
   ]
  },
  {
   "cell_type": "markdown",
   "metadata": {},
   "source": [
    "# Problem 2\n",
    "***\n",
    "\n",
    "You drink 3 cups of coffee each day, and in a continuation of your plans to change your diet you decide to stop using sugar in your coffee.\n",
    "\n",
    "However, you find it too difficult to completely stop using sugar. Therefore, 20% of the time you end up using sugar in your coffee anyway.\n",
    "\n",
    "Let $X$ be the random variable that indicates the number of 'sugared' coffees out of three that you drink per day.\n",
    "\n",
    "***(1 points)*** What is the probability mass function? Consider 'no sugar' to be success."
   ]
  },
  {
   "cell_type": "markdown",
   "metadata": {},
   "source": [
    "***solution:*** Put your solution to #2 here:\n",
    "\n",
    "We have 3 cups of coffee a day. According to the problem, we have a $\\frac{1}{5}$ chance of using sugar for each coffee. This means that we have a $\\frac{4}{5}$ chance of no sugar for each coffee. From this we get the following:\n",
    "\n",
    "$P(X=0) = {3 \\choose 0} \\cdot\\frac{1}{5}^{0}\\cdot\\frac{4}{5}^{3} = \\frac{64}{125}$\n",
    "\n",
    "$P(X=1) = {3 \\choose 1} \\cdot\\frac{1}{5}^{1}\\cdot\\frac{4}{5}^{2} = \\frac{48}{125}$\n",
    "\n",
    "$P(X=2) = {3 \\choose 2} \\cdot\\frac{1}{5}^{2}\\cdot\\frac{4}{5}^{1} = \\frac{12}{125}$\n",
    "\n",
    "$P(X=3) = {3 \\choose 3} \\cdot\\frac{1}{5}^{3}\\cdot\\frac{4}{5}^{0} = \\frac{1}{125}$\n",
    "\n",
    "That is, we have a $\\frac{64}{125}$ successes (64/125th of the time, you will drink no surgared coffee in a day)"
   ]
  },
  {
   "cell_type": "markdown",
   "metadata": {
    "tags": []
   },
   "source": [
    "# Problem 3\n",
    "***\n",
    "Consider the probability mass function $P(X=x) = 2nx^2-2nx$ with the discrete random variable taking on values $1, 2, 3, 4$."
   ]
  },
  {
   "cell_type": "markdown",
   "metadata": {},
   "source": [
    "### Part A\n",
    "***\n",
    "\n",
    "***(3 points)*** What is the value of $n$?"
   ]
  },
  {
   "cell_type": "markdown",
   "metadata": {},
   "source": [
    "***solution:*** Put your solution to part A here:\n",
    "As we know, taking the sum of the DRV probabilities for a sample space should always equal 1. That is:\n",
    "\n",
    "$\\sum_{i=1}^{n} p(a_{i}) = 1$\n",
    "\n",
    "So, I will plug in 1,2,3, and 4 to x, add them up and solve for n.\n",
    "\n",
    "$P(X=1) = 2n\\cdot(1)^2 - 2n\\cdot(1) = 2n - 2n = 0$\n",
    "\n",
    "$P(X=2) = 2n\\cdot(2)^2 - 2n\\cdot(2) = 2n\\cdot(4) -4n = 8n - 4n = 4n$\n",
    "\n",
    "$P(X=3) = 2n\\cdot(3)^2 - 2n\\cdot(3) = 2n\\cdot(9) - 6n = 18n -6n = 12n$\n",
    "\n",
    "$P(X=4) = 2n\\cdot(4)^2 - 2n\\cdot(4) = 2n\\cdot(16) - 8n = 32n - 8n = 24n$\n",
    "\n",
    "Now, we know\n",
    "\n",
    "$P(X=1) + P(X=2) + P(X=3) + P(X=4) = 1$\n",
    "\n",
    "Plugging in:\n",
    "\n",
    "$(0) + (4n) + (12n) + (24n) = 1$\n",
    "\n",
    "$40n = 1$\n",
    "\n",
    "$n = \\frac{1}{40}$"
   ]
  },
  {
   "cell_type": "markdown",
   "metadata": {},
   "source": [
    "### Part B\n",
    "***\n",
    "\n",
    " ***(2 points)*** What is $P(X=4)$?"
   ]
  },
  {
   "cell_type": "markdown",
   "metadata": {},
   "source": [
    "***solution:*** Put your solution to part B here:\n",
    "\n",
    "We know from above that $n = \\frac{1}{40}$\n",
    "\n",
    "We also know that $P(X=x) = 2nx^{2} - 2nx$\n",
    "\n",
    "Plugging in these values for $P(X=4)$\n",
    "\n",
    "$P(X=4) = 2\\cdot(\\frac{1}{40})\\cdot(4)^{2} - 2\\cdot(\\frac{1}{40})\\cdot (4)$\n",
    "\n",
    "$P(X=4) = \\frac{2}{40}\\cdot (16) - \\frac{2}{40}\\cdot (4)$\n",
    "\n",
    "$P(X=4) = \\frac{32}{40} - \\frac{8}{40}$\n",
    "\n",
    "$P(X=4) = \\frac{24}{40}$\n",
    "\n",
    "We have found that $P(X=4) = \\frac{24}{40}$ OR $\\frac{3}{5}$"
   ]
  },
  {
   "cell_type": "markdown",
   "metadata": {},
   "source": [
    " ### Part C\n",
    " ***\n",
    " \n",
    "***(2 points)*** What is $P(X\\leq3)=$?"
   ]
  },
  {
   "cell_type": "markdown",
   "metadata": {},
   "source": [
    "***solution:*** Put your solution to part C here:\n",
    "To find this answer, we know that the DRV variables are x = 1,2,3,4. This means that to find $P(X\\leq3)$, we can simply take $1-P(X=4)$.\n",
    "\n",
    "$=1-\\frac{24}{40} = \\frac{16}{40}$\n",
    "\n",
    "We could also look at the CDF:\n",
    "\n",
    "$P(X=1) = 0$\n",
    "\n",
    "$P(X=2) = \\frac{4}{40}$\n",
    "\n",
    "$P(X=3) = \\frac{12}{40}$\n",
    "\n",
    "$P(X\\leq3) = P(X=1) + P(X=2) + P(X=3)$\n",
    "\n",
    "$P(X\\leq3) = 0 + \\frac{4}{40} + \\frac{12}{40}$\n",
    "\n",
    "$P(X\\leq3) = \\frac{16}{40}$\n",
    "\n",
    "Therefore, $P(X\\leq3) = \\frac{16}{40}$ OR $\\frac{2}{5}$"
   ]
  },
  {
   "cell_type": "markdown",
   "metadata": {},
   "source": [
    "# Problem 4\n",
    "***\n",
    "\n",
    "One of the following graphs (either graph 1 or graph 2) is a PMF and one is not.\n",
    "\n",
    "***(2 points)*** Draw the CDF for the one valid PMF.\n",
    "\n",
    "GRAPH 1\n",
    "![title](npdf.png)\n",
    "\n",
    "GRAPH 2\n",
    "![title](ypdf.png)"
   ]
  },
  {
   "cell_type": "markdown",
   "metadata": {},
   "source": [
    "***solution:*** Put your solution to #4 here:\n",
    "A PMF is a mapy between the random variable's value and probability. Graph 1 looks like the PMF to me, because it is a symmetric graph. Graph 2 is only increasing, which means to me that it may be a CDF. \n",
    "\n",
    "$\\textbf{BELOW IS THE GRAPH OF THE CDF, DIDN'T MEAN TO WRITE CMF}$\n",
    "![title](IMG_6487.jpg)"
   ]
  },
  {
   "cell_type": "markdown",
   "metadata": {},
   "source": [
    "# Problem 5\n",
    "***\n",
    "\n",
    "![title](3die.png)\n",
    "You are the proud new owner of a three sided die!\n",
    "\n",
    "The sides are marked '1', '2', and '3'. Let $X$ be the amount of 3's obtained after rolling the die twice.\n",
    "\n",
    "If $S$ is the sample space, then $X:S\\to\\mathbb{R}$, and $p(x_i)=P(X=x_i)=P(\\{s\\in S|X(s)=x_i\\})$"
   ]
  },
  {
   "cell_type": "markdown",
   "metadata": {},
   "source": [
    "### Part A\n",
    "***\n",
    "\n",
    "   1] ***(2 points)*** What is $X((3, 3))$?\n",
    "   \n",
    "   2] ***(2 points)*** What is $X((2, 3))$?"
   ]
  },
  {
   "cell_type": "markdown",
   "metadata": {},
   "source": [
    "***solution:*** Put your solution to part A, 1&2, here:\n",
    "\n",
    "From my understanding, X((num1,num2)) checks to see if num1 is a 3, and if num2 is a 3. A 3 being present in either place increments the count of 3's.\n",
    "\n",
    "Therefore:\n",
    "\n",
    "1]$X((3,3)) = 2$ because there are 2 three's present\n",
    "\n",
    "2]$X((2,3)) = 1$ because there is 1 three present"
   ]
  },
  {
   "cell_type": "markdown",
   "metadata": {},
   "source": [
    "### Part B\n",
    "***\n",
    "\n",
    "   1] ***(2 points)*** What is $p(2)$?\n",
    "\n",
    "   2] ***(2 points)*** What is $p(1)$?"
   ]
  },
  {
   "cell_type": "markdown",
   "metadata": {},
   "source": [
    "***solution:*** Put your solution to part B, #1 & 2, here:\n",
    "\n",
    "On each roll, we have a $\\frac{1}{3}$ chance of getting a 3.\n",
    "\n",
    "Conversely, we have a $\\frac{2}{3}$ chance of getting anything else but a 3.\n",
    "\n",
    "P(2) is the probability of rolling 2 three's. \n",
    "\n",
    "P(1) is the probability of rolling 1 three.\n",
    "\n",
    "$P(2) = P(X=2) = {2 \\choose 2} \\cdot \\frac{1}{3}^{2} \\cdot \\frac{2}{3}^{0} = 1 \\cdot \\frac{1}{9} \\cdot 1 = \\frac{1}{9}$\n",
    "\n",
    "$P(1) = P(X=1) = {2 \\choose 1} \\cdot \\frac{1}{3}^{1} \\cdot \\frac{2}{3}^{1} = 2 \\cdot \\frac{1}{3} \\cdot \\frac{2}{3} = \\frac{4}{9}$"
   ]
  },
  {
   "cell_type": "markdown",
   "metadata": {},
   "source": [
    "### Part C\n",
    "***\n",
    "\n",
    "1] ***(2 points)*** Create a table of values for the PMF.\n",
    "\n",
    "2] ***(4 points)*** Create (code) a graph for the PMF."
   ]
  },
  {
   "cell_type": "markdown",
   "metadata": {},
   "source": [
    "***solution:*** Put your solution to part C, #1 here:\n",
    "$\\newcommand\\T{\\Rule{0pt}{1em}{.3em}}\n",
    "\\begin{array}{|c|c|}\n",
    "\\hline i & P(X = i) \\T \\\\\\hline\n",
    "  0 \\T & 4/9 \\\\\\hline\n",
    "  1 \\T & 4/9 \\\\\\hline\n",
    "  2 \\T & 1/9 \\\\\\hline\n",
    "\\end{array}$"
   ]
  },
  {
   "cell_type": "code",
   "execution_count": 3,
   "metadata": {},
   "outputs": [
    {
     "data": {
      "image/png": "[encoded data removed]",
      "text/plain": [
       "<Figure size 432x288 with 1 Axes>"
      ]
     },
     "metadata": {
      "needs_background": "light"
     },
     "output_type": "display_data"
    }
   ],
   "source": [
    "# code your solution to Part C #2 here:\n",
    "#Here, I am assigning the x axis to X=i (or 0, 1, 2). The y-axis are the probabilities given the X\n",
    "x = np.array([0,1,2])\n",
    "y = np.array([4/9,4/9,1/9])\n",
    "\n",
    "plt.xlabel(\"Number of 3's rolled\", fontsize=15)\n",
    "plt.ylabel(\"Probability\", fontsize=15)\n",
    "plt.stem(x, y, use_line_collection = True)\n",
    "plt.show()"
   ]
  },
  {
   "cell_type": "markdown",
   "metadata": {},
   "source": [
    "### Part D\n",
    "***\n",
    "\n",
    "   1] ***(2 points)*** Create a table of values for the CDF.\n",
    "\n",
    "   2] ***(2 points)*** Create a piecewise function for the CDF.\n",
    "\n",
    "   3] ***(4 points)*** Create (code) a graph for the CDF."
   ]
  },
  {
   "cell_type": "markdown",
   "metadata": {},
   "source": [
    "***solution:*** Put your solution to Part D, #1, here:\n",
    "$\\newcommand\\T{\\Rule{0pt}{1em}{.3em}}\n",
    "\\begin{array}{|c|c|}\n",
    "\\hline i & P(X \\leq i) \\T \\\\\\hline\n",
    "  0 \\T & 4/9 \\\\\\hline\n",
    "  1 \\T & 8/9 \\\\\\hline\n",
    "  2 \\T & 1 \\\\\\hline\n",
    "\\end{array}$\n",
    "\n",
    "Here, we simply add up the sum of all previous sums, and X"
   ]
  },
  {
   "cell_type": "markdown",
   "metadata": {},
   "source": [
    "***solution:*** Put your solution to Part D, #2, here:\n",
    "$$\\begin{aligned}\n",
    "CDF = \n",
    "\\left\\{\n",
    "    \\begin{array}{lr}\n",
    "        0, & \\text{if } -\\infty < x < 0\\\\\n",
    "        4/9, & \\text{if } X = 0\\\\\n",
    "        8/9, & \\text{if } X = 1\\\\\n",
    "        1, & \\text{if } 2 \\leq x < \\infty\n",
    "    \\end{array}\n",
    "\\right\\}\n",
    "\\end{aligned}$$\n",
    "\n",
    "If the input is less than 0, no probability exists. If it is greater than or equal to 2, then the probability is 100% for all inputs."
   ]
  },
  {
   "cell_type": "code",
   "execution_count": 4,
   "metadata": {},
   "outputs": [
    {
     "data": {
      "image/png": "[encoded data removed]",
      "text/plain": [
       "<Figure size 432x288 with 1 Axes>"
      ]
     },
     "metadata": {
      "needs_background": "light"
     },
     "output_type": "display_data"
    }
   ],
   "source": [
    "# Code your solution to part D, #3,  here:\n",
    "x = np.array([0,1,2])\n",
    "y = np.array([4/9,8/9,1])\n",
    "\n",
    "plt.xlabel(\"Number of 3's rolled\", fontsize=15)\n",
    "plt.ylabel(\"Probability\", fontsize=15)\n",
    "plt.stem(x, y, use_line_collection = True)\n",
    "plt.show()"
   ]
  },
  {
   "cell_type": "markdown",
   "metadata": {},
   "source": [
    "# Problem 6\n",
    "***\n",
    "\n",
    "### Part A\n",
    "\n",
    "We are still playing with our new three sided die and we are still considering rolling a '3' a success. Only now we are rolling the die 10 times!\n",
    "\n",
    "Suppose you actually rolled the 3-sided die ten times and counted how many times you rolled a '3'.\n",
    "\n",
    "You could get zero amount of 3's.\n",
    "\n",
    "You could roll a '3' only once.\n",
    "\n",
    "You could roll a '3' two out of ten times.\n",
    "\n",
    "You might even roll a '3' ten out of ten times!\n",
    "\n",
    "Write a $\\color{red}{\\text{function}}$ that takes in the parameters $n=10$ (for ten rolls of the 3-sided die) and $p=\\frac{1}{3}$ (for the probability of rolling a '3'). The function should $\\color{red}{\\text{return the PMF}}$ as a Numpy array.\n",
    "\n",
    "***(4 points)*** Use the function to print out the PMF as a table of values after rolling the 3-sided die 10 times.\n",
    "\n",
    "i.e. the table should show the probability of rolling zero 3's, one 3, two 3's,..., ten 3's."
   ]
  },
  {
   "cell_type": "code",
   "execution_count": 5,
   "metadata": {},
   "outputs": [
    {
     "name": "stdout",
     "output_type": "stream",
     "text": [
      "0 | 0.01734\n",
      "1 | 0.08671\n",
      "2 | 0.19509\n",
      "3 | 0.26012\n",
      "4 | 0.22761\n",
      "5 | 0.13656\n",
      "6 | 0.05690\n",
      "7 | 0.01626\n",
      "8 | 0.00305\n",
      "9 | 0.00034\n",
      "10 | 0.00002\n"
     ]
    }
   ],
   "source": [
    "# Put your code to Part A here:\n",
    "def binom_PMF(n, p):\n",
    "    #adds PMF values to an array of size n+1, array is filled with probabilities at that point\n",
    "    pmf = np.array([binom(n,k)*(p**k)*((1-p)**(n-k)) for k in range(n+1)])\n",
    "    return pmf\n",
    "#calling the function with parameter 10, and 1/3\n",
    "pmf = binom_PMF(10,1/3)\n",
    "for k, prob in enumerate(pmf):\n",
    "    print(\"{} | {:0.5f}\".format(k,prob))"
   ]
  },
  {
   "cell_type": "markdown",
   "metadata": {},
   "source": [
    "### Part B\n",
    "\n",
    "Suppose you rolled the die ten times and wrote down how many 3's resulted.\n",
    "\n",
    "Then, you again rolled the die ten times and again wrote down how many 3's resulted.\n",
    "\n",
    "And again you roll ten times and record. And again. And again.\n",
    "\n",
    "In totality, lets say you recorded results 20 times. That is, twenty times in a row you rolled the 3-sided die 10 times and recorded the amount of 3' that appeared out of the 10 rolls.\n",
    "\n",
    "You might get 20 results like [2 2 4 4 2 4 5 2 5 2 2 4 2 1 3 1 3 2 3 3] representing 2 out of 10, 2 out of ten, 4 out of ten, etc.\n",
    "\n",
    "In order to determine how many successes (amount of 3's) TYPICALLY result when you roll this die ten times, you could look at a histogram (a distribution) of your 20 recordings. Better yet, a more accurate picture results from looking at a distribution of 100000 recordings.\n",
    "\n",
    "***(4 points)*** Create (code) a density histogram of 100000 results to get an estimation of the distribution (aka PMF)."
   ]
  },
  {
   "cell_type": "code",
   "execution_count": 6,
   "metadata": {},
   "outputs": [
    {
     "data": {
      "image/png": "[encoded data removed]",
      "text/plain": [
       "<Figure size 432x288 with 1 Axes>"
      ]
     },
     "metadata": {
      "needs_background": "light"
     },
     "output_type": "display_data"
    }
   ],
   "source": [
    "# code your answer to Part B here:\n",
    "n = 10\n",
    "p = 1/3\n",
    "\n",
    "sample = np.random.binomial(n=n, p=p, size=10000)\n",
    "bins = np.arange(-0.5, 10.5, 1)\n",
    "fig, ax = plt.subplots(nrows=1, ncols=1)\n",
    "ax.hist(sample, edgecolor='white', density=True, bins=bins, rwidth=0.8)\n",
    "ax.set_axisbelow(True)\n",
    "ax.grid(alpha=0.25)\n",
    "ax.set_xlim([0, 10]);"
   ]
  },
  {
   "cell_type": "markdown",
   "metadata": {},
   "source": [
    "# Part C\n",
    "\n",
    "***(1 point)*** From the PMF just created, what appears to be the most common result? In other words, how many times will '3' most commonly appear after rolling a 3-sided die ten times?"
   ]
  },
  {
   "cell_type": "markdown",
   "metadata": {},
   "source": [
    "***solution:*** Put your solution to Part C here:\n",
    "\n",
    "According to the above graph, when rolling 10 dice, a 3 most commonly appears 3 times! Next most common is 4 times, then 2 times."
   ]
  },
  {
   "cell_type": "markdown",
   "metadata": {},
   "source": [
    "### Rubric Check\n",
    "***\n",
    "***(5 points)*** Makesure your answers are thorough but not redundant. Explain your answers, don't just put a number. Make sure you have matched your questions on Gradescope. Make sure your PDF is correct and your LaTeX is correct. etc. etc. BE NEAT."
   ]
  },
  {
   "cell_type": "code",
   "execution_count": null,
   "metadata": {},
   "outputs": [],
   "source": []
  }
 ],
 "metadata": {
  "kernelspec": {
   "display_name": "Python 3 (ipykernel)",
   "language": "python",
   "name": "python3"
  },
  "language_info": {
   "codemirror_mode": {
    "name": "ipython",
    "version": 3
   },
   "file_extension": ".py",
   "mimetype": "text/x-python",
   "name": "python",
   "nbconvert_exporter": "python",
   "pygments_lexer": "ipython3",
   "version": "3.10.8"
  }
 },
 "nbformat": 4,
 "nbformat_minor": 4
}
